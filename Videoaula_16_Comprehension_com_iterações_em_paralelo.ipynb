{
  "nbformat": 4,
  "nbformat_minor": 0,
  "metadata": {
    "colab": {
      "provenance": [],
      "authorship_tag": "ABX9TyM86obGIu28WPhFjFmCM5PO",
      "include_colab_link": true
    },
    "kernelspec": {
      "name": "python3",
      "display_name": "Python 3"
    },
    "language_info": {
      "name": "python"
    }
  },
  "cells": [
    {
      "cell_type": "markdown",
      "metadata": {
        "id": "view-in-github",
        "colab_type": "text"
      },
      "source": [
        "<a href=\"https://colab.research.google.com/github/fredericokrohling/1-Python-MBA/blob/main/Videoaula_16_Comprehension_com_itera%C3%A7%C3%B5es_em_paralelo.ipynb\" target=\"_parent\"><img src=\"https://colab.research.google.com/assets/colab-badge.svg\" alt=\"Open In Colab\"/></a>"
      ]
    },
    {
      "cell_type": "markdown",
      "source": [
        "zip percorre multiplas listas nivelando pela a de menor tamanho. Pode ser combinado com comprehension"
      ],
      "metadata": {
        "id": "dzG8MfvU8ims"
      }
    },
    {
      "cell_type": "markdown",
      "source": [],
      "metadata": {
        "id": "ELR9O6RG8pLa"
      }
    },
    {
      "cell_type": "code",
      "execution_count": null,
      "metadata": {
        "colab": {
          "base_uri": "https://localhost:8080/"
        },
        "id": "LjIGB1v13Uee",
        "outputId": "3cb71d6b-e085-4fd9-c26f-edac1d8737d7"
      },
      "outputs": [
        {
          "output_type": "stream",
          "name": "stdout",
          "text": [
            "[1, 2, 3, False, False, 6, False, False]\n"
          ]
        }
      ],
      "source": [
        "v1=[1,2,3,4,5,6,7,8]\n",
        "v2=[1,2,3,5,4,6,8,7]\n",
        "\n",
        "equal_pos=[x if x==y else False for(x,y) in zip(v1,v2)]\n",
        "print(equal_pos)"
      ]
    },
    {
      "cell_type": "code",
      "source": [
        "import math as mt\n",
        "\n",
        "v1=[3,4,5,6,7,8]\n",
        "v2=[3,5,4,6,8,7,9]\n",
        "\n",
        "mult_ls = [x*y for(x,y) in zip(v1,v2)]\n",
        "print(mult_ls)\n"
      ],
      "metadata": {
        "colab": {
          "base_uri": "https://localhost:8080/"
        },
        "id": "lmmgCuTS3mVI",
        "outputId": "fc065550-b1f6-40cd-cddc-db58fa8c2235"
      },
      "execution_count": null,
      "outputs": [
        {
          "output_type": "stream",
          "name": "stdout",
          "text": [
            "[9, 20, 20, 36, 56, 56]\n"
          ]
        }
      ]
    },
    {
      "cell_type": "code",
      "source": [
        "import math as mt\n",
        "\n",
        "def mult_listas(v1,v2):\n",
        "  if len(v1)!=len(v2):\n",
        "    print('Erro: listas com tamanho diferente')\n",
        "    return mt.nan\n",
        "\n",
        "  return [x*y for(x,y) in zip(v1,v2)]"
      ],
      "metadata": {
        "id": "89XZnXU1DpeS"
      },
      "execution_count": null,
      "outputs": []
    },
    {
      "cell_type": "code",
      "source": [
        "v1=[3,4,5,6,7,8]\n",
        "v2=[3,5,4,6,8,7,3]\n",
        "\n",
        "resultado = mult_listas(v1,v2)\n",
        "print(resultado)"
      ],
      "metadata": {
        "colab": {
          "base_uri": "https://localhost:8080/"
        },
        "id": "xmHNq0sIELTT",
        "outputId": "b3fd27d5-4c9b-4afe-dace-09e25aae8808"
      },
      "execution_count": null,
      "outputs": [
        {
          "output_type": "stream",
          "name": "stdout",
          "text": [
            "Erro: listas com tamanho diferente\n",
            "nan\n"
          ]
        }
      ]
    },
    {
      "cell_type": "markdown",
      "source": [
        "Realizando o produto cartesiano de 2 colecoes\n"
      ],
      "metadata": {
        "id": "ziQc8QRiH-aJ"
      }
    },
    {
      "cell_type": "code",
      "source": [
        "A = ['a','v']\n",
        "B = [10,20]\n",
        "\n",
        "produto = [(x,y) for x in A for y in B]\n",
        "print('Com comprehension', produto)"
      ],
      "metadata": {
        "colab": {
          "base_uri": "https://localhost:8080/"
        },
        "id": "4REY4RFqIDxE",
        "outputId": "66e758e2-8c24-4557-894e-116606a54cef"
      },
      "execution_count": null,
      "outputs": [
        {
          "output_type": "stream",
          "name": "stdout",
          "text": [
            "Com comprehension [('a', 10), ('a', 20), ('v', 10), ('v', 20)]\n"
          ]
        }
      ]
    },
    {
      "cell_type": "code",
      "source": [
        "# usando o for\n",
        "prod_cart = set() # set nao permite repetido, fazendo um pouco diferente aqui. Com o set usamos o add e nao append\n",
        "for a in A:\n",
        "  for b in B:\n",
        "    prod_cart.add((a,b))\n",
        "\n",
        "print('Com for:', prod_cart)\n"
      ],
      "metadata": {
        "colab": {
          "base_uri": "https://localhost:8080/"
        },
        "id": "5xeaR4NfIxNI",
        "outputId": "9d4e4a7c-de79-4940-dbba-f38f5cda41d7"
      },
      "execution_count": null,
      "outputs": [
        {
          "output_type": "stream",
          "name": "stdout",
          "text": [
            "Com for: {('a', 20), ('a', 10), ('v', 20), ('v', 10)}\n"
          ]
        }
      ]
    },
    {
      "cell_type": "code",
      "source": [
        "#forma simples de criar listas\n",
        "l1 = list(range(1,10))\n",
        "l2 = list(range(0,26,2))\n",
        "for i,j in zip(l1,l2):\n",
        "  print(i,j) # vai retornar o primeiro elemento de l1 e o primeiro de l2, depois vai para o segundo e assim sucess.\n",
        "# vai percorrer ate o ultimo elemento da menor lista\n",
        "\n",
        "# podemos combinar esse recurso com comprehension\n",
        "\n",
        "\n",
        "\n"
      ],
      "metadata": {
        "colab": {
          "base_uri": "https://localhost:8080/"
        },
        "id": "MPW86_1wDhUR",
        "outputId": "b5d761e9-5019-46f8-a405-67a5ba2dd5e0"
      },
      "execution_count": null,
      "outputs": [
        {
          "output_type": "stream",
          "name": "stdout",
          "text": [
            "1 0\n",
            "2 2\n",
            "3 4\n",
            "4 6\n",
            "5 8\n",
            "6 10\n",
            "7 12\n",
            "8 14\n",
            "9 16\n"
          ]
        }
      ]
    },
    {
      "cell_type": "code",
      "source": [
        "l1=[1,2,3,4,5,5,6,7]\n",
        "l2=[1,2,4,6,5,6,3,7]\n",
        "equal_pos = [x if x==y else False for (x,y) in zip(l1,l2)]\n",
        "print(equal_pos)"
      ],
      "metadata": {
        "colab": {
          "base_uri": "https://localhost:8080/"
        },
        "id": "qwVaP0NbE-0q",
        "outputId": "1ba5949e-7ee8-4f47-8bf7-2e3e6bcec7c1"
      },
      "execution_count": null,
      "outputs": [
        {
          "output_type": "stream",
          "name": "stdout",
          "text": [
            "[1, 2, False, False, 5, False, False, 7]\n"
          ]
        }
      ]
    },
    {
      "cell_type": "code",
      "source": [
        "l1=[2,3,4,5]\n",
        "l2=[0,5,6,7]\n",
        "l3 = mult_lst(l1,l2)\n",
        "print(l3)\n"
      ],
      "metadata": {
        "colab": {
          "base_uri": "https://localhost:8080/"
        },
        "id": "c5TVXwZ9FATi",
        "outputId": "20f9c7af-b815-41d0-e8ec-a25885cb89d6"
      },
      "execution_count": null,
      "outputs": [
        {
          "output_type": "stream",
          "name": "stdout",
          "text": [
            "[0, 15, 24, 35]\n"
          ]
        }
      ]
    },
    {
      "cell_type": "code",
      "source": [
        "def mult_lst(l1,l2):\n",
        "  mult = [x*y for(x,y) in zip(l1,l2)]\n",
        "  return mult\n"
      ],
      "metadata": {
        "id": "PpwAuk3vF8ju"
      },
      "execution_count": null,
      "outputs": []
    },
    {
      "cell_type": "markdown",
      "source": [
        "COMPREHENSIONS ANINHADOS - UMA APLICACAO EH GERAR O PRODUTO CARTESIANO DE 2 COLECOES\n",
        "\n",
        "lista = [<expressao> for <var_local1> in <objeto1> if <condicao1>\n",
        "for <var_local2> in <objeto2> if <condicao2>]\n",
        "\n",
        "Esse resultado e equivalente a:\n",
        "lista = []\n",
        "\n",
        "for var_local1 in objeto1:\n",
        "  if condicao1:\n",
        "    for var_local2 in objeto2:\n",
        "      if condicao2:\n",
        "        lista.append(expressao)\n",
        "  "
      ],
      "metadata": {
        "id": "uDGmLwsOI7_F"
      }
    },
    {
      "cell_type": "markdown",
      "source": [
        "Criando a mesma estrutura com um elemento do tipo SET, sem comprehension\n",
        "\n",
        "prod_cart_for = set()\n",
        "for a in A:\n",
        "  for b in B:\n",
        "    prod_cart_for.add((a,b))\n",
        "     \n",
        "    //no set nao usamos o append"
      ],
      "metadata": {
        "id": "noOTMiD_NLjy"
      }
    },
    {
      "cell_type": "code",
      "source": [
        "# Criar 2 listas dentro de uma lista\n",
        "\n",
        "lista_listas = [[x for x in range(1,6)] for _ in range(2)]\n",
        "print(lista_listas)"
      ],
      "metadata": {
        "id": "LRHdDlLlJBvb",
        "colab": {
          "base_uri": "https://localhost:8080/"
        },
        "outputId": "e6adb944-0896-4c14-f13d-096635455b0b"
      },
      "execution_count": 3,
      "outputs": [
        {
          "output_type": "stream",
          "name": "stdout",
          "text": [
            "[[1, 2, 3, 4, 5], [1, 2, 3, 4, 5]]\n"
          ]
        }
      ]
    },
    {
      "cell_type": "code",
      "source": [
        "# Criar 2 listas dentro de uma lista, com um detalhe interessante\n",
        "\n",
        "lista_listas = [[x*l for x in range(1,6)] for l in range(5)]\n",
        "print(lista_listas)"
      ],
      "metadata": {
        "colab": {
          "base_uri": "https://localhost:8080/",
          "height": 109
        },
        "id": "g5rSGSswOR4U",
        "outputId": "e2974310-5614-4671-c05c-060622c43dda"
      },
      "execution_count": 10,
      "outputs": [
        {
          "output_type": "error",
          "ename": "SyntaxError",
          "evalue": "invalid syntax (<ipython-input-10-1e3a8bc06f60>, line 4)",
          "traceback": [
            "\u001b[0;36m  File \u001b[0;32m\"<ipython-input-10-1e3a8bc06f60>\"\u001b[0;36m, line \u001b[0;32m4\u001b[0m\n\u001b[0;31m    lista_listas = np.array[[x*l for x in range(1,6)] for l in range(5)]\u001b[0m\n\u001b[0m                                                      ^\u001b[0m\n\u001b[0;31mSyntaxError\u001b[0m\u001b[0;31m:\u001b[0m invalid syntax\n"
          ]
        }
      ]
    },
    {
      "cell_type": "code",
      "source": [
        "#linda implementacao que eu fiz PARABENS, ficou mais legal que a do professor\n",
        "import numpy as np\n",
        "n = 3\n",
        "pos = 0\n",
        "linha = np.array([[1 if x == pos else 0 for x in range(n)] for pos in range(3)])\n",
        "print(linha)\n"
      ],
      "metadata": {
        "colab": {
          "base_uri": "https://localhost:8080/"
        },
        "id": "fgw8KjwwOcat",
        "outputId": "3defa4b0-69d4-4bd6-a7af-53832b74cbbf"
      },
      "execution_count": 17,
      "outputs": [
        {
          "output_type": "stream",
          "name": "stdout",
          "text": [
            "[[1 0 0]\n",
            " [0 1 0]\n",
            " [0 0 1]]\n"
          ]
        }
      ]
    },
    {
      "cell_type": "code",
      "source": [
        "# ele fez assim\n",
        "n = 3\n",
        "pos = 0\n",
        "linhas = [[1 if x == pos else 0 for x in range(n)] for pos in range(n)]\n",
        "\n",
        "#interessante essa forma de imprimir o conteudo\n",
        "for lin in linhas:\n",
        "  print(lin)\n"
      ],
      "metadata": {
        "colab": {
          "base_uri": "https://localhost:8080/"
        },
        "id": "yfv1hqkMTItX",
        "outputId": "4e1a0dd5-e78b-457c-ecf5-d506391cd911"
      },
      "execution_count": 23,
      "outputs": [
        {
          "output_type": "stream",
          "name": "stdout",
          "text": [
            "[1, 0, 0]\n",
            "[0, 1, 0]\n",
            "[0, 0, 1]\n"
          ]
        }
      ]
    },
    {
      "cell_type": "code",
      "source": [
        "#exe 2.4 - desafio - resolvi so, TOP!!!!\n",
        "i= 0\n",
        "j = 0\n",
        "n = 3\n",
        "\n",
        "linhaz = [[i+j*i for j in range(n)] for i in range(n)]\n",
        "\n",
        "for linb in linhaz:\n",
        "  print(linb)"
      ],
      "metadata": {
        "colab": {
          "base_uri": "https://localhost:8080/"
        },
        "id": "uUT4dBGUT20X",
        "outputId": "470ef0d9-f234-4023-8934-249b02557927"
      },
      "execution_count": 31,
      "outputs": [
        {
          "output_type": "stream",
          "name": "stdout",
          "text": [
            "[0, 0, 0]\n",
            "[1, 2, 3]\n",
            "[2, 4, 6]\n"
          ]
        }
      ]
    }
  ]
}