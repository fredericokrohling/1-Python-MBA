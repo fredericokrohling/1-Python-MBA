{
  "cells": [
    {
      "cell_type": "markdown",
      "metadata": {
        "id": "view-in-github",
        "colab_type": "text"
      },
      "source": [
        "<a href=\"https://colab.research.google.com/github/fredericokrohling/1-Python-MBA/blob/main/Exerc%C3%ADcios_de_fixa%C3%A7%C3%A3o_resolvidos_parte2_(2).ipynb\" target=\"_parent\"><img src=\"https://colab.research.google.com/assets/colab-badge.svg\" alt=\"Open In Colab\"/></a>"
      ]
    },
    {
      "cell_type": "markdown",
      "metadata": {
        "id": "vyLGSxGZDLMK"
      },
      "source": [
        "# Exercícios de fixação\n",
        "\n",
        "Os seguintes exercícios se referem ao conteúdo quinzenal de disciplina de Introdução à Computação e Programação."
      ]
    },
    {
      "cell_type": "code",
      "source": [],
      "metadata": {
        "id": "p7ptYsDGaHwb"
      },
      "execution_count": null,
      "outputs": []
    },
    {
      "cell_type": "markdown",
      "metadata": {
        "id": "YHLjVJLMEHFT"
      },
      "source": [
        "1) Ler a temperatura média de cada mês do ano e armazená-las em uma lista. Mostrar todas as temperaturas acima da média anual, e em que mês elas ocorreram. Escrever o mês por extenso (e.g., 1->janeiro, 2->fevereiro, etc.)."
      ]
    },
    {
      "cell_type": "code",
      "execution_count": null,
      "metadata": {
        "id": "039YHIJAJLcU",
        "colab": {
          "base_uri": "https://localhost:8080/"
        },
        "outputId": "594ed11e-ebc5-4481-d607-aa492a6627bc"
      },
      "outputs": [
        {
          "output_type": "stream",
          "name": "stdout",
          "text": [
            "janeiro\n",
            "Digite a temperatura: 29.9\n",
            "fevereiro\n",
            "Digite a temperatura: 28.8\n",
            "marco\n",
            "Digite a temperatura: 27.7\n",
            "abril\n",
            "Digite a temperatura: 26.6\n",
            "maio\n",
            "Digite a temperatura: 25.5\n",
            "junho\n",
            "Digite a temperatura: 24.4\n",
            "julho\n",
            "Digite a temperatura: 23.3\n",
            "agosto\n",
            "Digite a temperatura: 21.1\n",
            "setembro\n",
            "Digite a temperatura: 22.2\n",
            "outubro\n",
            "Digite a temperatura: 20.0\n",
            "novembro\n",
            "Digite a temperatura: 30.0\n",
            "dezembro\n",
            "Digite a temperatura: 31.1\n",
            "Meses com temperatura acima da média:\n",
            "janeiro (29.90)\n",
            "fevereiro (28.80)\n",
            "marco (27.70)\n",
            "abril (26.60)\n",
            "novembro (30.00)\n",
            "dezembro (31.10)\n"
          ]
        }
      ],
      "source": [
        "meses = ['janeiro', 'fevereiro', 'marco', 'abril',\n",
        "         'maio', 'junho', 'julho', 'agosto', 'setembro',\n",
        "         'outubro', 'novembro', 'dezembro']\n",
        "soma_temp = 0\n",
        "lista_temp = list()\n",
        "for i in range(len(meses)):\n",
        "  print(meses[i])\n",
        "  temperatura = float(input('Digite a temperatura: '))\n",
        "  soma_temp += temperatura\n",
        "  lista_temp.append(temperatura)\n",
        "\n",
        "media_anual = soma_temp / len(meses)\n",
        "print('Meses com temperatura acima da média:')\n",
        "for i in range(len(lista_temp)):\n",
        "  if lista_temp[i] > media_anual:\n",
        "    print('%s (%.2f)' % (meses[i], lista_temp[i]))"
      ]
    },
    {
      "cell_type": "markdown",
      "metadata": {
        "id": "APisv1f-DlaO"
      },
      "source": [
        "2) Criar uma função que recebe uma lista e retorna a soma de todos os seus elementos."
      ]
    },
    {
      "cell_type": "code",
      "execution_count": null,
      "metadata": {
        "id": "2y-uFE_zF5fr"
      },
      "outputs": [],
      "source": [
        "def soma_lista(l):\n",
        "  s = 0\n",
        "  for x in l:\n",
        "    s += x\n",
        "  return s"
      ]
    },
    {
      "cell_type": "code",
      "execution_count": null,
      "metadata": {
        "colab": {
          "base_uri": "https://localhost:8080/"
        },
        "id": "v9Y0jLrVGAQN",
        "outputId": "e2edeb39-57e7-461a-b849-988c09abafb9"
      },
      "outputs": [
        {
          "output_type": "stream",
          "name": "stdout",
          "text": [
            "Soma dos elementos (função soma_lista()): 226\n"
          ]
        }
      ],
      "source": [
        "l = [23, 55, 47,94, 2, 5]\n",
        "elementos_somados = soma_lista(l)\n",
        "\n",
        "print('Soma dos elementos (função soma_lista()):', elementos_somados)"
      ]
    },
    {
      "cell_type": "markdown",
      "metadata": {
        "id": "RdZa0mVPDwFT"
      },
      "source": [
        "3) Criar uma função que recebe uma lista como parâmetro, e retorna uma nova lista contendo apenas os seus números pares."
      ]
    },
    {
      "cell_type": "code",
      "execution_count": null,
      "metadata": {
        "id": "PQQb9v1_GNv6"
      },
      "outputs": [],
      "source": [
        "def pares(l):\n",
        "  ret = []\n",
        "  for x in l:\n",
        "    if x%2==0:\n",
        "      ret.append(x)\n",
        "  return ret"
      ]
    },
    {
      "cell_type": "code",
      "execution_count": null,
      "metadata": {
        "colab": {
          "base_uri": "https://localhost:8080/"
        },
        "id": "AQjuoZQ4GUAi",
        "outputId": "d152bc9b-611b-4c3f-8a0e-f88df5256c93"
      },
      "outputs": [
        {
          "output_type": "stream",
          "name": "stdout",
          "text": [
            "[2, 6, 82, 106]\n"
          ]
        }
      ],
      "source": [
        "print(pares([1,2,5,6,71,82,97,106]))"
      ]
    },
    {
      "cell_type": "markdown",
      "metadata": {
        "id": "2QHBUjewE8HO"
      },
      "source": [
        "4) Criar uma função para ler um valor $n$ inteiro e positivo e calcular a seguinte soma:  \n",
        "\n",
        "$$ S = 1 + \\frac{1}{2} + \\frac{1}{3} + \\dots + \\frac{1}{n} $$"
      ]
    },
    {
      "cell_type": "code",
      "execution_count": null,
      "metadata": {
        "id": "iD55CPXRIeJc"
      },
      "outputs": [],
      "source": [
        "def soma_s(n):\n",
        "    s = 0\n",
        "    for i in range(n):\n",
        "        s = s + 1/(i+1)\n",
        "    return s"
      ]
    },
    {
      "cell_type": "code",
      "execution_count": null,
      "metadata": {
        "id": "Lcs_w6GEIxGK",
        "colab": {
          "base_uri": "https://localhost:8080/"
        },
        "outputId": "a75de29f-f4a1-4ed7-fac4-f75615be0c91"
      },
      "outputs": [
        {
          "output_type": "execute_result",
          "data": {
            "text/plain": [
              "1.8333333333333333"
            ]
          },
          "metadata": {},
          "execution_count": 20
        }
      ],
      "source": [
        "soma_s(3)"
      ]
    },
    {
      "cell_type": "markdown",
      "metadata": {
        "id": "P-MT5ZCOD2fc"
      },
      "source": [
        "5) Criar uma função que recebe uma lista e retorna uma nova lista com elementos únicos da primeira lista.\n",
        "\n",
        "**Exemplo:**\n",
        "\n",
        "Parâmetro: [1,2,3,3,3,3,4,5]\n",
        "\n",
        "Retorno: [1, 2, 3, 4, 5]"
      ]
    },
    {
      "cell_type": "code",
      "execution_count": null,
      "metadata": {
        "id": "4b9lBaTKGY_U"
      },
      "outputs": [],
      "source": [
        "def elem_unicos(l):\n",
        "  ret = []\n",
        "  for x in l:\n",
        "    if not x in ret:\n",
        "      ret.append(x)\n",
        "  return ret"
      ]
    },
    {
      "cell_type": "code",
      "execution_count": null,
      "metadata": {
        "colab": {
          "base_uri": "https://localhost:8080/"
        },
        "id": "_aAjcZ29GZpr",
        "outputId": "ef88ee40-1c8f-4151-fa6b-716d9b122d3d"
      },
      "outputs": [
        {
          "output_type": "stream",
          "name": "stdout",
          "text": [
            "[1, 2, 3, 4, 5]\n"
          ]
        }
      ],
      "source": [
        "print(elem_unicos([1,2,3,3,3,3,4,5]))"
      ]
    },
    {
      "cell_type": "markdown",
      "metadata": {
        "id": "i4nlM-XfECE2"
      },
      "source": [
        "6) Criar uma função para determinar o segundo maior elemento de uma dada lista."
      ]
    },
    {
      "cell_type": "code",
      "execution_count": null,
      "metadata": {
        "id": "HswX7JvAGfz8"
      },
      "outputs": [],
      "source": [
        "def segundo_maior(l):\n",
        "    if l[0] > l[1]:\n",
        "        maior = l[0]\n",
        "        s_maior = l[1]\n",
        "    else:\n",
        "        maior = l[1]\n",
        "        s_maior = l[0]\n",
        "\n",
        "\n",
        "        if l[i] > maior:\n",
        "            s_maior = maior\n",
        "            maior = l[i]\n",
        "        elif l[i] > s_maior:\n",
        "            s_maior = l[i]\n",
        "    return s_maior"
      ]
    },
    {
      "cell_type": "code",
      "execution_count": null,
      "metadata": {
        "id": "ipe0INzQGvoA",
        "colab": {
          "base_uri": "https://localhost:8080/"
        },
        "outputId": "072f8e55-5d97-4653-a1d5-d6a80d811913"
      },
      "outputs": [
        {
          "output_type": "stream",
          "name": "stdout",
          "text": [
            "14\n"
          ]
        }
      ],
      "source": [
        "lista = [3, 20, 7, 8, 1, 10, 14, 9, 12, 11]\n",
        "print(segundo_maior(lista))"
      ]
    },
    {
      "cell_type": "markdown",
      "metadata": {
        "id": "RJ4Pj8kcFdrF"
      },
      "source": [
        "7) Criar uma função que receba os valores $a$, $b$ e $k$, e retorne uma lista com os múltiplos de $k$ no intervalo $[a,b]$."
      ]
    },
    {
      "cell_type": "code",
      "execution_count": null,
      "metadata": {
        "id": "p39dtZVAHHaN"
      },
      "outputs": [],
      "source": [
        "def multiplos(a,b,k):\n",
        "    lista = list()\n",
        "    for i in range(a,b+1):\n",
        "        if i%k == 0:\n",
        "            lista.append(i)\n",
        "    return lista"
      ]
    },
    {
      "cell_type": "code",
      "execution_count": null,
      "metadata": {
        "id": "SpkzSR0NHZXr",
        "colab": {
          "base_uri": "https://localhost:8080/"
        },
        "outputId": "45b3b652-c0df-43fb-b04a-befed5dfde00"
      },
      "outputs": [
        {
          "output_type": "stream",
          "name": "stdout",
          "text": [
            "[3, 6, 9, 12, 15, 18, 21, 24, 27, 30, 33, 36, 39]\n"
          ]
        }
      ],
      "source": [
        "print(multiplos(3,40,3))"
      ]
    },
    {
      "cell_type": "markdown",
      "metadata": {
        "id": "f6-PTYWCEgqt"
      },
      "source": [
        "8) Criar uma função que recebe uma lista com $N$ números reais e retorna uma lista com os números ordenados do menor para o maior. **Não** usar o método `sort()` ou equivalentes."
      ]
    },
    {
      "cell_type": "code",
      "execution_count": null,
      "metadata": {
        "id": "CjLig0-8Hpg0"
      },
      "outputs": [],
      "source": [
        "def ordenar(l):\n",
        "    for i in range(len(l)):\n",
        "        idx_sel = i\n",
        "        for j in range(i,len(l)):\n",
        "            if l[j] < l[idx_sel]:\n",
        "              idx_sel = j\n",
        "        aux = l[i]\n",
        "        l[i] = l[idx_sel]\n",
        "        l[idx_sel] = aux\n",
        "    return l"
      ]
    },
    {
      "cell_type": "code",
      "execution_count": null,
      "metadata": {
        "colab": {
          "base_uri": "https://localhost:8080/"
        },
        "id": "D4lhGNdHH77q",
        "outputId": "3249644c-3203-4870-e092-e6cf3ef26b0b"
      },
      "outputs": [
        {
          "output_type": "stream",
          "name": "stdout",
          "text": [
            "[1, 2, 3, 7, 8, 9, 10, 12, 14]\n"
          ]
        }
      ],
      "source": [
        "lista = [3, 2, 7, 8, 1, 10, 14, 9, 12]\n",
        "print(ordenar(lista))"
      ]
    },
    {
      "cell_type": "markdown",
      "metadata": {
        "id": "eAXCOH0eFRQu"
      },
      "source": [
        "9) Criar uma função para verificar se duas listas são circularmente idênticas."
      ]
    },
    {
      "cell_type": "code",
      "source": [
        "6 % 8"
      ],
      "metadata": {
        "colab": {
          "base_uri": "https://localhost:8080/"
        },
        "id": "AbuFcXFJFc85",
        "outputId": "4cf2e7b4-95ff-496b-b0e3-5bc93bd7e0c4"
      },
      "execution_count": null,
      "outputs": [
        {
          "output_type": "execute_result",
          "data": {
            "text/plain": [
              "6"
            ]
          },
          "metadata": {},
          "execution_count": 33
        }
      ]
    },
    {
      "cell_type": "code",
      "execution_count": null,
      "metadata": {
        "id": "zDyYmreHK0nF"
      },
      "outputs": [],
      "source": [
        "def circ_identicas(l1, l2):\n",
        "    for i in range(len(l1)):\n",
        "        identicas = True\n",
        "        for j in range(len(l2)):\n",
        "            j_rot = (j+i) % len(l2)\n",
        "            if l1[j] != l2[j_rot]:\n",
        "                identicas = False\n",
        "        if identicas:\n",
        "            break\n",
        "    return identicas"
      ]
    },
    {
      "cell_type": "code",
      "execution_count": null,
      "metadata": {
        "colab": {
          "base_uri": "https://localhost:8080/"
        },
        "id": "pghQQRmcLC6K",
        "outputId": "999efffc-abd2-4ee8-94c9-4c310797fc1e"
      },
      "outputs": [
        {
          "output_type": "stream",
          "name": "stdout",
          "text": [
            "True\n",
            "False\n"
          ]
        }
      ],
      "source": [
        "l1 = [1,2,3,4,5,6,7,8]\n",
        "l2 = [3,4,5,6,7,8,1,2]\n",
        "l3 = [3,3,5,6,7,8,1,2]\n",
        "\n",
        "print(circ_identicas(l1,l2))\n",
        "print(circ_identicas(l1,l3))"
      ]
    },
    {
      "cell_type": "markdown",
      "metadata": {
        "id": "lA9bzhKnEm2J"
      },
      "source": [
        "10) Criar uma função que recebe uma lista com número diário de casos de uma doença e retorne a média móvel de 3 dias. Note que essa média não existe para os primeiros dois dias da sequência."
      ]
    },
    {
      "cell_type": "code",
      "execution_count": null,
      "metadata": {
        "id": "fuwk39inJfOt"
      },
      "outputs": [],
      "source": [
        "def media_movel(l):\n",
        "    l_medias = list()\n",
        "    for i in range(2,len(l)):\n",
        "        media = (l[i]+l[i-1]+l[i-2]) / 3\n",
        "        l_medias.append(media)\n",
        "    return l_medias"
      ]
    },
    {
      "cell_type": "code",
      "execution_count": null,
      "metadata": {
        "id": "iIEKtAZqL9UX",
        "colab": {
          "base_uri": "https://localhost:8080/"
        },
        "outputId": "24ea75a2-8ca5-4a7a-df5b-79351cc82c41"
      },
      "outputs": [
        {
          "output_type": "stream",
          "name": "stdout",
          "text": [
            "[185.66666666666666, 134.66666666666666, 145.66666666666666, 233.66666666666666, 214.0]\n"
          ]
        }
      ],
      "source": [
        "l = [212,345,0,59,378,264,0]\n",
        "print(media_movel(l))"
      ]
    }
  ],
  "metadata": {
    "colab": {
      "provenance": [],
      "include_colab_link": true
    },
    "kernelspec": {
      "display_name": "Python 3",
      "name": "python3"
    },
    "language_info": {
      "name": "python"
    }
  },
  "nbformat": 4,
  "nbformat_minor": 0
}