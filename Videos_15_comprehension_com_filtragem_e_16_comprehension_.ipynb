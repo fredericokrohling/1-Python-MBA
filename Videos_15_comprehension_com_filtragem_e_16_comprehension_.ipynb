{
  "nbformat": 4,
  "nbformat_minor": 0,
  "metadata": {
    "colab": {
      "provenance": [],
      "authorship_tag": "ABX9TyNgTPqwSy5AowIDwteLa/r8",
      "include_colab_link": true
    },
    "kernelspec": {
      "name": "python3",
      "display_name": "Python 3"
    },
    "language_info": {
      "name": "python"
    }
  },
  "cells": [
    {
      "cell_type": "markdown",
      "metadata": {
        "id": "view-in-github",
        "colab_type": "text"
      },
      "source": [
        "<a href=\"https://colab.research.google.com/github/fredericokrohling/1-Python-MBA/blob/main/Videos_15_comprehension_com_filtragem_e_16_comprehension_.ipynb\" target=\"_parent\"><img src=\"https://colab.research.google.com/assets/colab-badge.svg\" alt=\"Open In Colab\"/></a>"
      ]
    },
    {
      "cell_type": "markdown",
      "source": [
        "# #inserindo um If no comprehension, para filtrar caso seja satisfeito\n"
      ],
      "metadata": {
        "id": "M5LBpAkamOyy"
      }
    },
    {
      "cell_type": "code",
      "execution_count": 6,
      "metadata": {
        "colab": {
          "base_uri": "https://localhost:8080/"
        },
        "id": "sefZHPO1mEkn",
        "outputId": "8da1f573-dd0e-41d1-e4df-4d9e980b2319"
      },
      "outputs": [
        {
          "output_type": "stream",
          "name": "stdout",
          "text": [
            "[361, 289, 225, 169, 121, 81, 49, 25, 9, 1, 1, 9, 25, 49, 81, 121, 169, 225, 289, 361]\n",
            "[-27000, -21952, -17576, -13824, -10648, -8000, -5832, -4096, -2744, -1728, -1000, -512, -216, -64, -8, 0, 8, 64, 216, 512, 1000, 1728, 2744, 4096, 5832, 8000, 10648, 13824, 17576, 21952]\n"
          ]
        }
      ],
      "source": [
        "#inserindo um If no comprehension, para filtrar caso seja satisfeito\n",
        "#Gerar o quadrado dos numeros entre -20 e 20 e montar uma lista apenas com os numeros impares resultantes\n",
        "\n",
        "lista_impar = [x**2 for x in range(-20,20) if (x**2)%2 !=0]\n",
        "print(lista_impar)\n",
        "\n",
        "m =[x**3 for x in range(-30,30) if (x**3) %2 ==0]\n",
        "print(m)\n",
        "\n"
      ]
    },
    {
      "cell_type": "code",
      "source": [
        "#iterando por uma lista e retornando as disciplinas com mais de 3 creditos\n",
        "# Cada elemento da lista eh uma tupla\n",
        "\n",
        "disciplinas =[('a',2),('b',1),('c',4),('d',2),('e',3),('f',3),('g',5)]\n",
        "\n",
        "dmaior3 = [(nome,cred) for (nome,cred) in disciplinas if cred >=3]\n",
        "\n",
        "print(dmaior3)\n",
        "\n",
        "# DUVIDA, COMO A NOVA LISTA ACUMULA VALORES SEM UM APPEND?\n",
        "\n",
        "\n",
        "\n",
        "\n",
        "\n"
      ],
      "metadata": {
        "colab": {
          "base_uri": "https://localhost:8080/"
        },
        "id": "KN68TjldmiIy",
        "outputId": "732de1c8-3d1e-45c9-c828-4d4a1ecd515e"
      },
      "execution_count": 1,
      "outputs": [
        {
          "output_type": "stream",
          "name": "stdout",
          "text": [
            "[('c', 4), ('e', 3), ('f', 3), ('g', 5)]\n"
          ]
        }
      ]
    },
    {
      "cell_type": "markdown",
      "source": [
        "Fazendo a mesma coisa sem o comprehension"
      ],
      "metadata": {
        "id": "-gE4gWxUyGn8"
      }
    },
    {
      "cell_type": "code",
      "source": [
        "# metodo tradicional\n",
        "disciplinas =[('a',2),('b',1),('c',4),('d',2),('e',3),('f',3),('g',5)]\n",
        "\n",
        "disMaior3 = list() #outra forma de se criar listas\n",
        "for (nome, cred) in disciplinas:\n",
        "  if (cred>= 3):\n",
        "    disMaior3.append((nome, cred))\n",
        "print(disMaior3)\n",
        "\n",
        "\n"
      ],
      "metadata": {
        "colab": {
          "base_uri": "https://localhost:8080/"
        },
        "id": "M03ngRf7miFA",
        "outputId": "ceced2ac-0713-40a1-9f3a-5a881b5d09b7"
      },
      "execution_count": 3,
      "outputs": [
        {
          "output_type": "stream",
          "name": "stdout",
          "text": [
            "[('c', 4), ('e', 3), ('f', 3), ('g', 5)]\n"
          ]
        }
      ]
    },
    {
      "cell_type": "markdown",
      "source": [
        "Usando IF-Else (PRECISA SER POSICIONADO ANTES DO FOR)"
      ],
      "metadata": {
        "id": "wD_rNH-Gx1bz"
      }
    },
    {
      "cell_type": "code",
      "source": [
        "# COMPUTAR O QUADRADO DOS NUMEROS ENTRE -10 E 30. SE O RESULTADO FOR PAR SUBSTITUIR POR -1\n",
        "\n",
        "l =[x**2 if (x**2)%2 !=0 else -1 for x in range(-10, 31)]\n",
        "print(l)"
      ],
      "metadata": {
        "colab": {
          "base_uri": "https://localhost:8080/"
        },
        "id": "0Akz7pbUmiBs",
        "outputId": "898eb326-31d0-496c-f95d-5b91ed1a26a3"
      },
      "execution_count": 5,
      "outputs": [
        {
          "output_type": "stream",
          "name": "stdout",
          "text": [
            "[-1, 81, -1, 49, -1, 25, -1, 9, -1, 1, -1, 1, -1, 9, -1, 25, -1, 49, -1, 81, -1, 121, -1, 169, -1, 225, -1, 289, -1, 361, -1, 441, -1, 529, -1, 625, -1, 729, -1, 841, -1]\n"
          ]
        }
      ]
    },
    {
      "cell_type": "markdown",
      "source": [
        "A partir de um vetor com numeros inteiros aleatorios, calular o seu log e criar uma lista com o resultado. Se o fumero for 0 substituir o valor por nan (bib math)"
      ],
      "metadata": {
        "id": "HhwPeXv9zXb8"
      }
    },
    {
      "cell_type": "code",
      "source": [
        "import random as rd\n",
        "import math as mt\n",
        "n=25\n",
        "#rand_num = [rd.randint(0,10) for _ in range(n)]\n",
        "\n",
        "v = [mt.log(y) if y!=0 else mt.nan for y in [rd.randint(0,10) for _ in range(n)]]\n",
        "print(v)"
      ],
      "metadata": {
        "colab": {
          "base_uri": "https://localhost:8080/"
        },
        "id": "hlxaeXbIzlcC",
        "outputId": "2f433c32-1307-4e2e-af6a-cf824da93b19"
      },
      "execution_count": 18,
      "outputs": [
        {
          "output_type": "stream",
          "name": "stdout",
          "text": [
            "[nan, 1.3862943611198906, 1.3862943611198906, 1.6094379124341003, 1.791759469228055, 1.9459101490553132, nan, 0.6931471805599453, 1.0986122886681098, 2.1972245773362196, 2.0794415416798357, 1.6094379124341003, 1.9459101490553132, 2.0794415416798357, 2.1972245773362196, 1.0986122886681098, 1.3862943611198906, 0.6931471805599453, 1.9459101490553132, 1.6094379124341003, 2.1972245773362196, 1.3862943611198906, 1.9459101490553132, 1.9459101490553132, 2.1972245773362196]\n"
          ]
        }
      ]
    }
  ]
}