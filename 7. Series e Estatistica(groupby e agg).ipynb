{
  "cells": [
    {
      "cell_type": "markdown",
      "metadata": {
        "id": "view-in-github",
        "colab_type": "text"
      },
      "source": [
        "<a href=\"https://colab.research.google.com/github/fredericokrohling/1-Python-MBA/blob/main/Semana2%2018%20a%2020.ipynb\" target=\"_parent\"><img src=\"https://colab.research.google.com/assets/colab-badge.svg\" alt=\"Open In Colab\"/></a>"
      ]
    },
    {
      "cell_type": "markdown",
      "metadata": {
        "id": "fp1KQp06tfoY"
      },
      "source": [
        "# <font color=\"red\"> MBA em IA e Big Data</font>\n",
        "## <span style=\"color:red\">Linguagens e Ferramentas para Inteligência Artificial e Big Data (Python e SQL)</span>\n",
        "\n",
        "### <span style=\"color:darkred\">Pandas: parte 2</span>\n",
        "\n",
        "*Leandro Franco de Souza*<br>\n",
        "*ICMC/USP São Carlos*\n",
        "\n",
        "*(com material dos Profs. Moacir Antonelli Ponti e Luis Gustavo Nonato)*"
      ]
    },
    {
      "cell_type": "markdown",
      "metadata": {
        "id": "HN-44yqxtfoc"
      },
      "source": [
        "__Conteúdo:__\n",
        "\n",
        "- Series\n",
        "- Estatísticas\n",
        "- Filtragem Agrupada\n",
        "- Limpeza de Dados\n",
        "- Preparação de Dados\n",
        "\n",
        "__Referências__ <br>\n",
        "- McKinney, W. and PyData Development Team [Pandas: powerful Python data analysis toolkit](https://pandas.pydata.org/pandas-docs/stable/pandas.pdf)\n",
        "- Documentação Pandas [http://pandas.pydata.org/pandas-docs/stable/index.html](http://pandas.pydata.org/pandas-docs/stable/index.html)\n",
        "- Wickham, H. Tidy data: https://vita.had.co.nz/papers/tidy-data.pdf"
      ]
    },
    {
      "cell_type": "code",
      "execution_count": null,
      "metadata": {
        "id": "cGjVXBZJ7cNE"
      },
      "outputs": [],
      "source": [
        "import pandas as pd\n",
        "import numpy as np"
      ]
    },
    {
      "cell_type": "markdown",
      "metadata": {
        "id": "2HdFSQkD7cNG"
      },
      "source": [
        "# Series\n",
        "\n",
        "> Array unidimensional com um determinado tipo de dado\n",
        "\n",
        "É similar a um dicionário, possuindo índice (que pode funcionar como chave) e valores.\n",
        "\n",
        "Uma série pode ser obtida a partir de uma *coluna* de um dataframe\n",
        "\n",
        "Pode ser criada por meio de um array numpy, um dicionário ou até um único escalar"
      ]
    },
    {
      "cell_type": "code",
      "execution_count": null,
      "metadata": {
        "id": "tgouCCM-7cNH",
        "outputId": "84870939-be95-4a0a-afd7-7401fa03c52d"
      },
      "outputs": [
        {
          "name": "stdout",
          "output_type": "stream",
          "text": [
            "0    0.360171\n",
            "1    0.774329\n",
            "2    0.128181\n",
            "3    0.074965\n",
            "4    0.453658\n",
            "5    0.683874\n",
            "6    0.732500\n",
            "7    0.793070\n",
            "dtype: float64\n"
          ]
        }
      ],
      "source": [
        "serie_aleat = pd.Series(np.random.rand(8))\n",
        "print(serie_aleat)"
      ]
    },
    {
      "cell_type": "markdown",
      "metadata": {
        "id": "MC0zeI627cNJ"
      },
      "source": [
        "Note que o índice dessa série, como não foi especificado, é numérico iniciando em 0"
      ]
    },
    {
      "cell_type": "code",
      "execution_count": null,
      "metadata": {
        "id": "fo1aMnI-7cNJ"
      },
      "outputs": [],
      "source": [
        "veic = {\n",
        "    'AAA0A00': 1980,\n",
        "    'BBB1B11': 2001,\n",
        "    'CCC2C22': 1984,\n",
        "    'DDD3D33': 2010,\n",
        "    'EEE13E4': 2011}"
      ]
    },
    {
      "cell_type": "code",
      "execution_count": null,
      "metadata": {
        "id": "MDfo0rPS7cNK",
        "outputId": "7d124ad0-db23-4302-deca-cf11d1e40416"
      },
      "outputs": [
        {
          "name": "stdout",
          "output_type": "stream",
          "text": [
            "AAA0A00    1980\n",
            "BBB1B11    2001\n",
            "CCC2C22    1984\n",
            "DDD3D33    2010\n",
            "EEE13E4    2011\n",
            "dtype: int64\n"
          ]
        }
      ],
      "source": [
        "s_veic = pd.Series(veic)\n",
        "print(s_veic)"
      ]
    },
    {
      "cell_type": "markdown",
      "metadata": {
        "id": "_HDbqud37cNL"
      },
      "source": [
        "Séries se comportam de forma muito similar à `ndarrays`"
      ]
    },
    {
      "cell_type": "code",
      "execution_count": null,
      "metadata": {
        "id": "ZYUphppd7cNL",
        "outputId": "c6beecdc-fc65-4cbe-d133-b7c71765ab79"
      },
      "outputs": [
        {
          "data": {
            "text/plain": [
              "1997.2"
            ]
          },
          "execution_count": 6,
          "metadata": {},
          "output_type": "execute_result"
        }
      ],
      "source": [
        "s_veic.mean()"
      ]
    },
    {
      "cell_type": "code",
      "execution_count": null,
      "metadata": {
        "id": "hYoIjKKB7cNL",
        "outputId": "57f1872b-fff6-4d32-faad-500083809c02"
      },
      "outputs": [
        {
          "data": {
            "text/plain": [
              "AAA0A00    False\n",
              "BBB1B11     True\n",
              "CCC2C22    False\n",
              "DDD3D33     True\n",
              "EEE13E4     True\n",
              "dtype: bool"
            ]
          },
          "execution_count": 7,
          "metadata": {},
          "output_type": "execute_result"
        }
      ],
      "source": [
        "s_veic > s_veic.mean()"
      ]
    },
    {
      "cell_type": "code",
      "execution_count": null,
      "metadata": {
        "id": "5BdeHILB7cNM",
        "outputId": "abb74448-8ad8-4f4e-af72-b7b3e6c57e8c"
      },
      "outputs": [
        {
          "data": {
            "text/plain": [
              "BBB1B11    2001\n",
              "DDD3D33    2010\n",
              "EEE13E4    2011\n",
              "dtype: int64"
            ]
          },
          "execution_count": 8,
          "metadata": {},
          "output_type": "execute_result"
        }
      ],
      "source": [
        "s_veic[s_veic > s_veic.mean()]"
      ]
    },
    {
      "cell_type": "code",
      "execution_count": null,
      "metadata": {
        "id": "aANu3a497cNM",
        "outputId": "e66db38e-cefd-4669-f9ea-ddec816b34d2"
      },
      "outputs": [
        {
          "data": {
            "text/plain": [
              "dtype('int64')"
            ]
          },
          "execution_count": 9,
          "metadata": {},
          "output_type": "execute_result"
        }
      ],
      "source": [
        "s_veic.dtype"
      ]
    },
    {
      "cell_type": "markdown",
      "metadata": {
        "id": "Vm4Mv-p97cNN"
      },
      "source": [
        "É possível obter um array de fato pelo atributo `array`"
      ]
    },
    {
      "cell_type": "code",
      "execution_count": null,
      "metadata": {
        "id": "5Q51wQ6Q7cNN",
        "outputId": "d0481d53-b343-4bab-b1b1-37ebf73f943a"
      },
      "outputs": [
        {
          "data": {
            "text/plain": [
              "<PandasArray>\n",
              "[1980, 2001, 1984, 2010, 2011]\n",
              "Length: 5, dtype: int64"
            ]
          },
          "execution_count": 10,
          "metadata": {},
          "output_type": "execute_result"
        }
      ],
      "source": [
        "s_veic.array"
      ]
    },
    {
      "cell_type": "markdown",
      "metadata": {
        "id": "5nINGerJ7cNN"
      },
      "source": [
        "Ou um numpy array com `to_numpy()`:"
      ]
    },
    {
      "cell_type": "code",
      "execution_count": null,
      "metadata": {
        "id": "Kp3jm99u7cNO",
        "outputId": "f6960924-bc80-4efe-9635-45428d05c8b9"
      },
      "outputs": [
        {
          "data": {
            "text/plain": [
              "array([1980, 2001, 1984, 2010, 2011])"
            ]
          },
          "execution_count": 11,
          "metadata": {},
          "output_type": "execute_result"
        }
      ],
      "source": [
        "s_veic.to_numpy()"
      ]
    },
    {
      "cell_type": "markdown",
      "metadata": {
        "id": "-GIidQrC7cNO"
      },
      "source": [
        "---\n",
        "\n"
      ]
    },
    {
      "cell_type": "code",
      "execution_count": null,
      "metadata": {
        "id": "5Zb5WL-jtfpu"
      },
      "outputs": [],
      "source": [
        "import pandas as pd\n",
        "df = pd.read_csv('countries_data.tsv', sep='\\t')"
      ]
    },
    {
      "cell_type": "code",
      "execution_count": null,
      "metadata": {
        "id": "pixstj887cNO",
        "outputId": "4fca794e-6257-4c41-e63e-e9cd23749d15"
      },
      "outputs": [
        {
          "name": "stdout",
          "output_type": "stream",
          "text": [
            "<class 'pandas.core.frame.DataFrame'>\n",
            "RangeIndex: 1704 entries, 0 to 1703\n",
            "Data columns (total 6 columns):\n",
            " #   Column     Non-Null Count  Dtype  \n",
            "---  ------     --------------  -----  \n",
            " 0   country    1704 non-null   object \n",
            " 1   continent  1704 non-null   object \n",
            " 2   year       1704 non-null   int64  \n",
            " 3   lifeExp    1704 non-null   float64\n",
            " 4   pop        1704 non-null   int64  \n",
            " 5   gdpPercap  1704 non-null   float64\n",
            "dtypes: float64(2), int64(2), object(2)\n",
            "memory usage: 80.0+ KB\n"
          ]
        }
      ],
      "source": [
        "df.info()"
      ]
    },
    {
      "cell_type": "code",
      "execution_count": null,
      "metadata": {
        "scrolled": true,
        "id": "H7OPWaEF7cNP",
        "outputId": "550aa92e-09e4-44f0-f003-ba1324893814"
      },
      "outputs": [
        {
          "data": {
            "text/html": [
              "<div>\n",
              "<style scoped>\n",
              "    .dataframe tbody tr th:only-of-type {\n",
              "        vertical-align: middle;\n",
              "    }\n",
              "\n",
              "    .dataframe tbody tr th {\n",
              "        vertical-align: top;\n",
              "    }\n",
              "\n",
              "    .dataframe thead th {\n",
              "        text-align: right;\n",
              "    }\n",
              "</style>\n",
              "<table border=\"1\" class=\"dataframe\">\n",
              "  <thead>\n",
              "    <tr style=\"text-align: right;\">\n",
              "      <th></th>\n",
              "      <th>country</th>\n",
              "      <th>continent</th>\n",
              "      <th>year</th>\n",
              "      <th>lifeExp</th>\n",
              "      <th>pop</th>\n",
              "      <th>gdpPercap</th>\n",
              "    </tr>\n",
              "  </thead>\n",
              "  <tbody>\n",
              "    <tr>\n",
              "      <th>307</th>\n",
              "      <td>Colombia</td>\n",
              "      <td>Americas</td>\n",
              "      <td>1987</td>\n",
              "      <td>67.768</td>\n",
              "      <td>30964245</td>\n",
              "      <td>4903.219100</td>\n",
              "    </tr>\n",
              "    <tr>\n",
              "      <th>1490</th>\n",
              "      <td>Syria</td>\n",
              "      <td>Asia</td>\n",
              "      <td>1962</td>\n",
              "      <td>50.305</td>\n",
              "      <td>4834621</td>\n",
              "      <td>2193.037133</td>\n",
              "    </tr>\n",
              "    <tr>\n",
              "      <th>1483</th>\n",
              "      <td>Switzerland</td>\n",
              "      <td>Europe</td>\n",
              "      <td>1987</td>\n",
              "      <td>77.410</td>\n",
              "      <td>6649942</td>\n",
              "      <td>30281.704590</td>\n",
              "    </tr>\n",
              "    <tr>\n",
              "      <th>533</th>\n",
              "      <td>France</td>\n",
              "      <td>Europe</td>\n",
              "      <td>1977</td>\n",
              "      <td>73.830</td>\n",
              "      <td>53165019</td>\n",
              "      <td>18292.635140</td>\n",
              "    </tr>\n",
              "    <tr>\n",
              "      <th>1120</th>\n",
              "      <td>Niger</td>\n",
              "      <td>Africa</td>\n",
              "      <td>1972</td>\n",
              "      <td>40.546</td>\n",
              "      <td>5060262</td>\n",
              "      <td>954.209236</td>\n",
              "    </tr>\n",
              "    <tr>\n",
              "      <th>609</th>\n",
              "      <td>Guatemala</td>\n",
              "      <td>Americas</td>\n",
              "      <td>1997</td>\n",
              "      <td>66.322</td>\n",
              "      <td>9803875</td>\n",
              "      <td>4684.313807</td>\n",
              "    </tr>\n",
              "  </tbody>\n",
              "</table>\n",
              "</div>"
            ],
            "text/plain": [
              "          country continent  year  lifeExp       pop     gdpPercap\n",
              "307      Colombia  Americas  1987   67.768  30964245   4903.219100\n",
              "1490        Syria      Asia  1962   50.305   4834621   2193.037133\n",
              "1483  Switzerland    Europe  1987   77.410   6649942  30281.704590\n",
              "533        France    Europe  1977   73.830  53165019  18292.635140\n",
              "1120        Niger    Africa  1972   40.546   5060262    954.209236\n",
              "609     Guatemala  Americas  1997   66.322   9803875   4684.313807"
            ]
          },
          "execution_count": 14,
          "metadata": {},
          "output_type": "execute_result"
        }
      ],
      "source": [
        "df.sample(6)"
      ]
    },
    {
      "cell_type": "markdown",
      "metadata": {
        "id": "xWjhYxkr7cNP"
      },
      "source": [
        "### Relembrando\n",
        "\n",
        "Vamos recuperar os dados: ano, população e expectativa de vida\n",
        "* em Porto Rico\n",
        "* a partir de 1990"
      ]
    },
    {
      "cell_type": "code",
      "execution_count": null,
      "metadata": {
        "scrolled": true,
        "id": "OkaowO0k7cNP",
        "outputId": "f3e8eda4-17ee-4a59-a07d-bac0978f224b"
      },
      "outputs": [
        {
          "data": {
            "text/html": [
              "<div>\n",
              "<style scoped>\n",
              "    .dataframe tbody tr th:only-of-type {\n",
              "        vertical-align: middle;\n",
              "    }\n",
              "\n",
              "    .dataframe tbody tr th {\n",
              "        vertical-align: top;\n",
              "    }\n",
              "\n",
              "    .dataframe thead th {\n",
              "        text-align: right;\n",
              "    }\n",
              "</style>\n",
              "<table border=\"1\" class=\"dataframe\">\n",
              "  <thead>\n",
              "    <tr style=\"text-align: right;\">\n",
              "      <th></th>\n",
              "      <th>year</th>\n",
              "      <th>pop</th>\n",
              "      <th>lifeExp</th>\n",
              "    </tr>\n",
              "  </thead>\n",
              "  <tbody>\n",
              "    <tr>\n",
              "      <th>0</th>\n",
              "      <td>1952</td>\n",
              "      <td>8425333</td>\n",
              "      <td>28.801</td>\n",
              "    </tr>\n",
              "    <tr>\n",
              "      <th>1</th>\n",
              "      <td>1957</td>\n",
              "      <td>9240934</td>\n",
              "      <td>30.332</td>\n",
              "    </tr>\n",
              "    <tr>\n",
              "      <th>2</th>\n",
              "      <td>1962</td>\n",
              "      <td>10267083</td>\n",
              "      <td>31.997</td>\n",
              "    </tr>\n",
              "    <tr>\n",
              "      <th>3</th>\n",
              "      <td>1967</td>\n",
              "      <td>11537966</td>\n",
              "      <td>34.020</td>\n",
              "    </tr>\n",
              "    <tr>\n",
              "      <th>4</th>\n",
              "      <td>1972</td>\n",
              "      <td>13079460</td>\n",
              "      <td>36.088</td>\n",
              "    </tr>\n",
              "    <tr>\n",
              "      <th>...</th>\n",
              "      <td>...</td>\n",
              "      <td>...</td>\n",
              "      <td>...</td>\n",
              "    </tr>\n",
              "    <tr>\n",
              "      <th>1699</th>\n",
              "      <td>1987</td>\n",
              "      <td>9216418</td>\n",
              "      <td>62.351</td>\n",
              "    </tr>\n",
              "    <tr>\n",
              "      <th>1700</th>\n",
              "      <td>1992</td>\n",
              "      <td>10704340</td>\n",
              "      <td>60.377</td>\n",
              "    </tr>\n",
              "    <tr>\n",
              "      <th>1701</th>\n",
              "      <td>1997</td>\n",
              "      <td>11404948</td>\n",
              "      <td>46.809</td>\n",
              "    </tr>\n",
              "    <tr>\n",
              "      <th>1702</th>\n",
              "      <td>2002</td>\n",
              "      <td>11926563</td>\n",
              "      <td>39.989</td>\n",
              "    </tr>\n",
              "    <tr>\n",
              "      <th>1703</th>\n",
              "      <td>2007</td>\n",
              "      <td>12311143</td>\n",
              "      <td>43.487</td>\n",
              "    </tr>\n",
              "  </tbody>\n",
              "</table>\n",
              "<p>1704 rows × 3 columns</p>\n",
              "</div>"
            ],
            "text/plain": [
              "      year       pop  lifeExp\n",
              "0     1952   8425333   28.801\n",
              "1     1957   9240934   30.332\n",
              "2     1962  10267083   31.997\n",
              "3     1967  11537966   34.020\n",
              "4     1972  13079460   36.088\n",
              "...    ...       ...      ...\n",
              "1699  1987   9216418   62.351\n",
              "1700  1992  10704340   60.377\n",
              "1701  1997  11404948   46.809\n",
              "1702  2002  11926563   39.989\n",
              "1703  2007  12311143   43.487\n",
              "\n",
              "[1704 rows x 3 columns]"
            ]
          },
          "execution_count": 15,
          "metadata": {},
          "output_type": "execute_result"
        }
      ],
      "source": [
        "# recuperando as colunas\n",
        "df[['year','pop','lifeExp']]"
      ]
    },
    {
      "cell_type": "code",
      "execution_count": null,
      "metadata": {
        "scrolled": true,
        "id": "OEUEOLTF7cNP",
        "outputId": "f52f3d45-4115-4b25-ad3f-62bdb904a395"
      },
      "outputs": [
        {
          "data": {
            "text/html": [
              "<div>\n",
              "<style scoped>\n",
              "    .dataframe tbody tr th:only-of-type {\n",
              "        vertical-align: middle;\n",
              "    }\n",
              "\n",
              "    .dataframe tbody tr th {\n",
              "        vertical-align: top;\n",
              "    }\n",
              "\n",
              "    .dataframe thead th {\n",
              "        text-align: right;\n",
              "    }\n",
              "</style>\n",
              "<table border=\"1\" class=\"dataframe\">\n",
              "  <thead>\n",
              "    <tr style=\"text-align: right;\">\n",
              "      <th></th>\n",
              "      <th>year</th>\n",
              "      <th>pop</th>\n",
              "      <th>lifeExp</th>\n",
              "    </tr>\n",
              "  </thead>\n",
              "  <tbody>\n",
              "    <tr>\n",
              "      <th>1256</th>\n",
              "      <td>1992</td>\n",
              "      <td>3585176</td>\n",
              "      <td>73.911</td>\n",
              "    </tr>\n",
              "    <tr>\n",
              "      <th>1257</th>\n",
              "      <td>1997</td>\n",
              "      <td>3759430</td>\n",
              "      <td>74.917</td>\n",
              "    </tr>\n",
              "    <tr>\n",
              "      <th>1258</th>\n",
              "      <td>2002</td>\n",
              "      <td>3859606</td>\n",
              "      <td>77.778</td>\n",
              "    </tr>\n",
              "    <tr>\n",
              "      <th>1259</th>\n",
              "      <td>2007</td>\n",
              "      <td>3942491</td>\n",
              "      <td>78.746</td>\n",
              "    </tr>\n",
              "  </tbody>\n",
              "</table>\n",
              "</div>"
            ],
            "text/plain": [
              "      year      pop  lifeExp\n",
              "1256  1992  3585176   73.911\n",
              "1257  1997  3759430   74.917\n",
              "1258  2002  3859606   77.778\n",
              "1259  2007  3942491   78.746"
            ]
          },
          "execution_count": 16,
          "metadata": {},
          "output_type": "execute_result"
        }
      ],
      "source": [
        "df.loc[ (df['country']=='Puerto Rico') & (df['year']>=1990) , ['year','pop','lifeExp']]"
      ]
    },
    {
      "cell_type": "markdown",
      "metadata": {
        "id": "kHIpAuWN7cNQ"
      },
      "source": [
        "Em numpy e pandas os operadores lógicos E, OU e NÃO : `&`, `|`, `~`"
      ]
    },
    {
      "cell_type": "code",
      "execution_count": null,
      "metadata": {
        "id": "EmU4cO3N7cNQ",
        "outputId": "4bee6ff1-e358-4016-990d-9ba6b3286bf7"
      },
      "outputs": [
        {
          "data": {
            "text/plain": [
              "0       1952\n",
              "1       1957\n",
              "2       1962\n",
              "3       1967\n",
              "4       1972\n",
              "        ... \n",
              "1699    1987\n",
              "1700    1992\n",
              "1701    1997\n",
              "1702    2002\n",
              "1703    2007\n",
              "Name: year, Length: 1704, dtype: int64"
            ]
          },
          "execution_count": 18,
          "metadata": {},
          "output_type": "execute_result"
        }
      ],
      "source": [
        "yearonly = df['year']\n",
        "type(yearonly)\n",
        "yearonly"
      ]
    },
    {
      "cell_type": "markdown",
      "metadata": {
        "id": "PXoG1kD97cNQ"
      },
      "source": [
        "# Estatísticas\n",
        "\n",
        "Há várias funções para análise dos dados.\n",
        "\n",
        "Consultar a documentação oficial é importante (há muito ruído na internet/vídeos)\n",
        "\n",
        "Básicas, que retornam um escalar como: `mean`, `std`, `quantile`, `min`, `max`\n",
        "\n",
        "E mais complexas como: `cov` (covariance), `corr` (correlation)\n",
        "\n",
        "`describe` gera estatística descritiva para todas as colunas numéricas (ou série)"
      ]
    },
    {
      "cell_type": "code",
      "execution_count": null,
      "metadata": {
        "id": "nSInvDHv7cNQ",
        "outputId": "f68a5a20-604c-4da2-9a12-44b6021ec531"
      },
      "outputs": [
        {
          "data": {
            "text/plain": [
              "29601212.324530516"
            ]
          },
          "execution_count": 19,
          "metadata": {},
          "output_type": "execute_result"
        }
      ],
      "source": [
        "df['pop'].mean()"
      ]
    },
    {
      "cell_type": "code",
      "execution_count": null,
      "metadata": {
        "scrolled": true,
        "id": "5oVcfOZx7cNQ",
        "outputId": "917a235b-7809-4da5-8bfe-8ff44bd44457"
      },
      "outputs": [
        {
          "data": {
            "text/html": [
              "<div>\n",
              "<style scoped>\n",
              "    .dataframe tbody tr th:only-of-type {\n",
              "        vertical-align: middle;\n",
              "    }\n",
              "\n",
              "    .dataframe tbody tr th {\n",
              "        vertical-align: top;\n",
              "    }\n",
              "\n",
              "    .dataframe thead th {\n",
              "        text-align: right;\n",
              "    }\n",
              "</style>\n",
              "<table border=\"1\" class=\"dataframe\">\n",
              "  <thead>\n",
              "    <tr style=\"text-align: right;\">\n",
              "      <th></th>\n",
              "      <th>year</th>\n",
              "      <th>lifeExp</th>\n",
              "      <th>pop</th>\n",
              "      <th>gdpPercap</th>\n",
              "    </tr>\n",
              "  </thead>\n",
              "  <tbody>\n",
              "    <tr>\n",
              "      <th>count</th>\n",
              "      <td>1704.00000</td>\n",
              "      <td>1704.000000</td>\n",
              "      <td>1.704000e+03</td>\n",
              "      <td>1704.000000</td>\n",
              "    </tr>\n",
              "    <tr>\n",
              "      <th>mean</th>\n",
              "      <td>1979.50000</td>\n",
              "      <td>59.474439</td>\n",
              "      <td>2.960121e+07</td>\n",
              "      <td>7215.327081</td>\n",
              "    </tr>\n",
              "    <tr>\n",
              "      <th>std</th>\n",
              "      <td>17.26533</td>\n",
              "      <td>12.917107</td>\n",
              "      <td>1.061579e+08</td>\n",
              "      <td>9857.454543</td>\n",
              "    </tr>\n",
              "    <tr>\n",
              "      <th>min</th>\n",
              "      <td>1952.00000</td>\n",
              "      <td>23.599000</td>\n",
              "      <td>6.001100e+04</td>\n",
              "      <td>241.165876</td>\n",
              "    </tr>\n",
              "    <tr>\n",
              "      <th>25%</th>\n",
              "      <td>1965.75000</td>\n",
              "      <td>48.198000</td>\n",
              "      <td>2.793664e+06</td>\n",
              "      <td>1202.060309</td>\n",
              "    </tr>\n",
              "    <tr>\n",
              "      <th>50%</th>\n",
              "      <td>1979.50000</td>\n",
              "      <td>60.712500</td>\n",
              "      <td>7.023596e+06</td>\n",
              "      <td>3531.846988</td>\n",
              "    </tr>\n",
              "    <tr>\n",
              "      <th>75%</th>\n",
              "      <td>1993.25000</td>\n",
              "      <td>70.845500</td>\n",
              "      <td>1.958522e+07</td>\n",
              "      <td>9325.462346</td>\n",
              "    </tr>\n",
              "    <tr>\n",
              "      <th>max</th>\n",
              "      <td>2007.00000</td>\n",
              "      <td>82.603000</td>\n",
              "      <td>1.318683e+09</td>\n",
              "      <td>113523.132900</td>\n",
              "    </tr>\n",
              "  </tbody>\n",
              "</table>\n",
              "</div>"
            ],
            "text/plain": [
              "             year      lifeExp           pop      gdpPercap\n",
              "count  1704.00000  1704.000000  1.704000e+03    1704.000000\n",
              "mean   1979.50000    59.474439  2.960121e+07    7215.327081\n",
              "std      17.26533    12.917107  1.061579e+08    9857.454543\n",
              "min    1952.00000    23.599000  6.001100e+04     241.165876\n",
              "25%    1965.75000    48.198000  2.793664e+06    1202.060309\n",
              "50%    1979.50000    60.712500  7.023596e+06    3531.846988\n",
              "75%    1993.25000    70.845500  1.958522e+07    9325.462346\n",
              "max    2007.00000    82.603000  1.318683e+09  113523.132900"
            ]
          },
          "execution_count": 20,
          "metadata": {},
          "output_type": "execute_result"
        }
      ],
      "source": [
        "df.describe()"
      ]
    },
    {
      "cell_type": "code",
      "execution_count": null,
      "metadata": {
        "scrolled": true,
        "id": "0VUk03BO7cNR",
        "outputId": "2a1cc095-e397-4689-a65e-1011b79f28f3"
      },
      "outputs": [
        {
          "data": {
            "text/html": [
              "<div>\n",
              "<style scoped>\n",
              "    .dataframe tbody tr th:only-of-type {\n",
              "        vertical-align: middle;\n",
              "    }\n",
              "\n",
              "    .dataframe tbody tr th {\n",
              "        vertical-align: top;\n",
              "    }\n",
              "\n",
              "    .dataframe thead th {\n",
              "        text-align: right;\n",
              "    }\n",
              "</style>\n",
              "<table border=\"1\" class=\"dataframe\">\n",
              "  <thead>\n",
              "    <tr style=\"text-align: right;\">\n",
              "      <th></th>\n",
              "      <th>lifeExp</th>\n",
              "      <th>pop</th>\n",
              "      <th>gdpPercap</th>\n",
              "    </tr>\n",
              "  </thead>\n",
              "  <tbody>\n",
              "    <tr>\n",
              "      <th>lifeExp</th>\n",
              "      <td>1.000000</td>\n",
              "      <td>0.064955</td>\n",
              "      <td>0.583706</td>\n",
              "    </tr>\n",
              "    <tr>\n",
              "      <th>pop</th>\n",
              "      <td>0.064955</td>\n",
              "      <td>1.000000</td>\n",
              "      <td>-0.025600</td>\n",
              "    </tr>\n",
              "    <tr>\n",
              "      <th>gdpPercap</th>\n",
              "      <td>0.583706</td>\n",
              "      <td>-0.025600</td>\n",
              "      <td>1.000000</td>\n",
              "    </tr>\n",
              "  </tbody>\n",
              "</table>\n",
              "</div>"
            ],
            "text/plain": [
              "            lifeExp       pop  gdpPercap\n",
              "lifeExp    1.000000  0.064955   0.583706\n",
              "pop        0.064955  1.000000  -0.025600\n",
              "gdpPercap  0.583706 -0.025600   1.000000"
            ]
          },
          "execution_count": 21,
          "metadata": {},
          "output_type": "execute_result"
        }
      ],
      "source": [
        "df[['lifeExp', 'pop', 'gdpPercap']].corr()"
      ]
    },
    {
      "cell_type": "markdown",
      "metadata": {
        "id": "tE1tWKfBtfp5"
      },
      "source": [
        "---\n",
        "\n",
        "# `groupby()` e `agg()`\n",
        "\n",
        "Alguns cálculos são interessantes de se fazer agrupando por certos valores\n",
        "\n",
        "Nesse dataset, uma pergunta possível seria:\n",
        "* Qual a expectativa de vida média, por ano, considerando todos os países?"
      ]
    },
    {
      "cell_type": "code",
      "execution_count": null,
      "metadata": {
        "id": "yZMVgycj7cNS",
        "outputId": "d8e9aa07-6b42-4387-d64e-d69b79ccf5e8"
      },
      "outputs": [
        {
          "data": {
            "text/plain": [
              "<pandas.core.groupby.generic.DataFrameGroupBy object at 0x7f4ad0add760>"
            ]
          },
          "execution_count": 22,
          "metadata": {},
          "output_type": "execute_result"
        }
      ],
      "source": [
        "df.groupby(['year'])"
      ]
    },
    {
      "cell_type": "code",
      "execution_count": null,
      "metadata": {
        "id": "MDOAUOeY7cNU",
        "outputId": "fa874eb2-4544-402a-c28d-ab849f14768a"
      },
      "outputs": [
        {
          "data": {
            "text/plain": [
              "year\n",
              "1952    49.057620\n",
              "1957    51.507401\n",
              "1962    53.609249\n",
              "1967    55.678290\n",
              "1972    57.647386\n",
              "1977    59.570157\n",
              "1982    61.533197\n",
              "1987    63.212613\n",
              "1992    64.160338\n",
              "1997    65.014676\n",
              "2002    65.694923\n",
              "2007    67.007423\n",
              "Name: lifeExp, dtype: float64"
            ]
          },
          "execution_count": 25,
          "metadata": {},
          "output_type": "execute_result"
        }
      ],
      "source": [
        "df.groupby(['year'])['lifeExp'].mean()"
      ]
    },
    {
      "cell_type": "markdown",
      "metadata": {
        "id": "GU1gwkoa7cNU"
      },
      "source": [
        "Pandas tem várias funções embutidas, mas pode ser que queiramos aplicar nossas próprias funções ou de biblioteca externa, como do `numpy`\n",
        "\n",
        "Nesse caso, usamos `agg()` para aplicar a função desejada, agregada aos grupos"
      ]
    },
    {
      "cell_type": "code",
      "execution_count": null,
      "metadata": {
        "id": "po9391l_7cNU",
        "outputId": "2168bf4f-f8fb-421e-b10f-97f806f212c2"
      },
      "outputs": [
        {
          "data": {
            "text/plain": [
              "year\n",
              "1952    72.670\n",
              "1957    73.470\n",
              "1962    73.680\n",
              "1967    74.160\n",
              "1972    74.720\n",
              "1977    76.110\n",
              "1982    77.110\n",
              "1987    78.670\n",
              "1992    79.360\n",
              "1997    80.690\n",
              "2002    82.000\n",
              "2007    82.603\n",
              "Name: lifeExp, dtype: float64"
            ]
          },
          "execution_count": 28,
          "metadata": {},
          "output_type": "execute_result"
        }
      ],
      "source": [
        "import numpy as np\n",
        "\n",
        "df.groupby(['year'])['lifeExp'].agg(np.max)"
      ]
    },
    {
      "cell_type": "markdown",
      "metadata": {
        "id": "f2eVx-ve7cNV"
      },
      "source": [
        "E até mesmo gerar um novo dataframe, agregando múltiplas funções\n",
        "* lista de tuplas contendo (nome,funcao)"
      ]
    },
    {
      "cell_type": "code",
      "execution_count": null,
      "metadata": {
        "id": "uVZgyLjU7cNV",
        "outputId": "99edd043-210d-47f1-99ad-535128a05ca8"
      },
      "outputs": [
        {
          "data": {
            "text/html": [
              "<div>\n",
              "<style scoped>\n",
              "    .dataframe tbody tr th:only-of-type {\n",
              "        vertical-align: middle;\n",
              "    }\n",
              "\n",
              "    .dataframe tbody tr th {\n",
              "        vertical-align: top;\n",
              "    }\n",
              "\n",
              "    .dataframe thead th {\n",
              "        text-align: right;\n",
              "    }\n",
              "</style>\n",
              "<table border=\"1\" class=\"dataframe\">\n",
              "  <thead>\n",
              "    <tr style=\"text-align: right;\">\n",
              "      <th></th>\n",
              "      <th>media</th>\n",
              "      <th>log10_somapop</th>\n",
              "    </tr>\n",
              "    <tr>\n",
              "      <th>year</th>\n",
              "      <th></th>\n",
              "      <th></th>\n",
              "    </tr>\n",
              "  </thead>\n",
              "  <tbody>\n",
              "    <tr>\n",
              "      <th>1952</th>\n",
              "      <td>1.695040e+07</td>\n",
              "      <td>31.164563</td>\n",
              "    </tr>\n",
              "    <tr>\n",
              "      <th>1957</th>\n",
              "      <td>1.876341e+07</td>\n",
              "      <td>31.311166</td>\n",
              "    </tr>\n",
              "    <tr>\n",
              "      <th>1962</th>\n",
              "      <td>2.042101e+07</td>\n",
              "      <td>31.433298</td>\n",
              "    </tr>\n",
              "    <tr>\n",
              "      <th>1967</th>\n",
              "      <td>2.265830e+07</td>\n",
              "      <td>31.583283</td>\n",
              "    </tr>\n",
              "    <tr>\n",
              "      <th>1972</th>\n",
              "      <td>2.518998e+07</td>\n",
              "      <td>31.736094</td>\n",
              "    </tr>\n",
              "    <tr>\n",
              "      <th>1977</th>\n",
              "      <td>2.767638e+07</td>\n",
              "      <td>31.871899</td>\n",
              "    </tr>\n",
              "    <tr>\n",
              "      <th>1982</th>\n",
              "      <td>3.020730e+07</td>\n",
              "      <td>31.998141</td>\n",
              "    </tr>\n",
              "    <tr>\n",
              "      <th>1987</th>\n",
              "      <td>3.303857e+07</td>\n",
              "      <td>32.127395</td>\n",
              "    </tr>\n",
              "    <tr>\n",
              "      <th>1992</th>\n",
              "      <td>3.599092e+07</td>\n",
              "      <td>32.250877</td>\n",
              "    </tr>\n",
              "    <tr>\n",
              "      <th>1997</th>\n",
              "      <td>3.883947e+07</td>\n",
              "      <td>32.360767</td>\n",
              "    </tr>\n",
              "    <tr>\n",
              "      <th>2002</th>\n",
              "      <td>4.145759e+07</td>\n",
              "      <td>32.454880</td>\n",
              "    </tr>\n",
              "    <tr>\n",
              "      <th>2007</th>\n",
              "      <td>4.402122e+07</td>\n",
              "      <td>32.541443</td>\n",
              "    </tr>\n",
              "  </tbody>\n",
              "</table>\n",
              "</div>"
            ],
            "text/plain": [
              "             media  log10_somapop\n",
              "year                             \n",
              "1952  1.695040e+07      31.164563\n",
              "1957  1.876341e+07      31.311166\n",
              "1962  2.042101e+07      31.433298\n",
              "1967  2.265830e+07      31.583283\n",
              "1972  2.518998e+07      31.736094\n",
              "1977  2.767638e+07      31.871899\n",
              "1982  3.020730e+07      31.998141\n",
              "1987  3.303857e+07      32.127395\n",
              "1992  3.599092e+07      32.250877\n",
              "1997  3.883947e+07      32.360767\n",
              "2002  4.145759e+07      32.454880\n",
              "2007  4.402122e+07      32.541443"
            ]
          },
          "execution_count": 30,
          "metadata": {},
          "output_type": "execute_result"
        }
      ],
      "source": [
        "df.groupby(['year'])['pop'].agg( [\n",
        "                        ('media', np.mean),\n",
        "                        ('log10_somapop', lambda val: np.log2(val.sum())) ])"
      ]
    },
    {
      "cell_type": "markdown",
      "metadata": {
        "id": "s9DOZDTx7cNV"
      },
      "source": [
        "É possível agrupar com múltiplas colunas"
      ]
    },
    {
      "cell_type": "code",
      "execution_count": null,
      "metadata": {
        "scrolled": true,
        "id": "OTHHqZPp7cNV",
        "outputId": "c9a49ed6-c504-42b6-a3cf-0ec950c93c75"
      },
      "outputs": [
        {
          "data": {
            "text/html": [
              "<div>\n",
              "<style scoped>\n",
              "    .dataframe tbody tr th:only-of-type {\n",
              "        vertical-align: middle;\n",
              "    }\n",
              "\n",
              "    .dataframe tbody tr th {\n",
              "        vertical-align: top;\n",
              "    }\n",
              "\n",
              "    .dataframe thead tr th {\n",
              "        text-align: left;\n",
              "    }\n",
              "\n",
              "    .dataframe thead tr:last-of-type th {\n",
              "        text-align: right;\n",
              "    }\n",
              "</style>\n",
              "<table border=\"1\" class=\"dataframe\">\n",
              "  <thead>\n",
              "    <tr>\n",
              "      <th></th>\n",
              "      <th></th>\n",
              "      <th colspan=\"2\" halign=\"left\">pop</th>\n",
              "      <th colspan=\"2\" halign=\"left\">gdpPercap</th>\n",
              "    </tr>\n",
              "    <tr>\n",
              "      <th></th>\n",
              "      <th></th>\n",
              "      <th>mean</th>\n",
              "      <th>std</th>\n",
              "      <th>mean</th>\n",
              "      <th>std</th>\n",
              "    </tr>\n",
              "    <tr>\n",
              "      <th>year</th>\n",
              "      <th>continent</th>\n",
              "      <th></th>\n",
              "      <th></th>\n",
              "      <th></th>\n",
              "      <th></th>\n",
              "    </tr>\n",
              "  </thead>\n",
              "  <tbody>\n",
              "    <tr>\n",
              "      <th rowspan=\"5\" valign=\"top\">1952</th>\n",
              "      <th>Africa</th>\n",
              "      <td>4.570010e+06</td>\n",
              "      <td>6.317450e+06</td>\n",
              "      <td>1252.572466</td>\n",
              "      <td>982.952116</td>\n",
              "    </tr>\n",
              "    <tr>\n",
              "      <th>Americas</th>\n",
              "      <td>1.380610e+07</td>\n",
              "      <td>3.234163e+07</td>\n",
              "      <td>4079.062552</td>\n",
              "      <td>3001.727522</td>\n",
              "    </tr>\n",
              "    <tr>\n",
              "      <th>Asia</th>\n",
              "      <td>4.228356e+07</td>\n",
              "      <td>1.132267e+08</td>\n",
              "      <td>5195.484004</td>\n",
              "      <td>18634.890865</td>\n",
              "    </tr>\n",
              "    <tr>\n",
              "      <th>Europe</th>\n",
              "      <td>1.393736e+07</td>\n",
              "      <td>1.724745e+07</td>\n",
              "      <td>5661.057435</td>\n",
              "      <td>3114.060493</td>\n",
              "    </tr>\n",
              "    <tr>\n",
              "      <th>Oceania</th>\n",
              "      <td>5.343003e+06</td>\n",
              "      <td>4.735083e+06</td>\n",
              "      <td>10298.085650</td>\n",
              "      <td>365.560078</td>\n",
              "    </tr>\n",
              "    <tr>\n",
              "      <th rowspan=\"5\" valign=\"top\">1957</th>\n",
              "      <th>Africa</th>\n",
              "      <td>5.093033e+06</td>\n",
              "      <td>7.076042e+06</td>\n",
              "      <td>1385.236062</td>\n",
              "      <td>1134.508918</td>\n",
              "    </tr>\n",
              "    <tr>\n",
              "      <th>Americas</th>\n",
              "      <td>1.547816e+07</td>\n",
              "      <td>3.553706e+07</td>\n",
              "      <td>4616.043733</td>\n",
              "      <td>3312.381083</td>\n",
              "    </tr>\n",
              "    <tr>\n",
              "      <th>Asia</th>\n",
              "      <td>4.735699e+07</td>\n",
              "      <td>1.280961e+08</td>\n",
              "      <td>5787.732940</td>\n",
              "      <td>19506.515959</td>\n",
              "    </tr>\n",
              "    <tr>\n",
              "      <th>Europe</th>\n",
              "      <td>1.459635e+07</td>\n",
              "      <td>1.783235e+07</td>\n",
              "      <td>6963.012816</td>\n",
              "      <td>3677.950146</td>\n",
              "    </tr>\n",
              "    <tr>\n",
              "      <th>Oceania</th>\n",
              "      <td>5.970988e+06</td>\n",
              "      <td>5.291395e+06</td>\n",
              "      <td>11598.522455</td>\n",
              "      <td>917.644806</td>\n",
              "    </tr>\n",
              "    <tr>\n",
              "      <th rowspan=\"5\" valign=\"top\">1962</th>\n",
              "      <th>Africa</th>\n",
              "      <td>5.702247e+06</td>\n",
              "      <td>7.957545e+06</td>\n",
              "      <td>1598.078825</td>\n",
              "      <td>1461.839189</td>\n",
              "    </tr>\n",
              "    <tr>\n",
              "      <th>Americas</th>\n",
              "      <td>1.733081e+07</td>\n",
              "      <td>3.887683e+07</td>\n",
              "      <td>4901.541870</td>\n",
              "      <td>3421.740569</td>\n",
              "    </tr>\n",
              "    <tr>\n",
              "      <th>Asia</th>\n",
              "      <td>5.140476e+07</td>\n",
              "      <td>1.361027e+08</td>\n",
              "      <td>5729.369625</td>\n",
              "      <td>16415.857196</td>\n",
              "    </tr>\n",
              "    <tr>\n",
              "      <th>Europe</th>\n",
              "      <td>1.534517e+07</td>\n",
              "      <td>1.865642e+07</td>\n",
              "      <td>8365.486814</td>\n",
              "      <td>4199.193906</td>\n",
              "    </tr>\n",
              "    <tr>\n",
              "      <th>Oceania</th>\n",
              "      <td>6.641759e+06</td>\n",
              "      <td>5.873524e+06</td>\n",
              "      <td>12696.452430</td>\n",
              "      <td>677.727301</td>\n",
              "    </tr>\n",
              "    <tr>\n",
              "      <th rowspan=\"5\" valign=\"top\">1967</th>\n",
              "      <th>Africa</th>\n",
              "      <td>6.447875e+06</td>\n",
              "      <td>8.985505e+06</td>\n",
              "      <td>2050.363801</td>\n",
              "      <td>2847.717603</td>\n",
              "    </tr>\n",
              "    <tr>\n",
              "      <th>Americas</th>\n",
              "      <td>1.922986e+07</td>\n",
              "      <td>4.192559e+07</td>\n",
              "      <td>5668.253496</td>\n",
              "      <td>4160.885560</td>\n",
              "    </tr>\n",
              "    <tr>\n",
              "      <th>Asia</th>\n",
              "      <td>5.774736e+07</td>\n",
              "      <td>1.533418e+08</td>\n",
              "      <td>5971.173374</td>\n",
              "      <td>14062.591362</td>\n",
              "    </tr>\n",
              "    <tr>\n",
              "      <th>Europe</th>\n",
              "      <td>1.603930e+07</td>\n",
              "      <td>1.944359e+07</td>\n",
              "      <td>10143.823757</td>\n",
              "      <td>4724.983889</td>\n",
              "    </tr>\n",
              "    <tr>\n",
              "      <th>Oceania</th>\n",
              "      <td>7.300207e+06</td>\n",
              "      <td>6.465865e+06</td>\n",
              "      <td>14495.021790</td>\n",
              "      <td>43.986086</td>\n",
              "    </tr>\n",
              "    <tr>\n",
              "      <th rowspan=\"5\" valign=\"top\">1972</th>\n",
              "      <th>Africa</th>\n",
              "      <td>7.305376e+06</td>\n",
              "      <td>1.013083e+07</td>\n",
              "      <td>2339.615674</td>\n",
              "      <td>3286.853884</td>\n",
              "    </tr>\n",
              "    <tr>\n",
              "      <th>Americas</th>\n",
              "      <td>2.117537e+07</td>\n",
              "      <td>4.493546e+07</td>\n",
              "      <td>6491.334139</td>\n",
              "      <td>4754.404329</td>\n",
              "    </tr>\n",
              "    <tr>\n",
              "      <th>Asia</th>\n",
              "      <td>6.518098e+07</td>\n",
              "      <td>1.740949e+08</td>\n",
              "      <td>8187.468699</td>\n",
              "      <td>19087.502918</td>\n",
              "    </tr>\n",
              "    <tr>\n",
              "      <th>Europe</th>\n",
              "      <td>1.668784e+07</td>\n",
              "      <td>2.018034e+07</td>\n",
              "      <td>12479.575246</td>\n",
              "      <td>5509.691411</td>\n",
              "    </tr>\n",
              "    <tr>\n",
              "      <th>Oceania</th>\n",
              "      <td>8.053050e+06</td>\n",
              "      <td>7.246360e+06</td>\n",
              "      <td>16417.333380</td>\n",
              "      <td>525.091980</td>\n",
              "    </tr>\n",
              "    <tr>\n",
              "      <th rowspan=\"5\" valign=\"top\">1977</th>\n",
              "      <th>Africa</th>\n",
              "      <td>8.328097e+06</td>\n",
              "      <td>1.158518e+07</td>\n",
              "      <td>2585.938508</td>\n",
              "      <td>4142.398707</td>\n",
              "    </tr>\n",
              "    <tr>\n",
              "      <th>Americas</th>\n",
              "      <td>2.312271e+07</td>\n",
              "      <td>4.790406e+07</td>\n",
              "      <td>7352.007126</td>\n",
              "      <td>5355.602518</td>\n",
              "    </tr>\n",
              "    <tr>\n",
              "      <th>Asia</th>\n",
              "      <td>7.225799e+07</td>\n",
              "      <td>1.917074e+08</td>\n",
              "      <td>7791.314020</td>\n",
              "      <td>11815.777923</td>\n",
              "    </tr>\n",
              "    <tr>\n",
              "      <th>Europe</th>\n",
              "      <td>1.723882e+07</td>\n",
              "      <td>2.056054e+07</td>\n",
              "      <td>14283.979110</td>\n",
              "      <td>5874.464896</td>\n",
              "    </tr>\n",
              "    <tr>\n",
              "      <th>Oceania</th>\n",
              "      <td>8.619500e+06</td>\n",
              "      <td>7.713969e+06</td>\n",
              "      <td>17283.957605</td>\n",
              "      <td>1485.263517</td>\n",
              "    </tr>\n",
              "    <tr>\n",
              "      <th rowspan=\"5\" valign=\"top\">1982</th>\n",
              "      <th>Africa</th>\n",
              "      <td>9.602857e+06</td>\n",
              "      <td>1.345624e+07</td>\n",
              "      <td>2481.592960</td>\n",
              "      <td>3242.632753</td>\n",
              "    </tr>\n",
              "    <tr>\n",
              "      <th>Americas</th>\n",
              "      <td>2.521164e+07</td>\n",
              "      <td>5.129438e+07</td>\n",
              "      <td>7506.737088</td>\n",
              "      <td>5530.490471</td>\n",
              "    </tr>\n",
              "    <tr>\n",
              "      <th>Asia</th>\n",
              "      <td>7.909502e+07</td>\n",
              "      <td>2.065415e+08</td>\n",
              "      <td>7434.135157</td>\n",
              "      <td>8701.176499</td>\n",
              "    </tr>\n",
              "    <tr>\n",
              "      <th>Europe</th>\n",
              "      <td>1.770890e+07</td>\n",
              "      <td>2.097129e+07</td>\n",
              "      <td>15617.896551</td>\n",
              "      <td>6453.234827</td>\n",
              "    </tr>\n",
              "    <tr>\n",
              "      <th>Oceania</th>\n",
              "      <td>9.197425e+06</td>\n",
              "      <td>8.466578e+06</td>\n",
              "      <td>18554.709840</td>\n",
              "      <td>1304.328377</td>\n",
              "    </tr>\n",
              "    <tr>\n",
              "      <th rowspan=\"5\" valign=\"top\">1987</th>\n",
              "      <th>Africa</th>\n",
              "      <td>1.105450e+07</td>\n",
              "      <td>1.527748e+07</td>\n",
              "      <td>2282.668991</td>\n",
              "      <td>2566.531947</td>\n",
              "    </tr>\n",
              "    <tr>\n",
              "      <th>Americas</th>\n",
              "      <td>2.731016e+07</td>\n",
              "      <td>5.445969e+07</td>\n",
              "      <td>7793.400261</td>\n",
              "      <td>6665.039509</td>\n",
              "    </tr>\n",
              "    <tr>\n",
              "      <th>Asia</th>\n",
              "      <td>8.700669e+07</td>\n",
              "      <td>2.257332e+08</td>\n",
              "      <td>7608.226508</td>\n",
              "      <td>8090.262765</td>\n",
              "    </tr>\n",
              "    <tr>\n",
              "      <th>Europe</th>\n",
              "      <td>1.810314e+07</td>\n",
              "      <td>2.136971e+07</td>\n",
              "      <td>17214.310727</td>\n",
              "      <td>7482.957960</td>\n",
              "    </tr>\n",
              "    <tr>\n",
              "      <th>Oceania</th>\n",
              "      <td>9.787208e+06</td>\n",
              "      <td>9.150020e+06</td>\n",
              "      <td>20448.040160</td>\n",
              "      <td>2037.668013</td>\n",
              "    </tr>\n",
              "    <tr>\n",
              "      <th rowspan=\"5\" valign=\"top\">1992</th>\n",
              "      <th>Africa</th>\n",
              "      <td>1.267464e+07</td>\n",
              "      <td>1.756272e+07</td>\n",
              "      <td>2281.810333</td>\n",
              "      <td>2644.075602</td>\n",
              "    </tr>\n",
              "    <tr>\n",
              "      <th>Americas</th>\n",
              "      <td>2.957096e+07</td>\n",
              "      <td>5.810922e+07</td>\n",
              "      <td>8044.934406</td>\n",
              "      <td>7047.089191</td>\n",
              "    </tr>\n",
              "    <tr>\n",
              "      <th>Asia</th>\n",
              "      <td>9.494825e+07</td>\n",
              "      <td>2.449604e+08</td>\n",
              "      <td>8639.690248</td>\n",
              "      <td>9727.431088</td>\n",
              "    </tr>\n",
              "    <tr>\n",
              "      <th>Europe</th>\n",
              "      <td>1.860476e+07</td>\n",
              "      <td>2.212674e+07</td>\n",
              "      <td>17061.568084</td>\n",
              "      <td>9109.804361</td>\n",
              "    </tr>\n",
              "    <tr>\n",
              "      <th>Oceania</th>\n",
              "      <td>1.045983e+07</td>\n",
              "      <td>9.930822e+06</td>\n",
              "      <td>20894.045885</td>\n",
              "      <td>3578.979883</td>\n",
              "    </tr>\n",
              "    <tr>\n",
              "      <th rowspan=\"5\" valign=\"top\">1997</th>\n",
              "      <th>Africa</th>\n",
              "      <td>1.430448e+07</td>\n",
              "      <td>1.987301e+07</td>\n",
              "      <td>2378.759555</td>\n",
              "      <td>2820.728117</td>\n",
              "    </tr>\n",
              "    <tr>\n",
              "      <th>Americas</th>\n",
              "      <td>3.187602e+07</td>\n",
              "      <td>6.203282e+07</td>\n",
              "      <td>8889.300863</td>\n",
              "      <td>7874.225145</td>\n",
              "    </tr>\n",
              "    <tr>\n",
              "      <th>Asia</th>\n",
              "      <td>1.025238e+08</td>\n",
              "      <td>2.623497e+08</td>\n",
              "      <td>9834.093295</td>\n",
              "      <td>11094.180481</td>\n",
              "    </tr>\n",
              "    <tr>\n",
              "      <th>Europe</th>\n",
              "      <td>1.896480e+07</td>\n",
              "      <td>2.274815e+07</td>\n",
              "      <td>19076.781802</td>\n",
              "      <td>10065.457716</td>\n",
              "    </tr>\n",
              "    <tr>\n",
              "      <th>Oceania</th>\n",
              "      <td>1.112072e+07</td>\n",
              "      <td>1.052815e+07</td>\n",
              "      <td>24024.175170</td>\n",
              "      <td>4205.533703</td>\n",
              "    </tr>\n",
              "    <tr>\n",
              "      <th rowspan=\"5\" valign=\"top\">2002</th>\n",
              "      <th>Africa</th>\n",
              "      <td>1.603315e+07</td>\n",
              "      <td>2.230300e+07</td>\n",
              "      <td>2599.385159</td>\n",
              "      <td>2972.651308</td>\n",
              "    </tr>\n",
              "    <tr>\n",
              "      <th>Americas</th>\n",
              "      <td>3.399091e+07</td>\n",
              "      <td>6.560155e+07</td>\n",
              "      <td>9287.677107</td>\n",
              "      <td>8895.817785</td>\n",
              "    </tr>\n",
              "    <tr>\n",
              "      <th>Asia</th>\n",
              "      <td>1.091455e+08</td>\n",
              "      <td>2.767017e+08</td>\n",
              "      <td>10174.090397</td>\n",
              "      <td>11150.719203</td>\n",
              "    </tr>\n",
              "    <tr>\n",
              "      <th>Europe</th>\n",
              "      <td>1.927413e+07</td>\n",
              "      <td>2.322369e+07</td>\n",
              "      <td>21711.732422</td>\n",
              "      <td>11197.355517</td>\n",
              "    </tr>\n",
              "    <tr>\n",
              "      <th>Oceania</th>\n",
              "      <td>1.172741e+07</td>\n",
              "      <td>1.105827e+07</td>\n",
              "      <td>26938.778040</td>\n",
              "      <td>5301.853680</td>\n",
              "    </tr>\n",
              "    <tr>\n",
              "      <th rowspan=\"5\" valign=\"top\">2007</th>\n",
              "      <th>Africa</th>\n",
              "      <td>1.787576e+07</td>\n",
              "      <td>2.491773e+07</td>\n",
              "      <td>3089.032605</td>\n",
              "      <td>3618.163491</td>\n",
              "    </tr>\n",
              "    <tr>\n",
              "      <th>Americas</th>\n",
              "      <td>3.595485e+07</td>\n",
              "      <td>6.883378e+07</td>\n",
              "      <td>11003.031625</td>\n",
              "      <td>9713.209302</td>\n",
              "    </tr>\n",
              "    <tr>\n",
              "      <th>Asia</th>\n",
              "      <td>1.155138e+08</td>\n",
              "      <td>2.896734e+08</td>\n",
              "      <td>12473.026870</td>\n",
              "      <td>14154.937343</td>\n",
              "    </tr>\n",
              "    <tr>\n",
              "      <th>Europe</th>\n",
              "      <td>1.953662e+07</td>\n",
              "      <td>2.362474e+07</td>\n",
              "      <td>25054.481636</td>\n",
              "      <td>11800.339811</td>\n",
              "    </tr>\n",
              "    <tr>\n",
              "      <th>Oceania</th>\n",
              "      <td>1.227497e+07</td>\n",
              "      <td>1.153885e+07</td>\n",
              "      <td>29810.188275</td>\n",
              "      <td>6540.991104</td>\n",
              "    </tr>\n",
              "  </tbody>\n",
              "</table>\n",
              "</div>"
            ],
            "text/plain": [
              "                         pop                   gdpPercap              \n",
              "                        mean           std          mean           std\n",
              "year continent                                                        \n",
              "1952 Africa     4.570010e+06  6.317450e+06   1252.572466    982.952116\n",
              "     Americas   1.380610e+07  3.234163e+07   4079.062552   3001.727522\n",
              "     Asia       4.228356e+07  1.132267e+08   5195.484004  18634.890865\n",
              "     Europe     1.393736e+07  1.724745e+07   5661.057435   3114.060493\n",
              "     Oceania    5.343003e+06  4.735083e+06  10298.085650    365.560078\n",
              "1957 Africa     5.093033e+06  7.076042e+06   1385.236062   1134.508918\n",
              "     Americas   1.547816e+07  3.553706e+07   4616.043733   3312.381083\n",
              "     Asia       4.735699e+07  1.280961e+08   5787.732940  19506.515959\n",
              "     Europe     1.459635e+07  1.783235e+07   6963.012816   3677.950146\n",
              "     Oceania    5.970988e+06  5.291395e+06  11598.522455    917.644806\n",
              "1962 Africa     5.702247e+06  7.957545e+06   1598.078825   1461.839189\n",
              "     Americas   1.733081e+07  3.887683e+07   4901.541870   3421.740569\n",
              "     Asia       5.140476e+07  1.361027e+08   5729.369625  16415.857196\n",
              "     Europe     1.534517e+07  1.865642e+07   8365.486814   4199.193906\n",
              "     Oceania    6.641759e+06  5.873524e+06  12696.452430    677.727301\n",
              "1967 Africa     6.447875e+06  8.985505e+06   2050.363801   2847.717603\n",
              "     Americas   1.922986e+07  4.192559e+07   5668.253496   4160.885560\n",
              "     Asia       5.774736e+07  1.533418e+08   5971.173374  14062.591362\n",
              "     Europe     1.603930e+07  1.944359e+07  10143.823757   4724.983889\n",
              "     Oceania    7.300207e+06  6.465865e+06  14495.021790     43.986086\n",
              "1972 Africa     7.305376e+06  1.013083e+07   2339.615674   3286.853884\n",
              "     Americas   2.117537e+07  4.493546e+07   6491.334139   4754.404329\n",
              "     Asia       6.518098e+07  1.740949e+08   8187.468699  19087.502918\n",
              "     Europe     1.668784e+07  2.018034e+07  12479.575246   5509.691411\n",
              "     Oceania    8.053050e+06  7.246360e+06  16417.333380    525.091980\n",
              "1977 Africa     8.328097e+06  1.158518e+07   2585.938508   4142.398707\n",
              "     Americas   2.312271e+07  4.790406e+07   7352.007126   5355.602518\n",
              "     Asia       7.225799e+07  1.917074e+08   7791.314020  11815.777923\n",
              "     Europe     1.723882e+07  2.056054e+07  14283.979110   5874.464896\n",
              "     Oceania    8.619500e+06  7.713969e+06  17283.957605   1485.263517\n",
              "1982 Africa     9.602857e+06  1.345624e+07   2481.592960   3242.632753\n",
              "     Americas   2.521164e+07  5.129438e+07   7506.737088   5530.490471\n",
              "     Asia       7.909502e+07  2.065415e+08   7434.135157   8701.176499\n",
              "     Europe     1.770890e+07  2.097129e+07  15617.896551   6453.234827\n",
              "     Oceania    9.197425e+06  8.466578e+06  18554.709840   1304.328377\n",
              "1987 Africa     1.105450e+07  1.527748e+07   2282.668991   2566.531947\n",
              "     Americas   2.731016e+07  5.445969e+07   7793.400261   6665.039509\n",
              "     Asia       8.700669e+07  2.257332e+08   7608.226508   8090.262765\n",
              "     Europe     1.810314e+07  2.136971e+07  17214.310727   7482.957960\n",
              "     Oceania    9.787208e+06  9.150020e+06  20448.040160   2037.668013\n",
              "1992 Africa     1.267464e+07  1.756272e+07   2281.810333   2644.075602\n",
              "     Americas   2.957096e+07  5.810922e+07   8044.934406   7047.089191\n",
              "     Asia       9.494825e+07  2.449604e+08   8639.690248   9727.431088\n",
              "     Europe     1.860476e+07  2.212674e+07  17061.568084   9109.804361\n",
              "     Oceania    1.045983e+07  9.930822e+06  20894.045885   3578.979883\n",
              "1997 Africa     1.430448e+07  1.987301e+07   2378.759555   2820.728117\n",
              "     Americas   3.187602e+07  6.203282e+07   8889.300863   7874.225145\n",
              "     Asia       1.025238e+08  2.623497e+08   9834.093295  11094.180481\n",
              "     Europe     1.896480e+07  2.274815e+07  19076.781802  10065.457716\n",
              "     Oceania    1.112072e+07  1.052815e+07  24024.175170   4205.533703\n",
              "2002 Africa     1.603315e+07  2.230300e+07   2599.385159   2972.651308\n",
              "     Americas   3.399091e+07  6.560155e+07   9287.677107   8895.817785\n",
              "     Asia       1.091455e+08  2.767017e+08  10174.090397  11150.719203\n",
              "     Europe     1.927413e+07  2.322369e+07  21711.732422  11197.355517\n",
              "     Oceania    1.172741e+07  1.105827e+07  26938.778040   5301.853680\n",
              "2007 Africa     1.787576e+07  2.491773e+07   3089.032605   3618.163491\n",
              "     Americas   3.595485e+07  6.883378e+07  11003.031625   9713.209302\n",
              "     Asia       1.155138e+08  2.896734e+08  12473.026870  14154.937343\n",
              "     Europe     1.953662e+07  2.362474e+07  25054.481636  11800.339811\n",
              "     Oceania    1.227497e+07  1.153885e+07  29810.188275   6540.991104"
            ]
          },
          "execution_count": 31,
          "metadata": {},
          "output_type": "execute_result"
        }
      ],
      "source": [
        "yearcont = df.groupby(['year','continent'])[['pop','gdpPercap']].agg([np.mean, np.std])\n",
        "yearcont"
      ]
    },
    {
      "cell_type": "markdown",
      "metadata": {
        "id": "rYL_rQr37cNW"
      },
      "source": [
        "Nesse caso o índice será composto, tornando mais difícil acesso\n",
        "\n",
        "Tente mostrar o `yearcont.index` para ver"
      ]
    },
    {
      "cell_type": "code",
      "execution_count": null,
      "metadata": {
        "id": "ioy-kZFu7cNW",
        "outputId": "2007f8c9-6d28-4c03-c90c-5c9e02106ec9"
      },
      "outputs": [
        {
          "data": {
            "text/plain": [
              "MultiIndex([(1952,   'Africa'),\n",
              "            (1952, 'Americas'),\n",
              "            (1952,     'Asia'),\n",
              "            (1952,   'Europe'),\n",
              "            (1952,  'Oceania'),\n",
              "            (1957,   'Africa'),\n",
              "            (1957, 'Americas'),\n",
              "            (1957,     'Asia'),\n",
              "            (1957,   'Europe'),\n",
              "            (1957,  'Oceania'),\n",
              "            (1962,   'Africa'),\n",
              "            (1962, 'Americas'),\n",
              "            (1962,     'Asia'),\n",
              "            (1962,   'Europe'),\n",
              "            (1962,  'Oceania'),\n",
              "            (1967,   'Africa'),\n",
              "            (1967, 'Americas'),\n",
              "            (1967,     'Asia'),\n",
              "            (1967,   'Europe'),\n",
              "            (1967,  'Oceania'),\n",
              "            (1972,   'Africa'),\n",
              "            (1972, 'Americas'),\n",
              "            (1972,     'Asia'),\n",
              "            (1972,   'Europe'),\n",
              "            (1972,  'Oceania'),\n",
              "            (1977,   'Africa'),\n",
              "            (1977, 'Americas'),\n",
              "            (1977,     'Asia'),\n",
              "            (1977,   'Europe'),\n",
              "            (1977,  'Oceania'),\n",
              "            (1982,   'Africa'),\n",
              "            (1982, 'Americas'),\n",
              "            (1982,     'Asia'),\n",
              "            (1982,   'Europe'),\n",
              "            (1982,  'Oceania'),\n",
              "            (1987,   'Africa'),\n",
              "            (1987, 'Americas'),\n",
              "            (1987,     'Asia'),\n",
              "            (1987,   'Europe'),\n",
              "            (1987,  'Oceania'),\n",
              "            (1992,   'Africa'),\n",
              "            (1992, 'Americas'),\n",
              "            (1992,     'Asia'),\n",
              "            (1992,   'Europe'),\n",
              "            (1992,  'Oceania'),\n",
              "            (1997,   'Africa'),\n",
              "            (1997, 'Americas'),\n",
              "            (1997,     'Asia'),\n",
              "            (1997,   'Europe'),\n",
              "            (1997,  'Oceania'),\n",
              "            (2002,   'Africa'),\n",
              "            (2002, 'Americas'),\n",
              "            (2002,     'Asia'),\n",
              "            (2002,   'Europe'),\n",
              "            (2002,  'Oceania'),\n",
              "            (2007,   'Africa'),\n",
              "            (2007, 'Americas'),\n",
              "            (2007,     'Asia'),\n",
              "            (2007,   'Europe'),\n",
              "            (2007,  'Oceania')],\n",
              "           names=['year', 'continent'])"
            ]
          },
          "execution_count": 32,
          "metadata": {},
          "output_type": "execute_result"
        }
      ],
      "source": [
        "yearcont.index"
      ]
    },
    {
      "cell_type": "markdown",
      "metadata": {
        "id": "RPIZMzZo7cNW"
      },
      "source": [
        "Para facilitar, é útil \"achatar\" os índices, resetando-os"
      ]
    },
    {
      "cell_type": "code",
      "execution_count": null,
      "metadata": {
        "id": "dvZS-SDM7cNW",
        "outputId": "3d3be779-c514-4418-8fb5-c08edf3c25f4"
      },
      "outputs": [
        {
          "data": {
            "text/html": [
              "<div>\n",
              "<style scoped>\n",
              "    .dataframe tbody tr th:only-of-type {\n",
              "        vertical-align: middle;\n",
              "    }\n",
              "\n",
              "    .dataframe tbody tr th {\n",
              "        vertical-align: top;\n",
              "    }\n",
              "\n",
              "    .dataframe thead tr th {\n",
              "        text-align: left;\n",
              "    }\n",
              "</style>\n",
              "<table border=\"1\" class=\"dataframe\">\n",
              "  <thead>\n",
              "    <tr>\n",
              "      <th></th>\n",
              "      <th>year</th>\n",
              "      <th>continent</th>\n",
              "      <th colspan=\"2\" halign=\"left\">pop</th>\n",
              "      <th colspan=\"2\" halign=\"left\">gdpPercap</th>\n",
              "    </tr>\n",
              "    <tr>\n",
              "      <th></th>\n",
              "      <th></th>\n",
              "      <th></th>\n",
              "      <th>mean</th>\n",
              "      <th>std</th>\n",
              "      <th>mean</th>\n",
              "      <th>std</th>\n",
              "    </tr>\n",
              "  </thead>\n",
              "  <tbody>\n",
              "    <tr>\n",
              "      <th>0</th>\n",
              "      <td>1952</td>\n",
              "      <td>Africa</td>\n",
              "      <td>4.570010e+06</td>\n",
              "      <td>6.317450e+06</td>\n",
              "      <td>1252.572466</td>\n",
              "      <td>982.952116</td>\n",
              "    </tr>\n",
              "    <tr>\n",
              "      <th>1</th>\n",
              "      <td>1952</td>\n",
              "      <td>Americas</td>\n",
              "      <td>1.380610e+07</td>\n",
              "      <td>3.234163e+07</td>\n",
              "      <td>4079.062552</td>\n",
              "      <td>3001.727522</td>\n",
              "    </tr>\n",
              "    <tr>\n",
              "      <th>2</th>\n",
              "      <td>1952</td>\n",
              "      <td>Asia</td>\n",
              "      <td>4.228356e+07</td>\n",
              "      <td>1.132267e+08</td>\n",
              "      <td>5195.484004</td>\n",
              "      <td>18634.890865</td>\n",
              "    </tr>\n",
              "    <tr>\n",
              "      <th>3</th>\n",
              "      <td>1952</td>\n",
              "      <td>Europe</td>\n",
              "      <td>1.393736e+07</td>\n",
              "      <td>1.724745e+07</td>\n",
              "      <td>5661.057435</td>\n",
              "      <td>3114.060493</td>\n",
              "    </tr>\n",
              "    <tr>\n",
              "      <th>4</th>\n",
              "      <td>1952</td>\n",
              "      <td>Oceania</td>\n",
              "      <td>5.343003e+06</td>\n",
              "      <td>4.735083e+06</td>\n",
              "      <td>10298.085650</td>\n",
              "      <td>365.560078</td>\n",
              "    </tr>\n",
              "    <tr>\n",
              "      <th>5</th>\n",
              "      <td>1957</td>\n",
              "      <td>Africa</td>\n",
              "      <td>5.093033e+06</td>\n",
              "      <td>7.076042e+06</td>\n",
              "      <td>1385.236062</td>\n",
              "      <td>1134.508918</td>\n",
              "    </tr>\n",
              "    <tr>\n",
              "      <th>6</th>\n",
              "      <td>1957</td>\n",
              "      <td>Americas</td>\n",
              "      <td>1.547816e+07</td>\n",
              "      <td>3.553706e+07</td>\n",
              "      <td>4616.043733</td>\n",
              "      <td>3312.381083</td>\n",
              "    </tr>\n",
              "    <tr>\n",
              "      <th>7</th>\n",
              "      <td>1957</td>\n",
              "      <td>Asia</td>\n",
              "      <td>4.735699e+07</td>\n",
              "      <td>1.280961e+08</td>\n",
              "      <td>5787.732940</td>\n",
              "      <td>19506.515959</td>\n",
              "    </tr>\n",
              "    <tr>\n",
              "      <th>8</th>\n",
              "      <td>1957</td>\n",
              "      <td>Europe</td>\n",
              "      <td>1.459635e+07</td>\n",
              "      <td>1.783235e+07</td>\n",
              "      <td>6963.012816</td>\n",
              "      <td>3677.950146</td>\n",
              "    </tr>\n",
              "    <tr>\n",
              "      <th>9</th>\n",
              "      <td>1957</td>\n",
              "      <td>Oceania</td>\n",
              "      <td>5.970988e+06</td>\n",
              "      <td>5.291395e+06</td>\n",
              "      <td>11598.522455</td>\n",
              "      <td>917.644806</td>\n",
              "    </tr>\n",
              "  </tbody>\n",
              "</table>\n",
              "</div>"
            ],
            "text/plain": [
              "   year continent           pop                   gdpPercap              \n",
              "                           mean           std          mean           std\n",
              "0  1952    Africa  4.570010e+06  6.317450e+06   1252.572466    982.952116\n",
              "1  1952  Americas  1.380610e+07  3.234163e+07   4079.062552   3001.727522\n",
              "2  1952      Asia  4.228356e+07  1.132267e+08   5195.484004  18634.890865\n",
              "3  1952    Europe  1.393736e+07  1.724745e+07   5661.057435   3114.060493\n",
              "4  1952   Oceania  5.343003e+06  4.735083e+06  10298.085650    365.560078\n",
              "5  1957    Africa  5.093033e+06  7.076042e+06   1385.236062   1134.508918\n",
              "6  1957  Americas  1.547816e+07  3.553706e+07   4616.043733   3312.381083\n",
              "7  1957      Asia  4.735699e+07  1.280961e+08   5787.732940  19506.515959\n",
              "8  1957    Europe  1.459635e+07  1.783235e+07   6963.012816   3677.950146\n",
              "9  1957   Oceania  5.970988e+06  5.291395e+06  11598.522455    917.644806"
            ]
          },
          "execution_count": 33,
          "metadata": {},
          "output_type": "execute_result"
        }
      ],
      "source": [
        "yearcont = yearcont.reset_index()\n",
        "yearcont.head(10)"
      ]
    },
    {
      "cell_type": "markdown",
      "metadata": {
        "id": "VcmOEsuN7cNX"
      },
      "source": [
        "---\n",
        "\n",
        "#### <font color=\"blue\">Exercício 2.9</font>\n",
        "\n",
        "Carregue o arquivo `tips.csv`:\n",
        "1. Filtre as linhas selecionando apenas jantares (time = 'Dinner') e cuja conta foi superior a 40 (total_bill > 40), mostrando o total da conta, número de pessoas na mesa e gorjeta (total_bill, size, tip);\n",
        "2. Obtenha um novo dataframe em que seja mostrada a gorjeta (tip) média e máxima para cada valor de dia da semana (day) e horário (time)"
      ]
    },
    {
      "cell_type": "code",
      "execution_count": null,
      "metadata": {
        "scrolled": false,
        "id": "MIw1az1Y7cNX"
      },
      "outputs": [],
      "source": [
        "dtips = pd.read_csv('tips.csv')"
      ]
    },
    {
      "cell_type": "markdown",
      "metadata": {
        "id": "b-yILbJ27cNX"
      },
      "source": [
        "---\n",
        "# Transformações com `apply`, `map` e `applymap`\n",
        "\n",
        "* `apply` aplica uma função ao longo de linhas (axis=0) ou colunas (axis=1) de um DataFrame\n",
        "* `map` aplica uma função em cada elemento de uma Serie\n",
        "* `applymap` aplica uma função em cada elemento de um DataFrame"
      ]
    },
    {
      "cell_type": "code",
      "execution_count": null,
      "metadata": {
        "id": "8TKlSVBA7cNX",
        "outputId": "4ed0ab62-57f3-46ae-c3d9-c41eaf26e2fb"
      },
      "outputs": [
        {
          "data": {
            "text/html": [
              "<div>\n",
              "<style scoped>\n",
              "    .dataframe tbody tr th:only-of-type {\n",
              "        vertical-align: middle;\n",
              "    }\n",
              "\n",
              "    .dataframe tbody tr th {\n",
              "        vertical-align: top;\n",
              "    }\n",
              "\n",
              "    .dataframe thead th {\n",
              "        text-align: right;\n",
              "    }\n",
              "</style>\n",
              "<table border=\"1\" class=\"dataframe\">\n",
              "  <thead>\n",
              "    <tr style=\"text-align: right;\">\n",
              "      <th></th>\n",
              "      <th>total_bill</th>\n",
              "      <th>tip</th>\n",
              "      <th>sex</th>\n",
              "      <th>smoker</th>\n",
              "      <th>day</th>\n",
              "      <th>time</th>\n",
              "      <th>size</th>\n",
              "    </tr>\n",
              "  </thead>\n",
              "  <tbody>\n",
              "    <tr>\n",
              "      <th>0</th>\n",
              "      <td>16.99</td>\n",
              "      <td>1.01</td>\n",
              "      <td>Female</td>\n",
              "      <td>No</td>\n",
              "      <td>Sun</td>\n",
              "      <td>Dinner</td>\n",
              "      <td>2</td>\n",
              "    </tr>\n",
              "    <tr>\n",
              "      <th>1</th>\n",
              "      <td>10.34</td>\n",
              "      <td>1.66</td>\n",
              "      <td>Male</td>\n",
              "      <td>No</td>\n",
              "      <td>Sun</td>\n",
              "      <td>Dinner</td>\n",
              "      <td>3</td>\n",
              "    </tr>\n",
              "    <tr>\n",
              "      <th>2</th>\n",
              "      <td>21.01</td>\n",
              "      <td>3.50</td>\n",
              "      <td>Male</td>\n",
              "      <td>No</td>\n",
              "      <td>Sun</td>\n",
              "      <td>Dinner</td>\n",
              "      <td>3</td>\n",
              "    </tr>\n",
              "    <tr>\n",
              "      <th>3</th>\n",
              "      <td>23.68</td>\n",
              "      <td>3.31</td>\n",
              "      <td>Male</td>\n",
              "      <td>No</td>\n",
              "      <td>Sun</td>\n",
              "      <td>Dinner</td>\n",
              "      <td>2</td>\n",
              "    </tr>\n",
              "    <tr>\n",
              "      <th>4</th>\n",
              "      <td>24.59</td>\n",
              "      <td>3.61</td>\n",
              "      <td>Female</td>\n",
              "      <td>No</td>\n",
              "      <td>Sun</td>\n",
              "      <td>Dinner</td>\n",
              "      <td>4</td>\n",
              "    </tr>\n",
              "    <tr>\n",
              "      <th>...</th>\n",
              "      <td>...</td>\n",
              "      <td>...</td>\n",
              "      <td>...</td>\n",
              "      <td>...</td>\n",
              "      <td>...</td>\n",
              "      <td>...</td>\n",
              "      <td>...</td>\n",
              "    </tr>\n",
              "    <tr>\n",
              "      <th>240</th>\n",
              "      <td>29.03</td>\n",
              "      <td>5.92</td>\n",
              "      <td>Male</td>\n",
              "      <td>No</td>\n",
              "      <td>Sat</td>\n",
              "      <td>Dinner</td>\n",
              "      <td>3</td>\n",
              "    </tr>\n",
              "    <tr>\n",
              "      <th>241</th>\n",
              "      <td>27.18</td>\n",
              "      <td>NaN</td>\n",
              "      <td>Female</td>\n",
              "      <td>Yes</td>\n",
              "      <td>Sat</td>\n",
              "      <td>Dinner</td>\n",
              "      <td>2</td>\n",
              "    </tr>\n",
              "    <tr>\n",
              "      <th>242</th>\n",
              "      <td>22.67</td>\n",
              "      <td>NaN</td>\n",
              "      <td>Male</td>\n",
              "      <td>Yes</td>\n",
              "      <td>Sat</td>\n",
              "      <td>Dinner</td>\n",
              "      <td>2</td>\n",
              "    </tr>\n",
              "    <tr>\n",
              "      <th>243</th>\n",
              "      <td>17.82</td>\n",
              "      <td>1.75</td>\n",
              "      <td>Male</td>\n",
              "      <td>No</td>\n",
              "      <td>Sat</td>\n",
              "      <td>Dinner</td>\n",
              "      <td>2</td>\n",
              "    </tr>\n",
              "    <tr>\n",
              "      <th>244</th>\n",
              "      <td>NaN</td>\n",
              "      <td>3.00</td>\n",
              "      <td>Female</td>\n",
              "      <td>No</td>\n",
              "      <td>Thur</td>\n",
              "      <td>Dinner</td>\n",
              "      <td>2</td>\n",
              "    </tr>\n",
              "  </tbody>\n",
              "</table>\n",
              "<p>245 rows × 7 columns</p>\n",
              "</div>"
            ],
            "text/plain": [
              "     total_bill   tip     sex smoker   day    time  size\n",
              "0         16.99  1.01  Female     No   Sun  Dinner     2\n",
              "1         10.34  1.66    Male     No   Sun  Dinner     3\n",
              "2         21.01  3.50    Male     No   Sun  Dinner     3\n",
              "3         23.68  3.31    Male     No   Sun  Dinner     2\n",
              "4         24.59  3.61  Female     No   Sun  Dinner     4\n",
              "..          ...   ...     ...    ...   ...     ...   ...\n",
              "240       29.03  5.92    Male     No   Sat  Dinner     3\n",
              "241       27.18   NaN  Female    Yes   Sat  Dinner     2\n",
              "242       22.67   NaN    Male    Yes   Sat  Dinner     2\n",
              "243       17.82  1.75    Male     No   Sat  Dinner     2\n",
              "244         NaN  3.00  Female     No  Thur  Dinner     2\n",
              "\n",
              "[245 rows x 7 columns]"
            ]
          },
          "execution_count": 35,
          "metadata": {},
          "output_type": "execute_result"
        }
      ],
      "source": [
        "dtips"
      ]
    },
    {
      "cell_type": "code",
      "execution_count": null,
      "metadata": {
        "id": "Uv-G_OFt7cNX",
        "outputId": "22c4f477-bd2e-4317-fe89-63bcbf7f4261"
      },
      "outputs": [
        {
          "data": {
            "text/plain": [
              "total_bill    4817.15\n",
              "tip            727.43\n",
              "dtype: float64"
            ]
          },
          "execution_count": 36,
          "metadata": {},
          "output_type": "execute_result"
        }
      ],
      "source": [
        "# soma das contas e gorjetas ao longo das linhas\n",
        "dtips[['total_bill','tip']].apply(np.sum)"
      ]
    },
    {
      "cell_type": "code",
      "execution_count": null,
      "metadata": {
        "id": "Y5JsCcXt7cNX",
        "outputId": "a035064e-a657-45ee-b70b-7f955642f281"
      },
      "outputs": [
        {
          "data": {
            "text/plain": [
              "0      18.00\n",
              "1      12.00\n",
              "2      24.51\n",
              "3      26.99\n",
              "4      28.20\n",
              "       ...  \n",
              "240    34.95\n",
              "241    27.18\n",
              "242    22.67\n",
              "243    19.57\n",
              "244     3.00\n",
              "Length: 245, dtype: float64"
            ]
          },
          "execution_count": 37,
          "metadata": {},
          "output_type": "execute_result"
        }
      ],
      "source": [
        "# soma da conta e gorjeta ao longo das colunas (total do dia)\n",
        "dtips[['total_bill','tip']].apply(np.sum, axis=1)"
      ]
    },
    {
      "cell_type": "code",
      "execution_count": null,
      "metadata": {
        "id": "jMkVncHH7cNY",
        "outputId": "bfae6abe-0dfc-4d20-a94c-bcc2dded34f0"
      },
      "outputs": [
        {
          "data": {
            "text/html": [
              "<div>\n",
              "<style scoped>\n",
              "    .dataframe tbody tr th:only-of-type {\n",
              "        vertical-align: middle;\n",
              "    }\n",
              "\n",
              "    .dataframe tbody tr th {\n",
              "        vertical-align: top;\n",
              "    }\n",
              "\n",
              "    .dataframe thead th {\n",
              "        text-align: right;\n",
              "    }\n",
              "</style>\n",
              "<table border=\"1\" class=\"dataframe\">\n",
              "  <thead>\n",
              "    <tr style=\"text-align: right;\">\n",
              "      <th></th>\n",
              "      <th>total_bill</th>\n",
              "      <th>tip</th>\n",
              "      <th>sex</th>\n",
              "      <th>smoker</th>\n",
              "      <th>day</th>\n",
              "      <th>time</th>\n",
              "      <th>size</th>\n",
              "      <th>tip_perperson</th>\n",
              "    </tr>\n",
              "  </thead>\n",
              "  <tbody>\n",
              "    <tr>\n",
              "      <th>0</th>\n",
              "      <td>16.99</td>\n",
              "      <td>1.01</td>\n",
              "      <td>Female</td>\n",
              "      <td>No</td>\n",
              "      <td>Sun</td>\n",
              "      <td>Dinner</td>\n",
              "      <td>2</td>\n",
              "      <td>0.50</td>\n",
              "    </tr>\n",
              "    <tr>\n",
              "      <th>1</th>\n",
              "      <td>10.34</td>\n",
              "      <td>1.66</td>\n",
              "      <td>Male</td>\n",
              "      <td>No</td>\n",
              "      <td>Sun</td>\n",
              "      <td>Dinner</td>\n",
              "      <td>3</td>\n",
              "      <td>0.55</td>\n",
              "    </tr>\n",
              "    <tr>\n",
              "      <th>2</th>\n",
              "      <td>21.01</td>\n",
              "      <td>3.50</td>\n",
              "      <td>Male</td>\n",
              "      <td>No</td>\n",
              "      <td>Sun</td>\n",
              "      <td>Dinner</td>\n",
              "      <td>3</td>\n",
              "      <td>1.17</td>\n",
              "    </tr>\n",
              "    <tr>\n",
              "      <th>3</th>\n",
              "      <td>23.68</td>\n",
              "      <td>3.31</td>\n",
              "      <td>Male</td>\n",
              "      <td>No</td>\n",
              "      <td>Sun</td>\n",
              "      <td>Dinner</td>\n",
              "      <td>2</td>\n",
              "      <td>1.66</td>\n",
              "    </tr>\n",
              "    <tr>\n",
              "      <th>4</th>\n",
              "      <td>24.59</td>\n",
              "      <td>3.61</td>\n",
              "      <td>Female</td>\n",
              "      <td>No</td>\n",
              "      <td>Sun</td>\n",
              "      <td>Dinner</td>\n",
              "      <td>4</td>\n",
              "      <td>0.90</td>\n",
              "    </tr>\n",
              "    <tr>\n",
              "      <th>...</th>\n",
              "      <td>...</td>\n",
              "      <td>...</td>\n",
              "      <td>...</td>\n",
              "      <td>...</td>\n",
              "      <td>...</td>\n",
              "      <td>...</td>\n",
              "      <td>...</td>\n",
              "      <td>...</td>\n",
              "    </tr>\n",
              "    <tr>\n",
              "      <th>240</th>\n",
              "      <td>29.03</td>\n",
              "      <td>5.92</td>\n",
              "      <td>Male</td>\n",
              "      <td>No</td>\n",
              "      <td>Sat</td>\n",
              "      <td>Dinner</td>\n",
              "      <td>3</td>\n",
              "      <td>1.97</td>\n",
              "    </tr>\n",
              "    <tr>\n",
              "      <th>241</th>\n",
              "      <td>27.18</td>\n",
              "      <td>NaN</td>\n",
              "      <td>Female</td>\n",
              "      <td>Yes</td>\n",
              "      <td>Sat</td>\n",
              "      <td>Dinner</td>\n",
              "      <td>2</td>\n",
              "      <td>NaN</td>\n",
              "    </tr>\n",
              "    <tr>\n",
              "      <th>242</th>\n",
              "      <td>22.67</td>\n",
              "      <td>NaN</td>\n",
              "      <td>Male</td>\n",
              "      <td>Yes</td>\n",
              "      <td>Sat</td>\n",
              "      <td>Dinner</td>\n",
              "      <td>2</td>\n",
              "      <td>NaN</td>\n",
              "    </tr>\n",
              "    <tr>\n",
              "      <th>243</th>\n",
              "      <td>17.82</td>\n",
              "      <td>1.75</td>\n",
              "      <td>Male</td>\n",
              "      <td>No</td>\n",
              "      <td>Sat</td>\n",
              "      <td>Dinner</td>\n",
              "      <td>2</td>\n",
              "      <td>0.88</td>\n",
              "    </tr>\n",
              "    <tr>\n",
              "      <th>244</th>\n",
              "      <td>NaN</td>\n",
              "      <td>3.00</td>\n",
              "      <td>Female</td>\n",
              "      <td>No</td>\n",
              "      <td>Thur</td>\n",
              "      <td>Dinner</td>\n",
              "      <td>2</td>\n",
              "      <td>1.50</td>\n",
              "    </tr>\n",
              "  </tbody>\n",
              "</table>\n",
              "<p>245 rows × 8 columns</p>\n",
              "</div>"
            ],
            "text/plain": [
              "     total_bill   tip     sex smoker   day    time  size  tip_perperson\n",
              "0         16.99  1.01  Female     No   Sun  Dinner     2           0.50\n",
              "1         10.34  1.66    Male     No   Sun  Dinner     3           0.55\n",
              "2         21.01  3.50    Male     No   Sun  Dinner     3           1.17\n",
              "3         23.68  3.31    Male     No   Sun  Dinner     2           1.66\n",
              "4         24.59  3.61  Female     No   Sun  Dinner     4           0.90\n",
              "..          ...   ...     ...    ...   ...     ...   ...            ...\n",
              "240       29.03  5.92    Male     No   Sat  Dinner     3           1.97\n",
              "241       27.18   NaN  Female    Yes   Sat  Dinner     2            NaN\n",
              "242       22.67   NaN    Male    Yes   Sat  Dinner     2            NaN\n",
              "243       17.82  1.75    Male     No   Sat  Dinner     2           0.88\n",
              "244         NaN  3.00  Female     No  Thur  Dinner     2           1.50\n",
              "\n",
              "[245 rows x 8 columns]"
            ]
          },
          "execution_count": 38,
          "metadata": {},
          "output_type": "execute_result"
        }
      ],
      "source": [
        "# criando coluna com gorjeta média por pessoa na mesa\n",
        "dtips['tip_perperson'] = dtips.apply(lambda x: np.round(x['tip']/x['size'],2), axis=1)\n",
        "dtips"
      ]
    },
    {
      "cell_type": "code",
      "execution_count": null,
      "metadata": {
        "scrolled": true,
        "id": "bQ-r8Mpm7cNY",
        "outputId": "c31296fc-12f3-4bbe-f956-1f326bc927a6"
      },
      "outputs": [
        {
          "data": {
            "text/html": [
              "<div>\n",
              "<style scoped>\n",
              "    .dataframe tbody tr th:only-of-type {\n",
              "        vertical-align: middle;\n",
              "    }\n",
              "\n",
              "    .dataframe tbody tr th {\n",
              "        vertical-align: top;\n",
              "    }\n",
              "\n",
              "    .dataframe thead th {\n",
              "        text-align: right;\n",
              "    }\n",
              "</style>\n",
              "<table border=\"1\" class=\"dataframe\">\n",
              "  <thead>\n",
              "    <tr style=\"text-align: right;\">\n",
              "      <th></th>\n",
              "      <th>total_bill</th>\n",
              "      <th>tip</th>\n",
              "    </tr>\n",
              "  </thead>\n",
              "  <tbody>\n",
              "    <tr>\n",
              "      <th>0</th>\n",
              "      <td>17.0</td>\n",
              "      <td>1.0</td>\n",
              "    </tr>\n",
              "    <tr>\n",
              "      <th>1</th>\n",
              "      <td>10.0</td>\n",
              "      <td>2.0</td>\n",
              "    </tr>\n",
              "    <tr>\n",
              "      <th>2</th>\n",
              "      <td>21.0</td>\n",
              "      <td>4.0</td>\n",
              "    </tr>\n",
              "    <tr>\n",
              "      <th>3</th>\n",
              "      <td>24.0</td>\n",
              "      <td>3.0</td>\n",
              "    </tr>\n",
              "    <tr>\n",
              "      <th>4</th>\n",
              "      <td>25.0</td>\n",
              "      <td>4.0</td>\n",
              "    </tr>\n",
              "    <tr>\n",
              "      <th>...</th>\n",
              "      <td>...</td>\n",
              "      <td>...</td>\n",
              "    </tr>\n",
              "    <tr>\n",
              "      <th>240</th>\n",
              "      <td>29.0</td>\n",
              "      <td>6.0</td>\n",
              "    </tr>\n",
              "    <tr>\n",
              "      <th>241</th>\n",
              "      <td>27.0</td>\n",
              "      <td>NaN</td>\n",
              "    </tr>\n",
              "    <tr>\n",
              "      <th>242</th>\n",
              "      <td>23.0</td>\n",
              "      <td>NaN</td>\n",
              "    </tr>\n",
              "    <tr>\n",
              "      <th>243</th>\n",
              "      <td>18.0</td>\n",
              "      <td>2.0</td>\n",
              "    </tr>\n",
              "    <tr>\n",
              "      <th>244</th>\n",
              "      <td>NaN</td>\n",
              "      <td>3.0</td>\n",
              "    </tr>\n",
              "  </tbody>\n",
              "</table>\n",
              "<p>245 rows × 2 columns</p>\n",
              "</div>"
            ],
            "text/plain": [
              "     total_bill  tip\n",
              "0          17.0  1.0\n",
              "1          10.0  2.0\n",
              "2          21.0  4.0\n",
              "3          24.0  3.0\n",
              "4          25.0  4.0\n",
              "..          ...  ...\n",
              "240        29.0  6.0\n",
              "241        27.0  NaN\n",
              "242        23.0  NaN\n",
              "243        18.0  2.0\n",
              "244         NaN  3.0\n",
              "\n",
              "[245 rows x 2 columns]"
            ]
          },
          "execution_count": 39,
          "metadata": {},
          "output_type": "execute_result"
        }
      ],
      "source": [
        "dtips[['total_bill','tip']].applymap(np.round)"
      ]
    },
    {
      "cell_type": "code",
      "execution_count": null,
      "metadata": {
        "id": "6p_NbArD7cNY",
        "outputId": "b80b3afd-aa84-433a-9b90-aee86f87592f"
      },
      "outputs": [
        {
          "data": {
            "text/plain": [
              "0      17.0\n",
              "1      10.0\n",
              "2      21.0\n",
              "3      24.0\n",
              "4      25.0\n",
              "       ... \n",
              "240    29.0\n",
              "241    27.0\n",
              "242    23.0\n",
              "243    18.0\n",
              "244     NaN\n",
              "Name: total_bill, Length: 245, dtype: float64"
            ]
          },
          "execution_count": 40,
          "metadata": {},
          "output_type": "execute_result"
        }
      ],
      "source": [
        "dtips['total_bill'].map(np.round)"
      ]
    },
    {
      "cell_type": "code",
      "execution_count": null,
      "metadata": {
        "id": "LKeeQfLS7cNY"
      },
      "outputs": [],
      "source": []
    },
    {
      "cell_type": "markdown",
      "metadata": {
        "id": "SbS3Nm3q7cNZ"
      },
      "source": [
        "---\n",
        "# Limpeza de dados\n",
        "\n",
        "## Tratando dados faltantes e duplicados"
      ]
    },
    {
      "cell_type": "markdown",
      "metadata": {
        "id": "x3eQe4jR7cNZ"
      },
      "source": [
        "Esse dataset traz valores **faltantes**\n",
        "\n",
        "Por padrão, esses serão carregados como sendo valores `NaN` do `numpy`\n",
        "\n",
        "É preciso investigá-los pois eles são apenas ignorados pela maioria das funções"
      ]
    },
    {
      "cell_type": "code",
      "execution_count": null,
      "metadata": {
        "id": "68Q4dta-7cNZ",
        "outputId": "72a3317f-8d6c-492b-cd25-b2b61d7f7645"
      },
      "outputs": [
        {
          "data": {
            "text/plain": [
              "True"
            ]
          },
          "execution_count": 67,
          "metadata": {},
          "output_type": "execute_result"
        }
      ],
      "source": [
        "dtips = pd.read_csv('tips.csv')\n",
        "\n",
        "pd.isna(dtips)\n",
        "\n",
        "np.any(pd.isna(dtips))"
      ]
    },
    {
      "cell_type": "markdown",
      "metadata": {
        "id": "nTAlzF337cNZ"
      },
      "source": [
        "### Percorrendo colunas\n",
        "\n",
        "Por padrão a iteração é por linhas, vamos iterar pelas colunas procurando onde há dados faltantes"
      ]
    },
    {
      "cell_type": "code",
      "execution_count": null,
      "metadata": {
        "id": "7f851Ixi7cNZ",
        "outputId": "be6acff1-0c32-4584-eb3d-02fd6c070bde"
      },
      "outputs": [
        {
          "name": "stdout",
          "output_type": "stream",
          "text": [
            "Dados faltantes em:\n",
            "total_bill\n",
            "tip\n"
          ]
        }
      ],
      "source": [
        "print('Dados faltantes em:')\n",
        "for (colName, colData) in dtips.iteritems():\n",
        "    if (np.any(pd.isna(colData))):\n",
        "        print(colName)"
      ]
    },
    {
      "cell_type": "markdown",
      "metadata": {
        "id": "gkYYd_SZ7cNZ"
      },
      "source": [
        "Para filtrar especificamente os valores `NaN` há algumas opções, em particular `isna()`  combinado com `any(axis=1)` para verificar todas as colunas"
      ]
    },
    {
      "cell_type": "code",
      "execution_count": null,
      "metadata": {
        "id": "x-lzWwb67cNa",
        "outputId": "a1c617a3-601e-498b-aca3-212f0bd90858"
      },
      "outputs": [
        {
          "data": {
            "text/plain": [
              "0      False\n",
              "1      False\n",
              "2      False\n",
              "3      False\n",
              "4      False\n",
              "       ...  \n",
              "240    False\n",
              "241     True\n",
              "242     True\n",
              "243    False\n",
              "244     True\n",
              "Length: 245, dtype: bool"
            ]
          },
          "execution_count": 69,
          "metadata": {},
          "output_type": "execute_result"
        }
      ],
      "source": [
        "np.any(dtips.isna(),axis=1)"
      ]
    },
    {
      "cell_type": "code",
      "execution_count": null,
      "metadata": {
        "scrolled": true,
        "id": "5QS3w4KS7cNa",
        "outputId": "2e31faca-19b8-47c9-a031-1a65753a4390"
      },
      "outputs": [
        {
          "data": {
            "text/html": [
              "<div>\n",
              "<style scoped>\n",
              "    .dataframe tbody tr th:only-of-type {\n",
              "        vertical-align: middle;\n",
              "    }\n",
              "\n",
              "    .dataframe tbody tr th {\n",
              "        vertical-align: top;\n",
              "    }\n",
              "\n",
              "    .dataframe thead th {\n",
              "        text-align: right;\n",
              "    }\n",
              "</style>\n",
              "<table border=\"1\" class=\"dataframe\">\n",
              "  <thead>\n",
              "    <tr style=\"text-align: right;\">\n",
              "      <th></th>\n",
              "      <th>total_bill</th>\n",
              "      <th>tip</th>\n",
              "      <th>sex</th>\n",
              "      <th>smoker</th>\n",
              "      <th>day</th>\n",
              "      <th>time</th>\n",
              "      <th>size</th>\n",
              "    </tr>\n",
              "  </thead>\n",
              "  <tbody>\n",
              "    <tr>\n",
              "      <th>238</th>\n",
              "      <td>32.83</td>\n",
              "      <td>NaN</td>\n",
              "      <td>Male</td>\n",
              "      <td>Yes</td>\n",
              "      <td>Sat</td>\n",
              "      <td>Dinner</td>\n",
              "      <td>2</td>\n",
              "    </tr>\n",
              "    <tr>\n",
              "      <th>241</th>\n",
              "      <td>27.18</td>\n",
              "      <td>NaN</td>\n",
              "      <td>Female</td>\n",
              "      <td>Yes</td>\n",
              "      <td>Sat</td>\n",
              "      <td>Dinner</td>\n",
              "      <td>2</td>\n",
              "    </tr>\n",
              "    <tr>\n",
              "      <th>242</th>\n",
              "      <td>22.67</td>\n",
              "      <td>NaN</td>\n",
              "      <td>Male</td>\n",
              "      <td>Yes</td>\n",
              "      <td>Sat</td>\n",
              "      <td>Dinner</td>\n",
              "      <td>2</td>\n",
              "    </tr>\n",
              "    <tr>\n",
              "      <th>244</th>\n",
              "      <td>NaN</td>\n",
              "      <td>3.0</td>\n",
              "      <td>Female</td>\n",
              "      <td>No</td>\n",
              "      <td>Thur</td>\n",
              "      <td>Dinner</td>\n",
              "      <td>2</td>\n",
              "    </tr>\n",
              "  </tbody>\n",
              "</table>\n",
              "</div>"
            ],
            "text/plain": [
              "     total_bill  tip     sex smoker   day    time  size\n",
              "238       32.83  NaN    Male    Yes   Sat  Dinner     2\n",
              "241       27.18  NaN  Female    Yes   Sat  Dinner     2\n",
              "242       22.67  NaN    Male    Yes   Sat  Dinner     2\n",
              "244         NaN  3.0  Female     No  Thur  Dinner     2"
            ]
          },
          "execution_count": 70,
          "metadata": {},
          "output_type": "execute_result"
        }
      ],
      "source": [
        "dtips.loc[np.any(dtips.isna(),axis=1)]"
      ]
    },
    {
      "cell_type": "markdown",
      "metadata": {
        "id": "co5rqM7mtfqK"
      },
      "source": [
        "### `dropna`\n",
        "\n",
        "Remove todas as linhas ou colunas onde dados faltantes aparecem.\n",
        "\n",
        "* `axis` define se linhas (padrão, 0) ou colunas (1)"
      ]
    },
    {
      "cell_type": "code",
      "execution_count": null,
      "metadata": {
        "id": "EIfAoi6K7cNa",
        "outputId": "5bbc1634-fc06-42ac-cb04-2e44387c3624"
      },
      "outputs": [
        {
          "name": "stdout",
          "output_type": "stream",
          "text": [
            "(245, 7)\n"
          ]
        }
      ],
      "source": [
        "print(dtips.shape)"
      ]
    },
    {
      "cell_type": "code",
      "execution_count": null,
      "metadata": {
        "id": "pTLEbuDqtfqM",
        "outputId": "95ab44d1-aca3-4fce-dc4d-a83b9b8b8f16"
      },
      "outputs": [
        {
          "name": "stdout",
          "output_type": "stream",
          "text": [
            "(241, 7)\n"
          ]
        }
      ],
      "source": [
        "dtips_na_rows = dtips.dropna()\n",
        "print(dtips_na_rows.shape)"
      ]
    },
    {
      "cell_type": "code",
      "execution_count": null,
      "metadata": {
        "id": "-MndPiyd7cNb",
        "outputId": "8b350814-85ea-43df-e522-86cf745f1268"
      },
      "outputs": [
        {
          "name": "stdout",
          "output_type": "stream",
          "text": [
            "(245, 5)\n"
          ]
        }
      ],
      "source": [
        "dtips_na_cols = dtips.dropna(axis=1)\n",
        "print(dtips_na_cols.shape)"
      ]
    },
    {
      "cell_type": "markdown",
      "metadata": {
        "id": "0u9MV2KLtfqf"
      },
      "source": [
        "### `fillna`\n",
        "\n",
        "Substituir dados faltantes por algum valor"
      ]
    },
    {
      "cell_type": "code",
      "execution_count": null,
      "metadata": {
        "id": "yA-BHvfB7cNb",
        "outputId": "e45dde98-028a-4501-9de2-28d6b5bcb533"
      },
      "outputs": [
        {
          "data": {
            "text/html": [
              "<div>\n",
              "<style scoped>\n",
              "    .dataframe tbody tr th:only-of-type {\n",
              "        vertical-align: middle;\n",
              "    }\n",
              "\n",
              "    .dataframe tbody tr th {\n",
              "        vertical-align: top;\n",
              "    }\n",
              "\n",
              "    .dataframe thead th {\n",
              "        text-align: right;\n",
              "    }\n",
              "</style>\n",
              "<table border=\"1\" class=\"dataframe\">\n",
              "  <thead>\n",
              "    <tr style=\"text-align: right;\">\n",
              "      <th></th>\n",
              "      <th>total_bill</th>\n",
              "      <th>tip</th>\n",
              "      <th>sex</th>\n",
              "      <th>smoker</th>\n",
              "      <th>day</th>\n",
              "      <th>time</th>\n",
              "      <th>size</th>\n",
              "    </tr>\n",
              "  </thead>\n",
              "  <tbody>\n",
              "    <tr>\n",
              "      <th>238</th>\n",
              "      <td>32.83</td>\n",
              "      <td>NaN</td>\n",
              "      <td>Male</td>\n",
              "      <td>Yes</td>\n",
              "      <td>Sat</td>\n",
              "      <td>Dinner</td>\n",
              "      <td>2</td>\n",
              "    </tr>\n",
              "    <tr>\n",
              "      <th>241</th>\n",
              "      <td>27.18</td>\n",
              "      <td>NaN</td>\n",
              "      <td>Female</td>\n",
              "      <td>Yes</td>\n",
              "      <td>Sat</td>\n",
              "      <td>Dinner</td>\n",
              "      <td>2</td>\n",
              "    </tr>\n",
              "    <tr>\n",
              "      <th>242</th>\n",
              "      <td>22.67</td>\n",
              "      <td>NaN</td>\n",
              "      <td>Male</td>\n",
              "      <td>Yes</td>\n",
              "      <td>Sat</td>\n",
              "      <td>Dinner</td>\n",
              "      <td>2</td>\n",
              "    </tr>\n",
              "    <tr>\n",
              "      <th>244</th>\n",
              "      <td>NaN</td>\n",
              "      <td>3.0</td>\n",
              "      <td>Female</td>\n",
              "      <td>No</td>\n",
              "      <td>Thur</td>\n",
              "      <td>Dinner</td>\n",
              "      <td>2</td>\n",
              "    </tr>\n",
              "  </tbody>\n",
              "</table>\n",
              "</div>"
            ],
            "text/plain": [
              "     total_bill  tip     sex smoker   day    time  size\n",
              "238       32.83  NaN    Male    Yes   Sat  Dinner     2\n",
              "241       27.18  NaN  Female    Yes   Sat  Dinner     2\n",
              "242       22.67  NaN    Male    Yes   Sat  Dinner     2\n",
              "244         NaN  3.0  Female     No  Thur  Dinner     2"
            ]
          },
          "execution_count": 74,
          "metadata": {},
          "output_type": "execute_result"
        }
      ],
      "source": [
        "dtips.loc[np.any(dtips.isna(),axis=1)]"
      ]
    },
    {
      "cell_type": "code",
      "execution_count": null,
      "metadata": {
        "id": "5F8pimt6tfqh",
        "outputId": "130473e6-5105-433a-b3ac-de0868d64b1f",
        "scrolled": true
      },
      "outputs": [
        {
          "data": {
            "text/html": [
              "<div>\n",
              "<style scoped>\n",
              "    .dataframe tbody tr th:only-of-type {\n",
              "        vertical-align: middle;\n",
              "    }\n",
              "\n",
              "    .dataframe tbody tr th {\n",
              "        vertical-align: top;\n",
              "    }\n",
              "\n",
              "    .dataframe thead th {\n",
              "        text-align: right;\n",
              "    }\n",
              "</style>\n",
              "<table border=\"1\" class=\"dataframe\">\n",
              "  <thead>\n",
              "    <tr style=\"text-align: right;\">\n",
              "      <th></th>\n",
              "      <th>total_bill</th>\n",
              "      <th>tip</th>\n",
              "      <th>sex</th>\n",
              "      <th>smoker</th>\n",
              "      <th>day</th>\n",
              "      <th>time</th>\n",
              "      <th>size</th>\n",
              "    </tr>\n",
              "  </thead>\n",
              "  <tbody>\n",
              "    <tr>\n",
              "      <th>238</th>\n",
              "      <td>32.83</td>\n",
              "      <td>0.0</td>\n",
              "      <td>Male</td>\n",
              "      <td>Yes</td>\n",
              "      <td>Sat</td>\n",
              "      <td>Dinner</td>\n",
              "      <td>2</td>\n",
              "    </tr>\n",
              "    <tr>\n",
              "      <th>241</th>\n",
              "      <td>27.18</td>\n",
              "      <td>0.0</td>\n",
              "      <td>Female</td>\n",
              "      <td>Yes</td>\n",
              "      <td>Sat</td>\n",
              "      <td>Dinner</td>\n",
              "      <td>2</td>\n",
              "    </tr>\n",
              "    <tr>\n",
              "      <th>242</th>\n",
              "      <td>22.67</td>\n",
              "      <td>0.0</td>\n",
              "      <td>Male</td>\n",
              "      <td>Yes</td>\n",
              "      <td>Sat</td>\n",
              "      <td>Dinner</td>\n",
              "      <td>2</td>\n",
              "    </tr>\n",
              "    <tr>\n",
              "      <th>244</th>\n",
              "      <td>0.00</td>\n",
              "      <td>3.0</td>\n",
              "      <td>Female</td>\n",
              "      <td>No</td>\n",
              "      <td>Thur</td>\n",
              "      <td>Dinner</td>\n",
              "      <td>2</td>\n",
              "    </tr>\n",
              "  </tbody>\n",
              "</table>\n",
              "</div>"
            ],
            "text/plain": [
              "     total_bill  tip     sex smoker   day    time  size\n",
              "238       32.83  0.0    Male    Yes   Sat  Dinner     2\n",
              "241       27.18  0.0  Female    Yes   Sat  Dinner     2\n",
              "242       22.67  0.0    Male    Yes   Sat  Dinner     2\n",
              "244        0.00  3.0  Female     No  Thur  Dinner     2"
            ]
          },
          "execution_count": 75,
          "metadata": {},
          "output_type": "execute_result"
        }
      ],
      "source": [
        "dtips_fill1 = dtips.fillna(0)\n",
        "\n",
        "# mostrando dados preenchidos, filtrando pelos do dataframe com nans\n",
        "dtips_fill1.loc[np.any(dtips.isna(),axis=1)]"
      ]
    },
    {
      "cell_type": "markdown",
      "metadata": {
        "id": "hPGP35c67cNc"
      },
      "source": [
        "Preenchimento diferenciado por colunas pode ser feito com dicionário"
      ]
    },
    {
      "cell_type": "code",
      "execution_count": null,
      "metadata": {
        "id": "nJRvbIgjtfqr",
        "outputId": "8ab94662-6dd4-47b5-cd56-6555c239bad5"
      },
      "outputs": [
        {
          "data": {
            "text/html": [
              "<div>\n",
              "<style scoped>\n",
              "    .dataframe tbody tr th:only-of-type {\n",
              "        vertical-align: middle;\n",
              "    }\n",
              "\n",
              "    .dataframe tbody tr th {\n",
              "        vertical-align: top;\n",
              "    }\n",
              "\n",
              "    .dataframe thead th {\n",
              "        text-align: right;\n",
              "    }\n",
              "</style>\n",
              "<table border=\"1\" class=\"dataframe\">\n",
              "  <thead>\n",
              "    <tr style=\"text-align: right;\">\n",
              "      <th></th>\n",
              "      <th>total_bill</th>\n",
              "      <th>tip</th>\n",
              "      <th>sex</th>\n",
              "      <th>smoker</th>\n",
              "      <th>day</th>\n",
              "      <th>time</th>\n",
              "      <th>size</th>\n",
              "    </tr>\n",
              "  </thead>\n",
              "  <tbody>\n",
              "    <tr>\n",
              "      <th>238</th>\n",
              "      <td>32.83</td>\n",
              "      <td>0.0</td>\n",
              "      <td>Male</td>\n",
              "      <td>Yes</td>\n",
              "      <td>Sat</td>\n",
              "      <td>Dinner</td>\n",
              "      <td>2</td>\n",
              "    </tr>\n",
              "    <tr>\n",
              "      <th>241</th>\n",
              "      <td>27.18</td>\n",
              "      <td>0.0</td>\n",
              "      <td>Female</td>\n",
              "      <td>Yes</td>\n",
              "      <td>Sat</td>\n",
              "      <td>Dinner</td>\n",
              "      <td>2</td>\n",
              "    </tr>\n",
              "    <tr>\n",
              "      <th>242</th>\n",
              "      <td>22.67</td>\n",
              "      <td>0.0</td>\n",
              "      <td>Male</td>\n",
              "      <td>Yes</td>\n",
              "      <td>Sat</td>\n",
              "      <td>Dinner</td>\n",
              "      <td>2</td>\n",
              "    </tr>\n",
              "    <tr>\n",
              "      <th>244</th>\n",
              "      <td>-1.00</td>\n",
              "      <td>3.0</td>\n",
              "      <td>Female</td>\n",
              "      <td>No</td>\n",
              "      <td>Thur</td>\n",
              "      <td>Dinner</td>\n",
              "      <td>2</td>\n",
              "    </tr>\n",
              "  </tbody>\n",
              "</table>\n",
              "</div>"
            ],
            "text/plain": [
              "     total_bill  tip     sex smoker   day    time  size\n",
              "238       32.83  0.0    Male    Yes   Sat  Dinner     2\n",
              "241       27.18  0.0  Female    Yes   Sat  Dinner     2\n",
              "242       22.67  0.0    Male    Yes   Sat  Dinner     2\n",
              "244       -1.00  3.0  Female     No  Thur  Dinner     2"
            ]
          },
          "execution_count": 76,
          "metadata": {},
          "output_type": "execute_result"
        }
      ],
      "source": [
        "filldic = {'total_bill':-1, 'tip': 0}\n",
        "\n",
        "dtips_fill2 = dtips.fillna(filldic)\n",
        "dtips_fill2.loc[np.any(dtips.isna(),axis=1)]"
      ]
    },
    {
      "cell_type": "markdown",
      "metadata": {
        "id": "hWXtZAwO7cNc"
      },
      "source": [
        "### `duplicated`, `drop_duplicates()`\n",
        "\n",
        "Lida com linhas duplicados retorando `True` se detectada duplicação."
      ]
    },
    {
      "cell_type": "code",
      "execution_count": null,
      "metadata": {
        "id": "MMdA4NyC7cNc",
        "outputId": "7586172b-c0cd-47bd-e8c3-19b73b90baab"
      },
      "outputs": [
        {
          "name": "stdout",
          "output_type": "stream",
          "text": [
            "0      False\n",
            "1      False\n",
            "2      False\n",
            "3      False\n",
            "4      False\n",
            "       ...  \n",
            "240    False\n",
            "241    False\n",
            "242    False\n",
            "243    False\n",
            "244    False\n",
            "Length: 245, dtype: bool\n",
            "\n",
            " True\n"
          ]
        }
      ],
      "source": [
        "print(dtips.duplicated())\n",
        "print('\\n',dtips.duplicated().any())"
      ]
    },
    {
      "cell_type": "markdown",
      "metadata": {
        "id": "PddgtO9T7cNd"
      },
      "source": [
        "- parâmetro `keep`:\n",
        "    - False: retorna `True` para todas as duplicatas\n",
        "    - first: a primeira não é detectada\n",
        "    - last: a última não é detectada    "
      ]
    },
    {
      "cell_type": "code",
      "execution_count": null,
      "metadata": {
        "id": "QygB0_qh7cNd",
        "outputId": "324249b3-e10c-41d2-96a5-62c67757b6d0"
      },
      "outputs": [
        {
          "data": {
            "text/html": [
              "<div>\n",
              "<style scoped>\n",
              "    .dataframe tbody tr th:only-of-type {\n",
              "        vertical-align: middle;\n",
              "    }\n",
              "\n",
              "    .dataframe tbody tr th {\n",
              "        vertical-align: top;\n",
              "    }\n",
              "\n",
              "    .dataframe thead th {\n",
              "        text-align: right;\n",
              "    }\n",
              "</style>\n",
              "<table border=\"1\" class=\"dataframe\">\n",
              "  <thead>\n",
              "    <tr style=\"text-align: right;\">\n",
              "      <th></th>\n",
              "      <th>total_bill</th>\n",
              "      <th>tip</th>\n",
              "      <th>sex</th>\n",
              "      <th>smoker</th>\n",
              "      <th>day</th>\n",
              "      <th>time</th>\n",
              "      <th>size</th>\n",
              "    </tr>\n",
              "  </thead>\n",
              "  <tbody>\n",
              "    <tr>\n",
              "      <th>217</th>\n",
              "      <td>7.74</td>\n",
              "      <td>1.44</td>\n",
              "      <td>Male</td>\n",
              "      <td>Yes</td>\n",
              "      <td>Sat</td>\n",
              "      <td>Dinner</td>\n",
              "      <td>2</td>\n",
              "    </tr>\n",
              "    <tr>\n",
              "      <th>218</th>\n",
              "      <td>7.74</td>\n",
              "      <td>1.44</td>\n",
              "      <td>Male</td>\n",
              "      <td>Yes</td>\n",
              "      <td>Sat</td>\n",
              "      <td>Dinner</td>\n",
              "      <td>2</td>\n",
              "    </tr>\n",
              "    <tr>\n",
              "      <th>224</th>\n",
              "      <td>13.42</td>\n",
              "      <td>1.58</td>\n",
              "      <td>Male</td>\n",
              "      <td>Yes</td>\n",
              "      <td>Fri</td>\n",
              "      <td>Lunch</td>\n",
              "      <td>2</td>\n",
              "    </tr>\n",
              "    <tr>\n",
              "      <th>225</th>\n",
              "      <td>13.42</td>\n",
              "      <td>1.58</td>\n",
              "      <td>Male</td>\n",
              "      <td>Yes</td>\n",
              "      <td>Fri</td>\n",
              "      <td>Lunch</td>\n",
              "      <td>2</td>\n",
              "    </tr>\n",
              "  </tbody>\n",
              "</table>\n",
              "</div>"
            ],
            "text/plain": [
              "     total_bill   tip   sex smoker  day    time  size\n",
              "217        7.74  1.44  Male    Yes  Sat  Dinner     2\n",
              "218        7.74  1.44  Male    Yes  Sat  Dinner     2\n",
              "224       13.42  1.58  Male    Yes  Fri   Lunch     2\n",
              "225       13.42  1.58  Male    Yes  Fri   Lunch     2"
            ]
          },
          "execution_count": 78,
          "metadata": {},
          "output_type": "execute_result"
        }
      ],
      "source": [
        "dtips[dtips.duplicated(keep=False)]"
      ]
    },
    {
      "cell_type": "code",
      "execution_count": null,
      "metadata": {
        "id": "ytjMPA3D7cNd",
        "outputId": "843a161e-41db-4f26-d911-75b6b645702b"
      },
      "outputs": [
        {
          "data": {
            "text/html": [
              "<div>\n",
              "<style scoped>\n",
              "    .dataframe tbody tr th:only-of-type {\n",
              "        vertical-align: middle;\n",
              "    }\n",
              "\n",
              "    .dataframe tbody tr th {\n",
              "        vertical-align: top;\n",
              "    }\n",
              "\n",
              "    .dataframe thead th {\n",
              "        text-align: right;\n",
              "    }\n",
              "</style>\n",
              "<table border=\"1\" class=\"dataframe\">\n",
              "  <thead>\n",
              "    <tr style=\"text-align: right;\">\n",
              "      <th></th>\n",
              "      <th>total_bill</th>\n",
              "      <th>tip</th>\n",
              "      <th>sex</th>\n",
              "      <th>smoker</th>\n",
              "      <th>day</th>\n",
              "      <th>time</th>\n",
              "      <th>size</th>\n",
              "    </tr>\n",
              "  </thead>\n",
              "  <tbody>\n",
              "    <tr>\n",
              "      <th>218</th>\n",
              "      <td>7.74</td>\n",
              "      <td>1.44</td>\n",
              "      <td>Male</td>\n",
              "      <td>Yes</td>\n",
              "      <td>Sat</td>\n",
              "      <td>Dinner</td>\n",
              "      <td>2</td>\n",
              "    </tr>\n",
              "    <tr>\n",
              "      <th>225</th>\n",
              "      <td>13.42</td>\n",
              "      <td>1.58</td>\n",
              "      <td>Male</td>\n",
              "      <td>Yes</td>\n",
              "      <td>Fri</td>\n",
              "      <td>Lunch</td>\n",
              "      <td>2</td>\n",
              "    </tr>\n",
              "  </tbody>\n",
              "</table>\n",
              "</div>"
            ],
            "text/plain": [
              "     total_bill   tip   sex smoker  day    time  size\n",
              "218        7.74  1.44  Male    Yes  Sat  Dinner     2\n",
              "225       13.42  1.58  Male    Yes  Fri   Lunch     2"
            ]
          },
          "execution_count": 79,
          "metadata": {},
          "output_type": "execute_result"
        }
      ],
      "source": [
        "dtips[dtips.duplicated(keep='first')]"
      ]
    },
    {
      "cell_type": "code",
      "execution_count": null,
      "metadata": {
        "scrolled": true,
        "id": "SorAzNBP7cNd",
        "outputId": "355b45d3-3184-41a0-c77b-5783c68aad7f"
      },
      "outputs": [
        {
          "data": {
            "text/html": [
              "<div>\n",
              "<style scoped>\n",
              "    .dataframe tbody tr th:only-of-type {\n",
              "        vertical-align: middle;\n",
              "    }\n",
              "\n",
              "    .dataframe tbody tr th {\n",
              "        vertical-align: top;\n",
              "    }\n",
              "\n",
              "    .dataframe thead th {\n",
              "        text-align: right;\n",
              "    }\n",
              "</style>\n",
              "<table border=\"1\" class=\"dataframe\">\n",
              "  <thead>\n",
              "    <tr style=\"text-align: right;\">\n",
              "      <th></th>\n",
              "      <th>total_bill</th>\n",
              "      <th>tip</th>\n",
              "      <th>sex</th>\n",
              "      <th>smoker</th>\n",
              "      <th>day</th>\n",
              "      <th>time</th>\n",
              "      <th>size</th>\n",
              "    </tr>\n",
              "  </thead>\n",
              "  <tbody>\n",
              "    <tr>\n",
              "      <th>217</th>\n",
              "      <td>7.74</td>\n",
              "      <td>1.44</td>\n",
              "      <td>Male</td>\n",
              "      <td>Yes</td>\n",
              "      <td>Sat</td>\n",
              "      <td>Dinner</td>\n",
              "      <td>2</td>\n",
              "    </tr>\n",
              "    <tr>\n",
              "      <th>224</th>\n",
              "      <td>13.42</td>\n",
              "      <td>1.58</td>\n",
              "      <td>Male</td>\n",
              "      <td>Yes</td>\n",
              "      <td>Fri</td>\n",
              "      <td>Lunch</td>\n",
              "      <td>2</td>\n",
              "    </tr>\n",
              "  </tbody>\n",
              "</table>\n",
              "</div>"
            ],
            "text/plain": [
              "     total_bill   tip   sex smoker  day    time  size\n",
              "217        7.74  1.44  Male    Yes  Sat  Dinner     2\n",
              "224       13.42  1.58  Male    Yes  Fri   Lunch     2"
            ]
          },
          "execution_count": 80,
          "metadata": {},
          "output_type": "execute_result"
        }
      ],
      "source": [
        "dtips[dtips.duplicated(keep='last')]"
      ]
    },
    {
      "cell_type": "markdown",
      "metadata": {
        "id": "aEqyciB07cNe"
      },
      "source": [
        "Para remover usamos `drop_duplicates()` valendo o mesmo parâmetro `keep`"
      ]
    },
    {
      "cell_type": "code",
      "execution_count": null,
      "metadata": {
        "id": "2tt768zP7cNe",
        "outputId": "a07cd9d6-80f1-47b5-b456-84d94995532a"
      },
      "outputs": [
        {
          "name": "stdout",
          "output_type": "stream",
          "text": [
            "     total_bill   tip     sex smoker  day    time  size\n",
            "217        7.74  1.44    Male    Yes  Sat  Dinner     2\n",
            "219       30.14  3.09  Female    Yes  Sat  Dinner     4\n",
            "220       12.16  2.20    Male    Yes  Fri   Lunch     2\n",
            "221       13.42  3.48  Female    Yes  Fri   Lunch     2\n",
            "222        8.58  1.92    Male    Yes  Fri   Lunch     1\n",
            "223       15.98  3.00  Female     No  Fri   Lunch     3\n",
            "224       13.42  1.58    Male    Yes  Fri   Lunch     2\n",
            "226       16.27  2.50  Female    Yes  Fri   Lunch     2\n",
            "     total_bill   tip     sex smoker  day    time  size\n",
            "218        7.74  1.44    Male    Yes  Sat  Dinner     2\n",
            "219       30.14  3.09  Female    Yes  Sat  Dinner     4\n",
            "220       12.16  2.20    Male    Yes  Fri   Lunch     2\n",
            "221       13.42  3.48  Female    Yes  Fri   Lunch     2\n",
            "222        8.58  1.92    Male    Yes  Fri   Lunch     1\n",
            "223       15.98  3.00  Female     No  Fri   Lunch     3\n",
            "225       13.42  1.58    Male    Yes  Fri   Lunch     2\n",
            "226       16.27  2.50  Female    Yes  Fri   Lunch     2\n"
          ]
        }
      ],
      "source": [
        "dtips_first = dtips.drop_duplicates(keep='first')\n",
        "dtips_last = dtips.drop_duplicates(keep='last')\n",
        "\n",
        "# notar que foram removidos índices diferentes!\n",
        "print(dtips_first.iloc[217:225])\n",
        "print(dtips_last.iloc[217:225])"
      ]
    },
    {
      "cell_type": "code",
      "execution_count": null,
      "metadata": {
        "id": "NSf_iSZl7cNe"
      },
      "outputs": [],
      "source": [
        "# nesses casos pode ser útil resetar os índices novamente!\n",
        "dtips_first = dtips_first.reset_index()"
      ]
    },
    {
      "cell_type": "code",
      "execution_count": null,
      "metadata": {
        "id": "oFk6sC6l7cNe",
        "outputId": "557b77ec-4e65-417a-80f2-150b359699b4"
      },
      "outputs": [
        {
          "name": "stdout",
          "output_type": "stream",
          "text": [
            "     index  total_bill   tip     sex smoker  day    time  size\n",
            "217    217        7.74  1.44    Male    Yes  Sat  Dinner     2\n",
            "218    219       30.14  3.09  Female    Yes  Sat  Dinner     4\n",
            "219    220       12.16  2.20    Male    Yes  Fri   Lunch     2\n",
            "220    221       13.42  3.48  Female    Yes  Fri   Lunch     2\n",
            "221    222        8.58  1.92    Male    Yes  Fri   Lunch     1\n",
            "222    223       15.98  3.00  Female     No  Fri   Lunch     3\n",
            "223    224       13.42  1.58    Male    Yes  Fri   Lunch     2\n",
            "224    226       16.27  2.50  Female    Yes  Fri   Lunch     2\n"
          ]
        }
      ],
      "source": [
        "print(dtips_first.iloc[217:225])"
      ]
    },
    {
      "cell_type": "markdown",
      "metadata": {
        "id": "taafhqRV7cNe"
      },
      "source": [
        "---\n",
        "\n",
        "# Preparação de dados\n",
        "\n",
        "1. Cada variável forma uma coluna\n",
        "2. Cada observação forma uma linha\n",
        "3. Cada tipo de unidade observacional forma uma tabela\n",
        "\n",
        "* 3.a forma normal de Codd!"
      ]
    },
    {
      "cell_type": "markdown",
      "metadata": {
        "id": "mUWoYI3E7cNf"
      },
      "source": [
        "**Exemplo**:\n",
        "\n",
        "Recebemos duas tabelas, cada uma com temperaturas coletadas em cidades. A primeira é referente aos primeiros dias de coleta, a segunda aos dias seguintes, organizadas por outra pessoa e enviada.\n",
        "\n",
        "Precisamos preparar os dados de forma que uma observação seja:\n",
        "* uma cidade, um dia e uma temperatura naquele dia."
      ]
    },
    {
      "cell_type": "code",
      "execution_count": null,
      "metadata": {
        "id": "3eMEoJDn7cNf"
      },
      "outputs": [],
      "source": [
        "# criando os dataframes para o exemplo\n",
        "temps = np.array([[23, 21, 20],[30, 29, 28],[18, 21, 20],[9, 10, 13]])\n",
        "dtemp1 = pd.DataFrame(temps, index=['São Paulo','Fortaleza','Montevideo','London'])\n",
        "\n",
        "dtemp2 = pd.DataFrame({\n",
        "    'São Paulo': [25, 27, 23, 25],\n",
        "    'Fortaleza': [35, 32, 31, 29],\n",
        "    'Montevideo': [20, 18, 21, 23],\n",
        "    'London': [14, 15, 12, 13]\n",
        "})"
      ]
    },
    {
      "cell_type": "code",
      "execution_count": null,
      "metadata": {
        "id": "Zm1zKhop7cNf",
        "outputId": "5f5cf975-35c5-4e0b-fe63-f2352cbc0133"
      },
      "outputs": [
        {
          "data": {
            "text/html": [
              "<div>\n",
              "<style scoped>\n",
              "    .dataframe tbody tr th:only-of-type {\n",
              "        vertical-align: middle;\n",
              "    }\n",
              "\n",
              "    .dataframe tbody tr th {\n",
              "        vertical-align: top;\n",
              "    }\n",
              "\n",
              "    .dataframe thead th {\n",
              "        text-align: right;\n",
              "    }\n",
              "</style>\n",
              "<table border=\"1\" class=\"dataframe\">\n",
              "  <thead>\n",
              "    <tr style=\"text-align: right;\">\n",
              "      <th></th>\n",
              "      <th>0</th>\n",
              "      <th>1</th>\n",
              "      <th>2</th>\n",
              "    </tr>\n",
              "  </thead>\n",
              "  <tbody>\n",
              "    <tr>\n",
              "      <th>São Paulo</th>\n",
              "      <td>23</td>\n",
              "      <td>21</td>\n",
              "      <td>20</td>\n",
              "    </tr>\n",
              "    <tr>\n",
              "      <th>Fortaleza</th>\n",
              "      <td>30</td>\n",
              "      <td>29</td>\n",
              "      <td>28</td>\n",
              "    </tr>\n",
              "    <tr>\n",
              "      <th>Montevideo</th>\n",
              "      <td>18</td>\n",
              "      <td>21</td>\n",
              "      <td>20</td>\n",
              "    </tr>\n",
              "    <tr>\n",
              "      <th>London</th>\n",
              "      <td>9</td>\n",
              "      <td>10</td>\n",
              "      <td>13</td>\n",
              "    </tr>\n",
              "  </tbody>\n",
              "</table>\n",
              "</div>"
            ],
            "text/plain": [
              "             0   1   2\n",
              "São Paulo   23  21  20\n",
              "Fortaleza   30  29  28\n",
              "Montevideo  18  21  20\n",
              "London       9  10  13"
            ]
          },
          "execution_count": 85,
          "metadata": {},
          "output_type": "execute_result"
        }
      ],
      "source": [
        "dtemp1"
      ]
    },
    {
      "cell_type": "code",
      "execution_count": null,
      "metadata": {
        "id": "xIB94oqy7cNf",
        "outputId": "654d9f99-0998-4b27-9c8a-f1e8f0888250"
      },
      "outputs": [
        {
          "data": {
            "text/html": [
              "<div>\n",
              "<style scoped>\n",
              "    .dataframe tbody tr th:only-of-type {\n",
              "        vertical-align: middle;\n",
              "    }\n",
              "\n",
              "    .dataframe tbody tr th {\n",
              "        vertical-align: top;\n",
              "    }\n",
              "\n",
              "    .dataframe thead th {\n",
              "        text-align: right;\n",
              "    }\n",
              "</style>\n",
              "<table border=\"1\" class=\"dataframe\">\n",
              "  <thead>\n",
              "    <tr style=\"text-align: right;\">\n",
              "      <th></th>\n",
              "      <th>São Paulo</th>\n",
              "      <th>Fortaleza</th>\n",
              "      <th>Montevideo</th>\n",
              "      <th>London</th>\n",
              "    </tr>\n",
              "  </thead>\n",
              "  <tbody>\n",
              "    <tr>\n",
              "      <th>0</th>\n",
              "      <td>25</td>\n",
              "      <td>35</td>\n",
              "      <td>20</td>\n",
              "      <td>14</td>\n",
              "    </tr>\n",
              "    <tr>\n",
              "      <th>1</th>\n",
              "      <td>27</td>\n",
              "      <td>32</td>\n",
              "      <td>18</td>\n",
              "      <td>15</td>\n",
              "    </tr>\n",
              "    <tr>\n",
              "      <th>2</th>\n",
              "      <td>23</td>\n",
              "      <td>31</td>\n",
              "      <td>21</td>\n",
              "      <td>12</td>\n",
              "    </tr>\n",
              "    <tr>\n",
              "      <th>3</th>\n",
              "      <td>25</td>\n",
              "      <td>29</td>\n",
              "      <td>23</td>\n",
              "      <td>13</td>\n",
              "    </tr>\n",
              "  </tbody>\n",
              "</table>\n",
              "</div>"
            ],
            "text/plain": [
              "   São Paulo  Fortaleza  Montevideo  London\n",
              "0         25         35          20      14\n",
              "1         27         32          18      15\n",
              "2         23         31          21      12\n",
              "3         25         29          23      13"
            ]
          },
          "execution_count": 86,
          "metadata": {},
          "output_type": "execute_result"
        }
      ],
      "source": [
        "dtemp2"
      ]
    },
    {
      "cell_type": "markdown",
      "metadata": {
        "id": "eyT--AEK7cNf"
      },
      "source": [
        "### `melt()` para reconfigurar tabelas\n",
        "\n",
        "Permite criar formato largo ou longo.\n",
        "\n",
        "Auxilia muito para colocar o DataFrame de maneira que cada linha seja uma observação\n",
        "\n",
        "* `id_vars` são as variáveis que não serão modificadas e continuarão como colunas\n",
        "* `value_vars` são as variáveis que passarão a ser \"valor\" (linhas)"
      ]
    },
    {
      "cell_type": "code",
      "execution_count": null,
      "metadata": {
        "id": "H6JJ6-LE7cNg",
        "outputId": "6c846e08-975a-4b4f-d94f-ccb6a03b66ec"
      },
      "outputs": [
        {
          "name": "stdout",
          "output_type": "stream",
          "text": [
            "             0   1   2\n",
            "São Paulo   23  21  20\n",
            "Fortaleza   30  29  28\n",
            "Montevideo  18  21  20\n",
            "London       9  10  13\n",
            "    variable  value\n",
            "0          0     23\n",
            "1          0     30\n",
            "2          0     18\n",
            "3          0      9\n",
            "4          1     21\n",
            "5          1     29\n",
            "6          1     21\n",
            "7          1     10\n",
            "8          2     20\n",
            "9          2     28\n",
            "10         2     20\n",
            "11         2     13\n"
          ]
        }
      ],
      "source": [
        "print(dtemp1)\n",
        "\n",
        "print(dtemp1.melt())"
      ]
    },
    {
      "cell_type": "code",
      "execution_count": null,
      "metadata": {
        "id": "WDwbL2tr7cNg",
        "outputId": "bc891867-8bfe-483f-bc43-0c33d59dd936"
      },
      "outputs": [
        {
          "name": "stdout",
          "output_type": "stream",
          "text": [
            "   São Paulo  Fortaleza  Montevideo  London\n",
            "0         25         35          20      14\n",
            "1         27         32          18      15\n",
            "2         23         31          21      12\n",
            "3         25         29          23      13\n",
            "      variable  value\n",
            "0    São Paulo     25\n",
            "1    São Paulo     27\n",
            "2    São Paulo     23\n",
            "3    São Paulo     25\n",
            "4    Fortaleza     35\n",
            "5    Fortaleza     32\n",
            "6    Fortaleza     31\n",
            "7    Fortaleza     29\n",
            "8   Montevideo     20\n",
            "9   Montevideo     18\n",
            "10  Montevideo     21\n",
            "11  Montevideo     23\n",
            "12      London     14\n",
            "13      London     15\n",
            "14      London     12\n",
            "15      London     13\n"
          ]
        }
      ],
      "source": [
        "print(dtemp2)\n",
        "print(dtemp2.melt())"
      ]
    },
    {
      "cell_type": "markdown",
      "metadata": {
        "id": "ImwYTOc_7cNg"
      },
      "source": [
        "Gostaríamos de uma tabela no seguinte formato:\n",
        "\n",
        "|city|day|temp|\n",
        "|---|---|---|\n",
        "|São Paulo|0|23|\n",
        "|São Paulo|1|21|\n",
        "|...|...|...|\n",
        "|Londres|0|9|\n",
        "|...|...|...|\n",
        "\n",
        "Vamos começar pela primeira tabela e ver o que podemos fazer."
      ]
    },
    {
      "cell_type": "code",
      "execution_count": null,
      "metadata": {
        "id": "bdD8wJEe7cNg",
        "outputId": "478ffcfa-a148-4457-e65e-67d74978b560"
      },
      "outputs": [
        {
          "data": {
            "text/html": [
              "<div>\n",
              "<style scoped>\n",
              "    .dataframe tbody tr th:only-of-type {\n",
              "        vertical-align: middle;\n",
              "    }\n",
              "\n",
              "    .dataframe tbody tr th {\n",
              "        vertical-align: top;\n",
              "    }\n",
              "\n",
              "    .dataframe thead th {\n",
              "        text-align: right;\n",
              "    }\n",
              "</style>\n",
              "<table border=\"1\" class=\"dataframe\">\n",
              "  <thead>\n",
              "    <tr style=\"text-align: right;\">\n",
              "      <th></th>\n",
              "      <th>variable</th>\n",
              "      <th>value</th>\n",
              "    </tr>\n",
              "  </thead>\n",
              "  <tbody>\n",
              "    <tr>\n",
              "      <th>0</th>\n",
              "      <td>0</td>\n",
              "      <td>23</td>\n",
              "    </tr>\n",
              "    <tr>\n",
              "      <th>1</th>\n",
              "      <td>0</td>\n",
              "      <td>30</td>\n",
              "    </tr>\n",
              "    <tr>\n",
              "      <th>2</th>\n",
              "      <td>0</td>\n",
              "      <td>18</td>\n",
              "    </tr>\n",
              "    <tr>\n",
              "      <th>3</th>\n",
              "      <td>0</td>\n",
              "      <td>9</td>\n",
              "    </tr>\n",
              "    <tr>\n",
              "      <th>4</th>\n",
              "      <td>1</td>\n",
              "      <td>21</td>\n",
              "    </tr>\n",
              "  </tbody>\n",
              "</table>\n",
              "</div>"
            ],
            "text/plain": [
              "   variable  value\n",
              "0         0     23\n",
              "1         0     30\n",
              "2         0     18\n",
              "3         0      9\n",
              "4         1     21"
            ]
          },
          "execution_count": 89,
          "metadata": {},
          "output_type": "execute_result"
        }
      ],
      "source": [
        "dtemp1.melt().head()"
      ]
    },
    {
      "cell_type": "markdown",
      "metadata": {
        "id": "jvMkdoyK7cNh"
      },
      "source": [
        "As cidades somem pois essa informação está no índice."
      ]
    },
    {
      "cell_type": "code",
      "execution_count": null,
      "metadata": {
        "id": "50jQ8Ouv7cNh",
        "outputId": "dea73b37-b070-4af7-bf2b-70b1042b2d1c"
      },
      "outputs": [
        {
          "data": {
            "text/plain": [
              "Index(['São Paulo', 'Fortaleza', 'Montevideo', 'London'], dtype='object')"
            ]
          },
          "execution_count": 90,
          "metadata": {},
          "output_type": "execute_result"
        }
      ],
      "source": [
        "dtemp1.index"
      ]
    },
    {
      "cell_type": "markdown",
      "metadata": {
        "id": "Y8eJ0-S47cNh"
      },
      "source": [
        "Solução: resetar o índice e criar uma nova coluna com os nomes das cidades"
      ]
    },
    {
      "cell_type": "code",
      "execution_count": null,
      "metadata": {
        "scrolled": true,
        "id": "1I4s2CV07cNh",
        "outputId": "9dd94234-20e4-4532-9ab0-2c98743761d7"
      },
      "outputs": [
        {
          "data": {
            "text/html": [
              "<div>\n",
              "<style scoped>\n",
              "    .dataframe tbody tr th:only-of-type {\n",
              "        vertical-align: middle;\n",
              "    }\n",
              "\n",
              "    .dataframe tbody tr th {\n",
              "        vertical-align: top;\n",
              "    }\n",
              "\n",
              "    .dataframe thead th {\n",
              "        text-align: right;\n",
              "    }\n",
              "</style>\n",
              "<table border=\"1\" class=\"dataframe\">\n",
              "  <thead>\n",
              "    <tr style=\"text-align: right;\">\n",
              "      <th></th>\n",
              "      <th>city</th>\n",
              "      <th>0</th>\n",
              "      <th>1</th>\n",
              "      <th>2</th>\n",
              "    </tr>\n",
              "  </thead>\n",
              "  <tbody>\n",
              "    <tr>\n",
              "      <th>0</th>\n",
              "      <td>São Paulo</td>\n",
              "      <td>23</td>\n",
              "      <td>21</td>\n",
              "      <td>20</td>\n",
              "    </tr>\n",
              "    <tr>\n",
              "      <th>1</th>\n",
              "      <td>Fortaleza</td>\n",
              "      <td>30</td>\n",
              "      <td>29</td>\n",
              "      <td>28</td>\n",
              "    </tr>\n",
              "    <tr>\n",
              "      <th>2</th>\n",
              "      <td>Montevideo</td>\n",
              "      <td>18</td>\n",
              "      <td>21</td>\n",
              "      <td>20</td>\n",
              "    </tr>\n",
              "    <tr>\n",
              "      <th>3</th>\n",
              "      <td>London</td>\n",
              "      <td>9</td>\n",
              "      <td>10</td>\n",
              "      <td>13</td>\n",
              "    </tr>\n",
              "  </tbody>\n",
              "</table>\n",
              "</div>"
            ],
            "text/plain": [
              "         city   0   1   2\n",
              "0   São Paulo  23  21  20\n",
              "1   Fortaleza  30  29  28\n",
              "2  Montevideo  18  21  20\n",
              "3      London   9  10  13"
            ]
          },
          "execution_count": 91,
          "metadata": {},
          "output_type": "execute_result"
        }
      ],
      "source": [
        "dtemp1 = dtemp1.rename_axis('city').reset_index()\n",
        "dtemp1"
      ]
    },
    {
      "cell_type": "markdown",
      "metadata": {
        "id": "kP6FiWs17cNh"
      },
      "source": [
        "O uso automático 'derrete' toda a tabela, gostaríamos de **fixar a cidade** como uma variável identificadora"
      ]
    },
    {
      "cell_type": "code",
      "execution_count": null,
      "metadata": {
        "id": "l79NZLBy7cNh",
        "outputId": "740df497-495d-4754-e5e5-e0a479507a7e"
      },
      "outputs": [
        {
          "data": {
            "text/html": [
              "<div>\n",
              "<style scoped>\n",
              "    .dataframe tbody tr th:only-of-type {\n",
              "        vertical-align: middle;\n",
              "    }\n",
              "\n",
              "    .dataframe tbody tr th {\n",
              "        vertical-align: top;\n",
              "    }\n",
              "\n",
              "    .dataframe thead th {\n",
              "        text-align: right;\n",
              "    }\n",
              "</style>\n",
              "<table border=\"1\" class=\"dataframe\">\n",
              "  <thead>\n",
              "    <tr style=\"text-align: right;\">\n",
              "      <th></th>\n",
              "      <th>city</th>\n",
              "      <th>variable</th>\n",
              "      <th>value</th>\n",
              "    </tr>\n",
              "  </thead>\n",
              "  <tbody>\n",
              "    <tr>\n",
              "      <th>0</th>\n",
              "      <td>São Paulo</td>\n",
              "      <td>0</td>\n",
              "      <td>23</td>\n",
              "    </tr>\n",
              "    <tr>\n",
              "      <th>1</th>\n",
              "      <td>Fortaleza</td>\n",
              "      <td>0</td>\n",
              "      <td>30</td>\n",
              "    </tr>\n",
              "    <tr>\n",
              "      <th>2</th>\n",
              "      <td>Montevideo</td>\n",
              "      <td>0</td>\n",
              "      <td>18</td>\n",
              "    </tr>\n",
              "    <tr>\n",
              "      <th>3</th>\n",
              "      <td>London</td>\n",
              "      <td>0</td>\n",
              "      <td>9</td>\n",
              "    </tr>\n",
              "    <tr>\n",
              "      <th>4</th>\n",
              "      <td>São Paulo</td>\n",
              "      <td>1</td>\n",
              "      <td>21</td>\n",
              "    </tr>\n",
              "    <tr>\n",
              "      <th>5</th>\n",
              "      <td>Fortaleza</td>\n",
              "      <td>1</td>\n",
              "      <td>29</td>\n",
              "    </tr>\n",
              "    <tr>\n",
              "      <th>6</th>\n",
              "      <td>Montevideo</td>\n",
              "      <td>1</td>\n",
              "      <td>21</td>\n",
              "    </tr>\n",
              "    <tr>\n",
              "      <th>7</th>\n",
              "      <td>London</td>\n",
              "      <td>1</td>\n",
              "      <td>10</td>\n",
              "    </tr>\n",
              "    <tr>\n",
              "      <th>8</th>\n",
              "      <td>São Paulo</td>\n",
              "      <td>2</td>\n",
              "      <td>20</td>\n",
              "    </tr>\n",
              "    <tr>\n",
              "      <th>9</th>\n",
              "      <td>Fortaleza</td>\n",
              "      <td>2</td>\n",
              "      <td>28</td>\n",
              "    </tr>\n",
              "    <tr>\n",
              "      <th>10</th>\n",
              "      <td>Montevideo</td>\n",
              "      <td>2</td>\n",
              "      <td>20</td>\n",
              "    </tr>\n",
              "    <tr>\n",
              "      <th>11</th>\n",
              "      <td>London</td>\n",
              "      <td>2</td>\n",
              "      <td>13</td>\n",
              "    </tr>\n",
              "  </tbody>\n",
              "</table>\n",
              "</div>"
            ],
            "text/plain": [
              "          city variable  value\n",
              "0    São Paulo        0     23\n",
              "1    Fortaleza        0     30\n",
              "2   Montevideo        0     18\n",
              "3       London        0      9\n",
              "4    São Paulo        1     21\n",
              "5    Fortaleza        1     29\n",
              "6   Montevideo        1     21\n",
              "7       London        1     10\n",
              "8    São Paulo        2     20\n",
              "9    Fortaleza        2     28\n",
              "10  Montevideo        2     20\n",
              "11      London        2     13"
            ]
          },
          "execution_count": 94,
          "metadata": {},
          "output_type": "execute_result"
        }
      ],
      "source": [
        "dtemp1_melt = dtemp1.melt(id_vars=['city'])\n",
        "dtemp1_melt"
      ]
    },
    {
      "cell_type": "markdown",
      "metadata": {
        "id": "N6Q4SuZe7cNh"
      },
      "source": [
        "Outro ponto que seria interessante é nomear as variáveis no formato longo"
      ]
    },
    {
      "cell_type": "code",
      "execution_count": null,
      "metadata": {
        "id": "_N2_ryH67cNi",
        "outputId": "43546c53-c133-4c5e-a443-91323bb62d9c"
      },
      "outputs": [
        {
          "data": {
            "text/html": [
              "<div>\n",
              "<style scoped>\n",
              "    .dataframe tbody tr th:only-of-type {\n",
              "        vertical-align: middle;\n",
              "    }\n",
              "\n",
              "    .dataframe tbody tr th {\n",
              "        vertical-align: top;\n",
              "    }\n",
              "\n",
              "    .dataframe thead th {\n",
              "        text-align: right;\n",
              "    }\n",
              "</style>\n",
              "<table border=\"1\" class=\"dataframe\">\n",
              "  <thead>\n",
              "    <tr style=\"text-align: right;\">\n",
              "      <th></th>\n",
              "      <th>city</th>\n",
              "      <th>day</th>\n",
              "      <th>temperature</th>\n",
              "    </tr>\n",
              "  </thead>\n",
              "  <tbody>\n",
              "    <tr>\n",
              "      <th>0</th>\n",
              "      <td>São Paulo</td>\n",
              "      <td>0</td>\n",
              "      <td>23</td>\n",
              "    </tr>\n",
              "    <tr>\n",
              "      <th>1</th>\n",
              "      <td>Fortaleza</td>\n",
              "      <td>0</td>\n",
              "      <td>30</td>\n",
              "    </tr>\n",
              "    <tr>\n",
              "      <th>2</th>\n",
              "      <td>Montevideo</td>\n",
              "      <td>0</td>\n",
              "      <td>18</td>\n",
              "    </tr>\n",
              "    <tr>\n",
              "      <th>3</th>\n",
              "      <td>London</td>\n",
              "      <td>0</td>\n",
              "      <td>9</td>\n",
              "    </tr>\n",
              "    <tr>\n",
              "      <th>4</th>\n",
              "      <td>São Paulo</td>\n",
              "      <td>1</td>\n",
              "      <td>21</td>\n",
              "    </tr>\n",
              "    <tr>\n",
              "      <th>5</th>\n",
              "      <td>Fortaleza</td>\n",
              "      <td>1</td>\n",
              "      <td>29</td>\n",
              "    </tr>\n",
              "    <tr>\n",
              "      <th>6</th>\n",
              "      <td>Montevideo</td>\n",
              "      <td>1</td>\n",
              "      <td>21</td>\n",
              "    </tr>\n",
              "    <tr>\n",
              "      <th>7</th>\n",
              "      <td>London</td>\n",
              "      <td>1</td>\n",
              "      <td>10</td>\n",
              "    </tr>\n",
              "    <tr>\n",
              "      <th>8</th>\n",
              "      <td>São Paulo</td>\n",
              "      <td>2</td>\n",
              "      <td>20</td>\n",
              "    </tr>\n",
              "    <tr>\n",
              "      <th>9</th>\n",
              "      <td>Fortaleza</td>\n",
              "      <td>2</td>\n",
              "      <td>28</td>\n",
              "    </tr>\n",
              "    <tr>\n",
              "      <th>10</th>\n",
              "      <td>Montevideo</td>\n",
              "      <td>2</td>\n",
              "      <td>20</td>\n",
              "    </tr>\n",
              "    <tr>\n",
              "      <th>11</th>\n",
              "      <td>London</td>\n",
              "      <td>2</td>\n",
              "      <td>13</td>\n",
              "    </tr>\n",
              "  </tbody>\n",
              "</table>\n",
              "</div>"
            ],
            "text/plain": [
              "          city day  temperature\n",
              "0    São Paulo   0           23\n",
              "1    Fortaleza   0           30\n",
              "2   Montevideo   0           18\n",
              "3       London   0            9\n",
              "4    São Paulo   1           21\n",
              "5    Fortaleza   1           29\n",
              "6   Montevideo   1           21\n",
              "7       London   1           10\n",
              "8    São Paulo   2           20\n",
              "9    Fortaleza   2           28\n",
              "10  Montevideo   2           20\n",
              "11      London   2           13"
            ]
          },
          "execution_count": 95,
          "metadata": {},
          "output_type": "execute_result"
        }
      ],
      "source": [
        "tabela1 = dtemp1.melt(id_vars=['city'], value_name='temperature', var_name='day')\n",
        "tabela1"
      ]
    },
    {
      "cell_type": "markdown",
      "metadata": {
        "id": "8m9apMgZ7cNi"
      },
      "source": [
        "Agora na tabela 2.\n",
        "\n",
        "O `melt` aqui já está mais próximo, veja que nesse caso as colunas informam o nome das cidades, então perdemos o valor dos dias"
      ]
    },
    {
      "cell_type": "code",
      "execution_count": null,
      "metadata": {
        "id": "gWwcKQEU7cNi",
        "outputId": "3af5100c-a0df-4ea3-bfed-e496864712ca"
      },
      "outputs": [
        {
          "name": "stdout",
          "output_type": "stream",
          "text": [
            "   São Paulo  Fortaleza  Montevideo  London\n",
            "0         25         35          20      14\n",
            "1         27         32          18      15\n",
            "2         23         31          21      12\n",
            "3         25         29          23      13\n",
            "      variable  value\n",
            "0    São Paulo     25\n",
            "1    São Paulo     27\n",
            "2    São Paulo     23\n",
            "3    São Paulo     25\n",
            "4    Fortaleza     35\n",
            "5    Fortaleza     32\n",
            "6    Fortaleza     31\n",
            "7    Fortaleza     29\n",
            "8   Montevideo     20\n",
            "9   Montevideo     18\n",
            "10  Montevideo     21\n",
            "11  Montevideo     23\n",
            "12      London     14\n",
            "13      London     15\n",
            "14      London     12\n",
            "15      London     13\n"
          ]
        }
      ],
      "source": [
        "print(dtemp2)\n",
        "print(dtemp2.melt())"
      ]
    },
    {
      "cell_type": "markdown",
      "metadata": {
        "id": "3KCieWyk7cNi"
      },
      "source": [
        "Assim, podemos seguir o que foi feito na primeira tabela \"transpondo\" o DataFrame"
      ]
    },
    {
      "cell_type": "code",
      "execution_count": null,
      "metadata": {
        "id": "Pmcy7XC07cNi",
        "outputId": "4a67a22e-69d7-4e8c-fb57-bf37ac8023d6"
      },
      "outputs": [
        {
          "data": {
            "text/html": [
              "<div>\n",
              "<style scoped>\n",
              "    .dataframe tbody tr th:only-of-type {\n",
              "        vertical-align: middle;\n",
              "    }\n",
              "\n",
              "    .dataframe tbody tr th {\n",
              "        vertical-align: top;\n",
              "    }\n",
              "\n",
              "    .dataframe thead th {\n",
              "        text-align: right;\n",
              "    }\n",
              "</style>\n",
              "<table border=\"1\" class=\"dataframe\">\n",
              "  <thead>\n",
              "    <tr style=\"text-align: right;\">\n",
              "      <th></th>\n",
              "      <th>0</th>\n",
              "      <th>1</th>\n",
              "      <th>2</th>\n",
              "      <th>3</th>\n",
              "    </tr>\n",
              "  </thead>\n",
              "  <tbody>\n",
              "    <tr>\n",
              "      <th>São Paulo</th>\n",
              "      <td>25</td>\n",
              "      <td>27</td>\n",
              "      <td>23</td>\n",
              "      <td>25</td>\n",
              "    </tr>\n",
              "    <tr>\n",
              "      <th>Fortaleza</th>\n",
              "      <td>35</td>\n",
              "      <td>32</td>\n",
              "      <td>31</td>\n",
              "      <td>29</td>\n",
              "    </tr>\n",
              "    <tr>\n",
              "      <th>Montevideo</th>\n",
              "      <td>20</td>\n",
              "      <td>18</td>\n",
              "      <td>21</td>\n",
              "      <td>23</td>\n",
              "    </tr>\n",
              "    <tr>\n",
              "      <th>London</th>\n",
              "      <td>14</td>\n",
              "      <td>15</td>\n",
              "      <td>12</td>\n",
              "      <td>13</td>\n",
              "    </tr>\n",
              "  </tbody>\n",
              "</table>\n",
              "</div>"
            ],
            "text/plain": [
              "             0   1   2   3\n",
              "São Paulo   25  27  23  25\n",
              "Fortaleza   35  32  31  29\n",
              "Montevideo  20  18  21  23\n",
              "London      14  15  12  13"
            ]
          },
          "execution_count": 97,
          "metadata": {},
          "output_type": "execute_result"
        }
      ],
      "source": [
        "dtemp2.transpose()"
      ]
    },
    {
      "cell_type": "code",
      "execution_count": null,
      "metadata": {
        "id": "surn0YZc7cNi",
        "outputId": "d5626005-629d-4a1b-fdfc-161f91c55114"
      },
      "outputs": [
        {
          "data": {
            "text/html": [
              "<div>\n",
              "<style scoped>\n",
              "    .dataframe tbody tr th:only-of-type {\n",
              "        vertical-align: middle;\n",
              "    }\n",
              "\n",
              "    .dataframe tbody tr th {\n",
              "        vertical-align: top;\n",
              "    }\n",
              "\n",
              "    .dataframe thead th {\n",
              "        text-align: right;\n",
              "    }\n",
              "</style>\n",
              "<table border=\"1\" class=\"dataframe\">\n",
              "  <thead>\n",
              "    <tr style=\"text-align: right;\">\n",
              "      <th></th>\n",
              "      <th>city</th>\n",
              "      <th>0</th>\n",
              "      <th>1</th>\n",
              "      <th>2</th>\n",
              "      <th>3</th>\n",
              "    </tr>\n",
              "  </thead>\n",
              "  <tbody>\n",
              "    <tr>\n",
              "      <th>0</th>\n",
              "      <td>São Paulo</td>\n",
              "      <td>25</td>\n",
              "      <td>27</td>\n",
              "      <td>23</td>\n",
              "      <td>25</td>\n",
              "    </tr>\n",
              "    <tr>\n",
              "      <th>1</th>\n",
              "      <td>Fortaleza</td>\n",
              "      <td>35</td>\n",
              "      <td>32</td>\n",
              "      <td>31</td>\n",
              "      <td>29</td>\n",
              "    </tr>\n",
              "    <tr>\n",
              "      <th>2</th>\n",
              "      <td>Montevideo</td>\n",
              "      <td>20</td>\n",
              "      <td>18</td>\n",
              "      <td>21</td>\n",
              "      <td>23</td>\n",
              "    </tr>\n",
              "    <tr>\n",
              "      <th>3</th>\n",
              "      <td>London</td>\n",
              "      <td>14</td>\n",
              "      <td>15</td>\n",
              "      <td>12</td>\n",
              "      <td>13</td>\n",
              "    </tr>\n",
              "  </tbody>\n",
              "</table>\n",
              "</div>"
            ],
            "text/plain": [
              "         city   0   1   2   3\n",
              "0   São Paulo  25  27  23  25\n",
              "1   Fortaleza  35  32  31  29\n",
              "2  Montevideo  20  18  21  23\n",
              "3      London  14  15  12  13"
            ]
          },
          "execution_count": 98,
          "metadata": {},
          "output_type": "execute_result"
        }
      ],
      "source": [
        "dtemp2_tran = dtemp2.transpose().rename_axis('city').reset_index()\n",
        "dtemp2_tran"
      ]
    },
    {
      "cell_type": "code",
      "execution_count": null,
      "metadata": {
        "id": "u_8nifKC7cNi",
        "outputId": "5216a6b9-964f-4d74-b319-fdfb3af11b51"
      },
      "outputs": [
        {
          "data": {
            "text/html": [
              "<div>\n",
              "<style scoped>\n",
              "    .dataframe tbody tr th:only-of-type {\n",
              "        vertical-align: middle;\n",
              "    }\n",
              "\n",
              "    .dataframe tbody tr th {\n",
              "        vertical-align: top;\n",
              "    }\n",
              "\n",
              "    .dataframe thead th {\n",
              "        text-align: right;\n",
              "    }\n",
              "</style>\n",
              "<table border=\"1\" class=\"dataframe\">\n",
              "  <thead>\n",
              "    <tr style=\"text-align: right;\">\n",
              "      <th></th>\n",
              "      <th>city</th>\n",
              "      <th>day</th>\n",
              "      <th>temperature</th>\n",
              "    </tr>\n",
              "  </thead>\n",
              "  <tbody>\n",
              "    <tr>\n",
              "      <th>0</th>\n",
              "      <td>São Paulo</td>\n",
              "      <td>0</td>\n",
              "      <td>25</td>\n",
              "    </tr>\n",
              "    <tr>\n",
              "      <th>1</th>\n",
              "      <td>Fortaleza</td>\n",
              "      <td>0</td>\n",
              "      <td>35</td>\n",
              "    </tr>\n",
              "    <tr>\n",
              "      <th>2</th>\n",
              "      <td>Montevideo</td>\n",
              "      <td>0</td>\n",
              "      <td>20</td>\n",
              "    </tr>\n",
              "    <tr>\n",
              "      <th>3</th>\n",
              "      <td>London</td>\n",
              "      <td>0</td>\n",
              "      <td>14</td>\n",
              "    </tr>\n",
              "    <tr>\n",
              "      <th>4</th>\n",
              "      <td>São Paulo</td>\n",
              "      <td>1</td>\n",
              "      <td>27</td>\n",
              "    </tr>\n",
              "    <tr>\n",
              "      <th>5</th>\n",
              "      <td>Fortaleza</td>\n",
              "      <td>1</td>\n",
              "      <td>32</td>\n",
              "    </tr>\n",
              "    <tr>\n",
              "      <th>6</th>\n",
              "      <td>Montevideo</td>\n",
              "      <td>1</td>\n",
              "      <td>18</td>\n",
              "    </tr>\n",
              "    <tr>\n",
              "      <th>7</th>\n",
              "      <td>London</td>\n",
              "      <td>1</td>\n",
              "      <td>15</td>\n",
              "    </tr>\n",
              "    <tr>\n",
              "      <th>8</th>\n",
              "      <td>São Paulo</td>\n",
              "      <td>2</td>\n",
              "      <td>23</td>\n",
              "    </tr>\n",
              "    <tr>\n",
              "      <th>9</th>\n",
              "      <td>Fortaleza</td>\n",
              "      <td>2</td>\n",
              "      <td>31</td>\n",
              "    </tr>\n",
              "    <tr>\n",
              "      <th>10</th>\n",
              "      <td>Montevideo</td>\n",
              "      <td>2</td>\n",
              "      <td>21</td>\n",
              "    </tr>\n",
              "    <tr>\n",
              "      <th>11</th>\n",
              "      <td>London</td>\n",
              "      <td>2</td>\n",
              "      <td>12</td>\n",
              "    </tr>\n",
              "    <tr>\n",
              "      <th>12</th>\n",
              "      <td>São Paulo</td>\n",
              "      <td>3</td>\n",
              "      <td>25</td>\n",
              "    </tr>\n",
              "    <tr>\n",
              "      <th>13</th>\n",
              "      <td>Fortaleza</td>\n",
              "      <td>3</td>\n",
              "      <td>29</td>\n",
              "    </tr>\n",
              "    <tr>\n",
              "      <th>14</th>\n",
              "      <td>Montevideo</td>\n",
              "      <td>3</td>\n",
              "      <td>23</td>\n",
              "    </tr>\n",
              "    <tr>\n",
              "      <th>15</th>\n",
              "      <td>London</td>\n",
              "      <td>3</td>\n",
              "      <td>13</td>\n",
              "    </tr>\n",
              "  </tbody>\n",
              "</table>\n",
              "</div>"
            ],
            "text/plain": [
              "          city day  temperature\n",
              "0    São Paulo   0           25\n",
              "1    Fortaleza   0           35\n",
              "2   Montevideo   0           20\n",
              "3       London   0           14\n",
              "4    São Paulo   1           27\n",
              "5    Fortaleza   1           32\n",
              "6   Montevideo   1           18\n",
              "7       London   1           15\n",
              "8    São Paulo   2           23\n",
              "9    Fortaleza   2           31\n",
              "10  Montevideo   2           21\n",
              "11      London   2           12\n",
              "12   São Paulo   3           25\n",
              "13   Fortaleza   3           29\n",
              "14  Montevideo   3           23\n",
              "15      London   3           13"
            ]
          },
          "execution_count": 99,
          "metadata": {},
          "output_type": "execute_result"
        }
      ],
      "source": [
        "tabela2 = dtemp2_tran.melt(id_vars=['city'],  value_name='temperature', var_name='day')\n",
        "tabela2"
      ]
    },
    {
      "cell_type": "markdown",
      "metadata": {
        "id": "fw8X4Oo47cNi"
      },
      "source": [
        "No entanto, veja que os dias da tabela 2 começam em 0\n",
        "\n",
        "Sabendo que os dias da tabela 2 vem logo após os dias da tabela 1, podemos:\n",
        "1. pegar o último dia na tabela 1\n",
        "2. adicionar esse valor ao cada dia da tabela 2 usando `map` ou `apply`"
      ]
    },
    {
      "cell_type": "code",
      "execution_count": null,
      "metadata": {
        "id": "xZej9wBE7cNj",
        "outputId": "ea493464-80b6-40d2-b9dd-99f6a5e0c24f"
      },
      "outputs": [
        {
          "data": {
            "text/html": [
              "<div>\n",
              "<style scoped>\n",
              "    .dataframe tbody tr th:only-of-type {\n",
              "        vertical-align: middle;\n",
              "    }\n",
              "\n",
              "    .dataframe tbody tr th {\n",
              "        vertical-align: top;\n",
              "    }\n",
              "\n",
              "    .dataframe thead th {\n",
              "        text-align: right;\n",
              "    }\n",
              "</style>\n",
              "<table border=\"1\" class=\"dataframe\">\n",
              "  <thead>\n",
              "    <tr style=\"text-align: right;\">\n",
              "      <th></th>\n",
              "      <th>city</th>\n",
              "      <th>day</th>\n",
              "      <th>temperature</th>\n",
              "    </tr>\n",
              "  </thead>\n",
              "  <tbody>\n",
              "    <tr>\n",
              "      <th>0</th>\n",
              "      <td>São Paulo</td>\n",
              "      <td>3</td>\n",
              "      <td>25</td>\n",
              "    </tr>\n",
              "    <tr>\n",
              "      <th>1</th>\n",
              "      <td>Fortaleza</td>\n",
              "      <td>3</td>\n",
              "      <td>35</td>\n",
              "    </tr>\n",
              "    <tr>\n",
              "      <th>2</th>\n",
              "      <td>Montevideo</td>\n",
              "      <td>3</td>\n",
              "      <td>20</td>\n",
              "    </tr>\n",
              "    <tr>\n",
              "      <th>3</th>\n",
              "      <td>London</td>\n",
              "      <td>3</td>\n",
              "      <td>14</td>\n",
              "    </tr>\n",
              "    <tr>\n",
              "      <th>4</th>\n",
              "      <td>São Paulo</td>\n",
              "      <td>4</td>\n",
              "      <td>27</td>\n",
              "    </tr>\n",
              "    <tr>\n",
              "      <th>5</th>\n",
              "      <td>Fortaleza</td>\n",
              "      <td>4</td>\n",
              "      <td>32</td>\n",
              "    </tr>\n",
              "    <tr>\n",
              "      <th>6</th>\n",
              "      <td>Montevideo</td>\n",
              "      <td>4</td>\n",
              "      <td>18</td>\n",
              "    </tr>\n",
              "    <tr>\n",
              "      <th>7</th>\n",
              "      <td>London</td>\n",
              "      <td>4</td>\n",
              "      <td>15</td>\n",
              "    </tr>\n",
              "    <tr>\n",
              "      <th>8</th>\n",
              "      <td>São Paulo</td>\n",
              "      <td>5</td>\n",
              "      <td>23</td>\n",
              "    </tr>\n",
              "    <tr>\n",
              "      <th>9</th>\n",
              "      <td>Fortaleza</td>\n",
              "      <td>5</td>\n",
              "      <td>31</td>\n",
              "    </tr>\n",
              "    <tr>\n",
              "      <th>10</th>\n",
              "      <td>Montevideo</td>\n",
              "      <td>5</td>\n",
              "      <td>21</td>\n",
              "    </tr>\n",
              "    <tr>\n",
              "      <th>11</th>\n",
              "      <td>London</td>\n",
              "      <td>5</td>\n",
              "      <td>12</td>\n",
              "    </tr>\n",
              "    <tr>\n",
              "      <th>12</th>\n",
              "      <td>São Paulo</td>\n",
              "      <td>6</td>\n",
              "      <td>25</td>\n",
              "    </tr>\n",
              "    <tr>\n",
              "      <th>13</th>\n",
              "      <td>Fortaleza</td>\n",
              "      <td>6</td>\n",
              "      <td>29</td>\n",
              "    </tr>\n",
              "    <tr>\n",
              "      <th>14</th>\n",
              "      <td>Montevideo</td>\n",
              "      <td>6</td>\n",
              "      <td>23</td>\n",
              "    </tr>\n",
              "    <tr>\n",
              "      <th>15</th>\n",
              "      <td>London</td>\n",
              "      <td>6</td>\n",
              "      <td>13</td>\n",
              "    </tr>\n",
              "  </tbody>\n",
              "</table>\n",
              "</div>"
            ],
            "text/plain": [
              "          city  day  temperature\n",
              "0    São Paulo    3           25\n",
              "1    Fortaleza    3           35\n",
              "2   Montevideo    3           20\n",
              "3       London    3           14\n",
              "4    São Paulo    4           27\n",
              "5    Fortaleza    4           32\n",
              "6   Montevideo    4           18\n",
              "7       London    4           15\n",
              "8    São Paulo    5           23\n",
              "9    Fortaleza    5           31\n",
              "10  Montevideo    5           21\n",
              "11      London    5           12\n",
              "12   São Paulo    6           25\n",
              "13   Fortaleza    6           29\n",
              "14  Montevideo    6           23\n",
              "15      London    6           13"
            ]
          },
          "execution_count": 100,
          "metadata": {},
          "output_type": "execute_result"
        }
      ],
      "source": [
        "last_day = tabela1['day'].max()\n",
        "\n",
        "tabela2['day'] = tabela2['day'].apply(lambda x: x+last_day+1)\n",
        "tabela2"
      ]
    },
    {
      "cell_type": "markdown",
      "metadata": {
        "id": "dtcysmYVtfr8"
      },
      "source": [
        "## Combinando\n",
        "\n",
        "No caso anterior temos 2 DataFrames, mas desejamos combiná-los\n",
        "\n",
        "- `merge`: combina dados vinculando linhas por uma ou mais chave\n",
        "- `concatenate`: combina dados a partir de um eixo específico"
      ]
    },
    {
      "cell_type": "markdown",
      "metadata": {
        "id": "97OiPoQetfsB"
      },
      "source": [
        "### `merge`\n",
        "\n",
        "Realiza a fusão de dois: DataFrames, Series, ou Serie com DataFrame.\n",
        "\n",
        "Fusão com base em:\n",
        "- valores de colunas, uma em cada DataFrame\n",
        "- valores de uma coluna em um dos DataFrame e índices no outro\n",
        "- valores dos índices em ambos os DataFrames (ou série)"
      ]
    },
    {
      "cell_type": "markdown",
      "metadata": {
        "id": "B3fWe40BtfsC"
      },
      "source": [
        "#### Merge baseado nos valores de colunas"
      ]
    },
    {
      "cell_type": "code",
      "execution_count": null,
      "metadata": {
        "id": "s2Wsi7tJ7cNj",
        "outputId": "bf61ce0a-dee2-46bf-d3f9-83efd70b4c8e"
      },
      "outputs": [
        {
          "name": "stdout",
          "output_type": "stream",
          "text": [
            "  key  data1\n",
            "0   a     10\n",
            "1   a     20\n",
            "2   b     30\n",
            "3   b     40\n",
            "4   c     50\n",
            "5   a     60\n",
            "  key  data2\n",
            "0   b      0\n",
            "1   a      1\n",
            "2   a      2\n",
            "3   b      3\n"
          ]
        }
      ],
      "source": [
        "# construindo dois DataFrames que serão fundidos com o método 'merge'\n",
        "df1 = pd.DataFrame({'key': ['a','a','b','b','c','a'],\n",
        "                   'data1': range(10,70,10)})\n",
        "\n",
        "df2 = pd.DataFrame({'key': ['b','a','a','b'],\n",
        "                   'data2': range(4)})\n",
        "\n",
        "print(df1)\n",
        "print(df2)"
      ]
    },
    {
      "cell_type": "code",
      "execution_count": null,
      "metadata": {
        "id": "OCSGvqI3tfsI",
        "outputId": "eac85baf-a5c0-44e4-be73-79eac98faf93"
      },
      "outputs": [
        {
          "data": {
            "text/html": [
              "<div>\n",
              "<style scoped>\n",
              "    .dataframe tbody tr th:only-of-type {\n",
              "        vertical-align: middle;\n",
              "    }\n",
              "\n",
              "    .dataframe tbody tr th {\n",
              "        vertical-align: top;\n",
              "    }\n",
              "\n",
              "    .dataframe thead th {\n",
              "        text-align: right;\n",
              "    }\n",
              "</style>\n",
              "<table border=\"1\" class=\"dataframe\">\n",
              "  <thead>\n",
              "    <tr style=\"text-align: right;\">\n",
              "      <th></th>\n",
              "      <th>key</th>\n",
              "      <th>data1</th>\n",
              "      <th>data2</th>\n",
              "    </tr>\n",
              "  </thead>\n",
              "  <tbody>\n",
              "    <tr>\n",
              "      <th>0</th>\n",
              "      <td>a</td>\n",
              "      <td>10</td>\n",
              "      <td>1</td>\n",
              "    </tr>\n",
              "    <tr>\n",
              "      <th>1</th>\n",
              "      <td>a</td>\n",
              "      <td>10</td>\n",
              "      <td>2</td>\n",
              "    </tr>\n",
              "    <tr>\n",
              "      <th>2</th>\n",
              "      <td>a</td>\n",
              "      <td>20</td>\n",
              "      <td>1</td>\n",
              "    </tr>\n",
              "    <tr>\n",
              "      <th>3</th>\n",
              "      <td>a</td>\n",
              "      <td>20</td>\n",
              "      <td>2</td>\n",
              "    </tr>\n",
              "    <tr>\n",
              "      <th>4</th>\n",
              "      <td>a</td>\n",
              "      <td>60</td>\n",
              "      <td>1</td>\n",
              "    </tr>\n",
              "    <tr>\n",
              "      <th>5</th>\n",
              "      <td>a</td>\n",
              "      <td>60</td>\n",
              "      <td>2</td>\n",
              "    </tr>\n",
              "    <tr>\n",
              "      <th>6</th>\n",
              "      <td>b</td>\n",
              "      <td>30</td>\n",
              "      <td>0</td>\n",
              "    </tr>\n",
              "    <tr>\n",
              "      <th>7</th>\n",
              "      <td>b</td>\n",
              "      <td>30</td>\n",
              "      <td>3</td>\n",
              "    </tr>\n",
              "    <tr>\n",
              "      <th>8</th>\n",
              "      <td>b</td>\n",
              "      <td>40</td>\n",
              "      <td>0</td>\n",
              "    </tr>\n",
              "    <tr>\n",
              "      <th>9</th>\n",
              "      <td>b</td>\n",
              "      <td>40</td>\n",
              "      <td>3</td>\n",
              "    </tr>\n",
              "  </tbody>\n",
              "</table>\n",
              "</div>"
            ],
            "text/plain": [
              "  key  data1  data2\n",
              "0   a     10      1\n",
              "1   a     10      2\n",
              "2   a     20      1\n",
              "3   a     20      2\n",
              "4   a     60      1\n",
              "5   a     60      2\n",
              "6   b     30      0\n",
              "7   b     30      3\n",
              "8   b     40      0\n",
              "9   b     40      3"
            ]
          },
          "execution_count": 102,
          "metadata": {},
          "output_type": "execute_result"
        }
      ],
      "source": [
        "# fusão com base nos valores de 'key'\n",
        "pd.merge(df1, df2, on='key')\n",
        "# Apenas os valores que aparencem em ambos são utilizados no 'merge'"
      ]
    },
    {
      "cell_type": "markdown",
      "metadata": {
        "id": "fZdmy2C-7cNk"
      },
      "source": [
        "Parâmetro `how` força que todos os valores sejam utilizados\n",
        "* `outer`: realiza união entre os dados\n",
        "* `inner`: realiza intersecção entre os dados"
      ]
    },
    {
      "cell_type": "code",
      "execution_count": null,
      "metadata": {
        "id": "QbEwQO4etfsO",
        "outputId": "289f4eb9-15d8-41ab-90f1-73e1eaa7ff34"
      },
      "outputs": [
        {
          "data": {
            "text/html": [
              "<div>\n",
              "<style scoped>\n",
              "    .dataframe tbody tr th:only-of-type {\n",
              "        vertical-align: middle;\n",
              "    }\n",
              "\n",
              "    .dataframe tbody tr th {\n",
              "        vertical-align: top;\n",
              "    }\n",
              "\n",
              "    .dataframe thead th {\n",
              "        text-align: right;\n",
              "    }\n",
              "</style>\n",
              "<table border=\"1\" class=\"dataframe\">\n",
              "  <thead>\n",
              "    <tr style=\"text-align: right;\">\n",
              "      <th></th>\n",
              "      <th>key</th>\n",
              "      <th>data1</th>\n",
              "      <th>data2</th>\n",
              "    </tr>\n",
              "  </thead>\n",
              "  <tbody>\n",
              "    <tr>\n",
              "      <th>0</th>\n",
              "      <td>a</td>\n",
              "      <td>10</td>\n",
              "      <td>1.0</td>\n",
              "    </tr>\n",
              "    <tr>\n",
              "      <th>1</th>\n",
              "      <td>a</td>\n",
              "      <td>10</td>\n",
              "      <td>2.0</td>\n",
              "    </tr>\n",
              "    <tr>\n",
              "      <th>2</th>\n",
              "      <td>a</td>\n",
              "      <td>20</td>\n",
              "      <td>1.0</td>\n",
              "    </tr>\n",
              "    <tr>\n",
              "      <th>3</th>\n",
              "      <td>a</td>\n",
              "      <td>20</td>\n",
              "      <td>2.0</td>\n",
              "    </tr>\n",
              "    <tr>\n",
              "      <th>4</th>\n",
              "      <td>a</td>\n",
              "      <td>60</td>\n",
              "      <td>1.0</td>\n",
              "    </tr>\n",
              "    <tr>\n",
              "      <th>5</th>\n",
              "      <td>a</td>\n",
              "      <td>60</td>\n",
              "      <td>2.0</td>\n",
              "    </tr>\n",
              "    <tr>\n",
              "      <th>6</th>\n",
              "      <td>b</td>\n",
              "      <td>30</td>\n",
              "      <td>0.0</td>\n",
              "    </tr>\n",
              "    <tr>\n",
              "      <th>7</th>\n",
              "      <td>b</td>\n",
              "      <td>30</td>\n",
              "      <td>3.0</td>\n",
              "    </tr>\n",
              "    <tr>\n",
              "      <th>8</th>\n",
              "      <td>b</td>\n",
              "      <td>40</td>\n",
              "      <td>0.0</td>\n",
              "    </tr>\n",
              "    <tr>\n",
              "      <th>9</th>\n",
              "      <td>b</td>\n",
              "      <td>40</td>\n",
              "      <td>3.0</td>\n",
              "    </tr>\n",
              "    <tr>\n",
              "      <th>10</th>\n",
              "      <td>c</td>\n",
              "      <td>50</td>\n",
              "      <td>NaN</td>\n",
              "    </tr>\n",
              "  </tbody>\n",
              "</table>\n",
              "</div>"
            ],
            "text/plain": [
              "   key  data1  data2\n",
              "0    a     10    1.0\n",
              "1    a     10    2.0\n",
              "2    a     20    1.0\n",
              "3    a     20    2.0\n",
              "4    a     60    1.0\n",
              "5    a     60    2.0\n",
              "6    b     30    0.0\n",
              "7    b     30    3.0\n",
              "8    b     40    0.0\n",
              "9    b     40    3.0\n",
              "10   c     50    NaN"
            ]
          },
          "execution_count": 103,
          "metadata": {},
          "output_type": "execute_result"
        }
      ],
      "source": [
        "pd.merge(df1,df2,on='key',how='outer')  # o valor 'c' aparece na coluna 'key'\n",
        "                                        # apenas em df1, enquanto o valor 'd'\n",
        "                                        # aparece apenas em df2"
      ]
    },
    {
      "cell_type": "markdown",
      "metadata": {
        "id": "-2e7e96BtfsW"
      },
      "source": [
        "#### Merge baseado nos valores de coluna em DataFrame e rótulos no outro DataFrame\n",
        "Para ser realizar o merging com base em colunas e rótulos, deve-se especificar os parâmetros\n",
        "`left_on`, `right_on`, `left_index` e `right_index` de forma apropriada.\n",
        "- __left\\_on__ = nome da coluna do DataFrame da esquerda (primeiro parâmetro)\n",
        "- __left\\_index__ = True indica que o índice no DataFrame da esquerda (primeiro parâmetro) serão utilizados\n",
        "- __right\\_on__ = nome da coluna do DataFrame da direita (segundo parâmetro)\n",
        "- __right\\_index__ = True indica que o índice no DataFrame da direita (segundo parâmetro) serão utilizados"
      ]
    },
    {
      "cell_type": "code",
      "execution_count": null,
      "metadata": {
        "id": "vdfPtGOE7cNk",
        "outputId": "fd4383d8-b36a-46fa-c294-e14c0b904691"
      },
      "outputs": [
        {
          "data": {
            "text/html": [
              "<div>\n",
              "<style scoped>\n",
              "    .dataframe tbody tr th:only-of-type {\n",
              "        vertical-align: middle;\n",
              "    }\n",
              "\n",
              "    .dataframe tbody tr th {\n",
              "        vertical-align: top;\n",
              "    }\n",
              "\n",
              "    .dataframe thead th {\n",
              "        text-align: right;\n",
              "    }\n",
              "</style>\n",
              "<table border=\"1\" class=\"dataframe\">\n",
              "  <thead>\n",
              "    <tr style=\"text-align: right;\">\n",
              "      <th></th>\n",
              "      <th>country</th>\n",
              "    </tr>\n",
              "  </thead>\n",
              "  <tbody>\n",
              "    <tr>\n",
              "      <th>São Paulo</th>\n",
              "      <td>BR</td>\n",
              "    </tr>\n",
              "    <tr>\n",
              "      <th>Fortaleza</th>\n",
              "      <td>BR</td>\n",
              "    </tr>\n",
              "    <tr>\n",
              "      <th>Montevideo</th>\n",
              "      <td>UR</td>\n",
              "    </tr>\n",
              "  </tbody>\n",
              "</table>\n",
              "</div>"
            ],
            "text/plain": [
              "           country\n",
              "São Paulo       BR\n",
              "Fortaleza       BR\n",
              "Montevideo      UR"
            ]
          },
          "execution_count": 110,
          "metadata": {},
          "output_type": "execute_result"
        }
      ],
      "source": [
        "dcity = pd.DataFrame({'country':['BR','BR','UR']}, index=['São Paulo','Fortaleza','Montevideo'])\n",
        "dcity"
      ]
    },
    {
      "cell_type": "code",
      "execution_count": null,
      "metadata": {
        "id": "iV4ZSojy7cNk",
        "outputId": "b7cfe74d-056a-462a-a021-6d37bce76fcf"
      },
      "outputs": [
        {
          "data": {
            "text/html": [
              "<div>\n",
              "<style scoped>\n",
              "    .dataframe tbody tr th:only-of-type {\n",
              "        vertical-align: middle;\n",
              "    }\n",
              "\n",
              "    .dataframe tbody tr th {\n",
              "        vertical-align: top;\n",
              "    }\n",
              "\n",
              "    .dataframe thead th {\n",
              "        text-align: right;\n",
              "    }\n",
              "</style>\n",
              "<table border=\"1\" class=\"dataframe\">\n",
              "  <thead>\n",
              "    <tr style=\"text-align: right;\">\n",
              "      <th></th>\n",
              "      <th>city</th>\n",
              "      <th>day</th>\n",
              "      <th>temperature</th>\n",
              "    </tr>\n",
              "  </thead>\n",
              "  <tbody>\n",
              "    <tr>\n",
              "      <th>0</th>\n",
              "      <td>São Paulo</td>\n",
              "      <td>0</td>\n",
              "      <td>23</td>\n",
              "    </tr>\n",
              "    <tr>\n",
              "      <th>1</th>\n",
              "      <td>Fortaleza</td>\n",
              "      <td>0</td>\n",
              "      <td>30</td>\n",
              "    </tr>\n",
              "    <tr>\n",
              "      <th>2</th>\n",
              "      <td>Montevideo</td>\n",
              "      <td>0</td>\n",
              "      <td>18</td>\n",
              "    </tr>\n",
              "    <tr>\n",
              "      <th>3</th>\n",
              "      <td>London</td>\n",
              "      <td>0</td>\n",
              "      <td>9</td>\n",
              "    </tr>\n",
              "    <tr>\n",
              "      <th>4</th>\n",
              "      <td>São Paulo</td>\n",
              "      <td>1</td>\n",
              "      <td>21</td>\n",
              "    </tr>\n",
              "    <tr>\n",
              "      <th>5</th>\n",
              "      <td>Fortaleza</td>\n",
              "      <td>1</td>\n",
              "      <td>29</td>\n",
              "    </tr>\n",
              "    <tr>\n",
              "      <th>6</th>\n",
              "      <td>Montevideo</td>\n",
              "      <td>1</td>\n",
              "      <td>21</td>\n",
              "    </tr>\n",
              "    <tr>\n",
              "      <th>7</th>\n",
              "      <td>London</td>\n",
              "      <td>1</td>\n",
              "      <td>10</td>\n",
              "    </tr>\n",
              "    <tr>\n",
              "      <th>8</th>\n",
              "      <td>São Paulo</td>\n",
              "      <td>2</td>\n",
              "      <td>20</td>\n",
              "    </tr>\n",
              "    <tr>\n",
              "      <th>9</th>\n",
              "      <td>Fortaleza</td>\n",
              "      <td>2</td>\n",
              "      <td>28</td>\n",
              "    </tr>\n",
              "    <tr>\n",
              "      <th>10</th>\n",
              "      <td>Montevideo</td>\n",
              "      <td>2</td>\n",
              "      <td>20</td>\n",
              "    </tr>\n",
              "    <tr>\n",
              "      <th>11</th>\n",
              "      <td>London</td>\n",
              "      <td>2</td>\n",
              "      <td>13</td>\n",
              "    </tr>\n",
              "  </tbody>\n",
              "</table>\n",
              "</div>"
            ],
            "text/plain": [
              "          city day  temperature\n",
              "0    São Paulo   0           23\n",
              "1    Fortaleza   0           30\n",
              "2   Montevideo   0           18\n",
              "3       London   0            9\n",
              "4    São Paulo   1           21\n",
              "5    Fortaleza   1           29\n",
              "6   Montevideo   1           21\n",
              "7       London   1           10\n",
              "8    São Paulo   2           20\n",
              "9    Fortaleza   2           28\n",
              "10  Montevideo   2           20\n",
              "11      London   2           13"
            ]
          },
          "execution_count": 111,
          "metadata": {},
          "output_type": "execute_result"
        }
      ],
      "source": [
        "tabela1"
      ]
    },
    {
      "cell_type": "code",
      "execution_count": null,
      "metadata": {
        "id": "LIvARD0ztfsY",
        "outputId": "4d794929-489d-4c39-ca78-3a059b37fe87"
      },
      "outputs": [
        {
          "data": {
            "text/html": [
              "<div>\n",
              "<style scoped>\n",
              "    .dataframe tbody tr th:only-of-type {\n",
              "        vertical-align: middle;\n",
              "    }\n",
              "\n",
              "    .dataframe tbody tr th {\n",
              "        vertical-align: top;\n",
              "    }\n",
              "\n",
              "    .dataframe thead th {\n",
              "        text-align: right;\n",
              "    }\n",
              "</style>\n",
              "<table border=\"1\" class=\"dataframe\">\n",
              "  <thead>\n",
              "    <tr style=\"text-align: right;\">\n",
              "      <th></th>\n",
              "      <th>city</th>\n",
              "      <th>day</th>\n",
              "      <th>temperature</th>\n",
              "      <th>country</th>\n",
              "    </tr>\n",
              "  </thead>\n",
              "  <tbody>\n",
              "    <tr>\n",
              "      <th>0</th>\n",
              "      <td>São Paulo</td>\n",
              "      <td>0</td>\n",
              "      <td>23</td>\n",
              "      <td>BR</td>\n",
              "    </tr>\n",
              "    <tr>\n",
              "      <th>4</th>\n",
              "      <td>São Paulo</td>\n",
              "      <td>1</td>\n",
              "      <td>21</td>\n",
              "      <td>BR</td>\n",
              "    </tr>\n",
              "    <tr>\n",
              "      <th>8</th>\n",
              "      <td>São Paulo</td>\n",
              "      <td>2</td>\n",
              "      <td>20</td>\n",
              "      <td>BR</td>\n",
              "    </tr>\n",
              "    <tr>\n",
              "      <th>1</th>\n",
              "      <td>Fortaleza</td>\n",
              "      <td>0</td>\n",
              "      <td>30</td>\n",
              "      <td>BR</td>\n",
              "    </tr>\n",
              "    <tr>\n",
              "      <th>5</th>\n",
              "      <td>Fortaleza</td>\n",
              "      <td>1</td>\n",
              "      <td>29</td>\n",
              "      <td>BR</td>\n",
              "    </tr>\n",
              "    <tr>\n",
              "      <th>9</th>\n",
              "      <td>Fortaleza</td>\n",
              "      <td>2</td>\n",
              "      <td>28</td>\n",
              "      <td>BR</td>\n",
              "    </tr>\n",
              "    <tr>\n",
              "      <th>2</th>\n",
              "      <td>Montevideo</td>\n",
              "      <td>0</td>\n",
              "      <td>18</td>\n",
              "      <td>UR</td>\n",
              "    </tr>\n",
              "    <tr>\n",
              "      <th>6</th>\n",
              "      <td>Montevideo</td>\n",
              "      <td>1</td>\n",
              "      <td>21</td>\n",
              "      <td>UR</td>\n",
              "    </tr>\n",
              "    <tr>\n",
              "      <th>10</th>\n",
              "      <td>Montevideo</td>\n",
              "      <td>2</td>\n",
              "      <td>20</td>\n",
              "      <td>UR</td>\n",
              "    </tr>\n",
              "    <tr>\n",
              "      <th>3</th>\n",
              "      <td>London</td>\n",
              "      <td>0</td>\n",
              "      <td>9</td>\n",
              "      <td>NaN</td>\n",
              "    </tr>\n",
              "    <tr>\n",
              "      <th>7</th>\n",
              "      <td>London</td>\n",
              "      <td>1</td>\n",
              "      <td>10</td>\n",
              "      <td>NaN</td>\n",
              "    </tr>\n",
              "    <tr>\n",
              "      <th>11</th>\n",
              "      <td>London</td>\n",
              "      <td>2</td>\n",
              "      <td>13</td>\n",
              "      <td>NaN</td>\n",
              "    </tr>\n",
              "  </tbody>\n",
              "</table>\n",
              "</div>"
            ],
            "text/plain": [
              "          city day  temperature country\n",
              "0    São Paulo   0           23      BR\n",
              "4    São Paulo   1           21      BR\n",
              "8    São Paulo   2           20      BR\n",
              "1    Fortaleza   0           30      BR\n",
              "5    Fortaleza   1           29      BR\n",
              "9    Fortaleza   2           28      BR\n",
              "2   Montevideo   0           18      UR\n",
              "6   Montevideo   1           21      UR\n",
              "10  Montevideo   2           20      UR\n",
              "3       London   0            9     NaN\n",
              "7       London   1           10     NaN\n",
              "11      London   2           13     NaN"
            ]
          },
          "execution_count": 114,
          "metadata": {},
          "output_type": "execute_result"
        }
      ],
      "source": [
        "# Merge utilizando a coluna \"city\" da tabela 1 (de temperaturas) e os índices em dcity\n",
        "pd.merge(tabela1, dcity, left_on='city', right_index=True, how='outer')"
      ]
    },
    {
      "cell_type": "markdown",
      "metadata": {
        "id": "L0Vm439T7cNl"
      },
      "source": [
        "Se não especificarmos união (`outer`), apenas ocorrências de valores em ambos será considerada"
      ]
    },
    {
      "cell_type": "code",
      "execution_count": null,
      "metadata": {
        "id": "feAzdcMxtfsf",
        "outputId": "e70e813b-cc02-4ebd-8116-40d798f17187"
      },
      "outputs": [
        {
          "data": {
            "text/html": [
              "<div>\n",
              "<style scoped>\n",
              "    .dataframe tbody tr th:only-of-type {\n",
              "        vertical-align: middle;\n",
              "    }\n",
              "\n",
              "    .dataframe tbody tr th {\n",
              "        vertical-align: top;\n",
              "    }\n",
              "\n",
              "    .dataframe thead th {\n",
              "        text-align: right;\n",
              "    }\n",
              "</style>\n",
              "<table border=\"1\" class=\"dataframe\">\n",
              "  <thead>\n",
              "    <tr style=\"text-align: right;\">\n",
              "      <th></th>\n",
              "      <th>city</th>\n",
              "      <th>day</th>\n",
              "      <th>temperature</th>\n",
              "      <th>country</th>\n",
              "    </tr>\n",
              "  </thead>\n",
              "  <tbody>\n",
              "    <tr>\n",
              "      <th>0</th>\n",
              "      <td>São Paulo</td>\n",
              "      <td>0</td>\n",
              "      <td>23</td>\n",
              "      <td>BR</td>\n",
              "    </tr>\n",
              "    <tr>\n",
              "      <th>4</th>\n",
              "      <td>São Paulo</td>\n",
              "      <td>1</td>\n",
              "      <td>21</td>\n",
              "      <td>BR</td>\n",
              "    </tr>\n",
              "    <tr>\n",
              "      <th>8</th>\n",
              "      <td>São Paulo</td>\n",
              "      <td>2</td>\n",
              "      <td>20</td>\n",
              "      <td>BR</td>\n",
              "    </tr>\n",
              "    <tr>\n",
              "      <th>1</th>\n",
              "      <td>Fortaleza</td>\n",
              "      <td>0</td>\n",
              "      <td>30</td>\n",
              "      <td>BR</td>\n",
              "    </tr>\n",
              "    <tr>\n",
              "      <th>5</th>\n",
              "      <td>Fortaleza</td>\n",
              "      <td>1</td>\n",
              "      <td>29</td>\n",
              "      <td>BR</td>\n",
              "    </tr>\n",
              "    <tr>\n",
              "      <th>9</th>\n",
              "      <td>Fortaleza</td>\n",
              "      <td>2</td>\n",
              "      <td>28</td>\n",
              "      <td>BR</td>\n",
              "    </tr>\n",
              "    <tr>\n",
              "      <th>2</th>\n",
              "      <td>Montevideo</td>\n",
              "      <td>0</td>\n",
              "      <td>18</td>\n",
              "      <td>UR</td>\n",
              "    </tr>\n",
              "    <tr>\n",
              "      <th>6</th>\n",
              "      <td>Montevideo</td>\n",
              "      <td>1</td>\n",
              "      <td>21</td>\n",
              "      <td>UR</td>\n",
              "    </tr>\n",
              "    <tr>\n",
              "      <th>10</th>\n",
              "      <td>Montevideo</td>\n",
              "      <td>2</td>\n",
              "      <td>20</td>\n",
              "      <td>UR</td>\n",
              "    </tr>\n",
              "  </tbody>\n",
              "</table>\n",
              "</div>"
            ],
            "text/plain": [
              "          city day  temperature country\n",
              "0    São Paulo   0           23      BR\n",
              "4    São Paulo   1           21      BR\n",
              "8    São Paulo   2           20      BR\n",
              "1    Fortaleza   0           30      BR\n",
              "5    Fortaleza   1           29      BR\n",
              "9    Fortaleza   2           28      BR\n",
              "2   Montevideo   0           18      UR\n",
              "6   Montevideo   1           21      UR\n",
              "10  Montevideo   2           20      UR"
            ]
          },
          "execution_count": 115,
          "metadata": {},
          "output_type": "execute_result"
        }
      ],
      "source": [
        "pd.merge(tabela1, dcity, left_on='city', right_index=True)"
      ]
    },
    {
      "cell_type": "markdown",
      "metadata": {
        "id": "lvSWrrNStfsj"
      },
      "source": [
        "### `concat`\n",
        "\n",
        "Concatena DataFrames e/ou Series nas direções:\n",
        "- __axis = 0__ concatena por linhas\n",
        "- __axis = 1__ concatena por colunas. Quando empregado em um conjunto de séries resulta em um DataFrame\n",
        "\n",
        "O método assume como parâmetro uma lista de DataFrames ou séries."
      ]
    },
    {
      "cell_type": "code",
      "execution_count": null,
      "metadata": {
        "id": "syLh1awitfsk",
        "outputId": "52f260c5-09b8-4afb-efac-4d58c80802b9"
      },
      "outputs": [
        {
          "name": "stdout",
          "output_type": "stream",
          "text": [
            "a    0\n",
            "b    1\n",
            "dtype: int64\n",
            "a    2\n",
            "c    3\n",
            "d    4\n",
            "dtype: int64\n",
            "a    1\n",
            "b    5\n",
            "e    6\n",
            "dtype: int64\n"
          ]
        }
      ],
      "source": [
        "# Construindo 3 séries especificando os rótulos das linhas\n",
        "s1 = pd.Series([0, 1], index=['a', 'b'])\n",
        "s2 = pd.Series([2, 3, 4], index=['a', 'c', 'd'])\n",
        "s3 = pd.Series([1, 5, 6], index=['a','b', 'e'])\n",
        "print(s1)\n",
        "print(s2)\n",
        "print(s3)\n",
        "\n",
        "# Contatenando as 3 séries na vertical\n",
        "# o resultado é uma nova série (rótulos podem estar repetidos)\n",
        "serie1 = pd.concat([s1,s2,s3])"
      ]
    },
    {
      "cell_type": "code",
      "execution_count": null,
      "metadata": {
        "id": "n74Vr4CR7cNl",
        "outputId": "a59d1422-2ee2-42b4-926e-79d1a93f0ec0"
      },
      "outputs": [
        {
          "data": {
            "text/plain": [
              "a    0\n",
              "b    1\n",
              "a    2\n",
              "c    3\n",
              "d    4\n",
              "a    1\n",
              "b    5\n",
              "e    6\n",
              "dtype: int64"
            ]
          },
          "execution_count": 119,
          "metadata": {},
          "output_type": "execute_result"
        }
      ],
      "source": [
        "serie1"
      ]
    },
    {
      "cell_type": "code",
      "execution_count": null,
      "metadata": {
        "id": "T08QqqBLtfsn",
        "outputId": "a9ea9cf0-f714-40c3-9f22-eb5a1f0a97d0"
      },
      "outputs": [
        {
          "name": "stdout",
          "output_type": "stream",
          "text": [
            "     0    1    2\n",
            "a  0.0  2.0  1.0\n",
            "b  1.0  NaN  5.0\n",
            "c  NaN  3.0  NaN\n",
            "d  NaN  4.0  NaN\n",
            "e  NaN  NaN  6.0\n"
          ]
        }
      ],
      "source": [
        "# concatenando as 3 séries por colunas especificando o parâmetro 'axis=1'\n",
        "# o resutado é um DataFrame\n",
        "print(pd.concat([s1,s2,s3],axis=1))"
      ]
    },
    {
      "cell_type": "code",
      "execution_count": null,
      "metadata": {
        "id": "9Qv0Jd3N7cNm",
        "outputId": "083b7a0d-36b6-4000-f974-d2cde356b091"
      },
      "outputs": [
        {
          "name": "stdout",
          "output_type": "stream",
          "text": [
            "          city  day  temperature        city  day  temperature\n",
            "0    São Paulo    0         23.0   São Paulo    3           25\n",
            "1    Fortaleza    0         30.0   Fortaleza    3           35\n",
            "2   Montevideo    0         18.0  Montevideo    3           20\n",
            "3       London    0          9.0      London    3           14\n",
            "4    São Paulo    1         21.0   São Paulo    4           27\n",
            "5    Fortaleza    1         29.0   Fortaleza    4           32\n",
            "6   Montevideo    1         21.0  Montevideo    4           18\n",
            "7       London    1         10.0      London    4           15\n",
            "8    São Paulo    2         20.0   São Paulo    5           23\n",
            "9    Fortaleza    2         28.0   Fortaleza    5           31\n",
            "10  Montevideo    2         20.0  Montevideo    5           21\n",
            "11      London    2         13.0      London    5           12\n",
            "12         NaN  NaN          NaN   São Paulo    6           25\n",
            "13         NaN  NaN          NaN   Fortaleza    6           29\n",
            "14         NaN  NaN          NaN  Montevideo    6           23\n",
            "15         NaN  NaN          NaN      London    6           13\n"
          ]
        }
      ],
      "source": [
        "print(pd.concat([tabela1,tabela2], axis=1))"
      ]
    },
    {
      "cell_type": "code",
      "execution_count": null,
      "metadata": {
        "id": "3y0o7Ehn7cNm",
        "outputId": "a1fabd1b-ee5b-46eb-cb68-264e980c02e0"
      },
      "outputs": [
        {
          "name": "stdout",
          "output_type": "stream",
          "text": [
            "          city day  temperature\n",
            "0    São Paulo   0           23\n",
            "1    Fortaleza   0           30\n",
            "2   Montevideo   0           18\n",
            "3       London   0            9\n",
            "4    São Paulo   1           21\n",
            "5    Fortaleza   1           29\n",
            "6   Montevideo   1           21\n",
            "7       London   1           10\n",
            "8    São Paulo   2           20\n",
            "9    Fortaleza   2           28\n",
            "10  Montevideo   2           20\n",
            "11      London   2           13\n",
            "0    São Paulo   3           25\n",
            "1    Fortaleza   3           35\n",
            "2   Montevideo   3           20\n",
            "3       London   3           14\n",
            "4    São Paulo   4           27\n",
            "5    Fortaleza   4           32\n",
            "6   Montevideo   4           18\n",
            "7       London   4           15\n",
            "8    São Paulo   5           23\n",
            "9    Fortaleza   5           31\n",
            "10  Montevideo   5           21\n",
            "11      London   5           12\n",
            "12   São Paulo   6           25\n",
            "13   Fortaleza   6           29\n",
            "14  Montevideo   6           23\n",
            "15      London   6           13\n"
          ]
        }
      ],
      "source": [
        "tabela_temperturas = pd.concat([tabela1,tabela2],axis=0)\n",
        "print(tabela_temperturas)"
      ]
    },
    {
      "cell_type": "markdown",
      "metadata": {
        "id": "MDLibBUc7cNm"
      },
      "source": [
        "---\n",
        "\n",
        "#### <font color=\"blue\">Exercício 2.10</font>\n",
        "\n",
        "Carregue os arquivos `sales1.csv`, `sales1_shipdate.csv`  e `sales2.csv`, os quais possuem informações de vendas realizadas. Devemos juntar as bases de dados e tratá-las.\n",
        "\n",
        "O arquivo `sales1_shipdate.csv` contém as datas de envio das ordens na `sales1.csv`. Já `sales2.csv` contém essa coluna no próprio arquivo\n",
        "\n",
        "Para isso:\n",
        "\n",
        "1. Combine as bases de dados, consolidando-as em um único DataFrame\n",
        "2. Exiba na tela quais atributos possuem dados faltantes após a concatenação\n",
        "    * Sabendo que `Total Revenue` é a multiplicação do preço unitário pela quantidade de unidades, preencha os valores faltantes dessa coluna\n",
        "3. Detecte linhas duplicadas. Remova duplicatas, mantendo a primeira ocorrência, e imprima na tela quantas linhas foram removidas"
      ]
    },
    {
      "cell_type": "code",
      "execution_count": null,
      "metadata": {
        "id": "CQYiMTM67cNm"
      },
      "outputs": [],
      "source": []
    }
  ],
  "metadata": {
    "colab": {
      "collapsed_sections": [
        "B3fWe40BtfsC",
        "-2e7e96BtfsW"
      ],
      "provenance": [],
      "include_colab_link": true
    },
    "kernelspec": {
      "display_name": "Python 3",
      "language": "python",
      "name": "python3"
    },
    "language_info": {
      "codemirror_mode": {
        "name": "ipython",
        "version": 3
      },
      "file_extension": ".py",
      "mimetype": "text/x-python",
      "name": "python",
      "nbconvert_exporter": "python",
      "pygments_lexer": "ipython3",
      "version": "3.9.5"
    },
    "toc": {
      "base_numbering": 1,
      "nav_menu": {},
      "number_sections": true,
      "sideBar": true,
      "skip_h1_title": false,
      "title_cell": "Table of Contents",
      "title_sidebar": "Contents",
      "toc_cell": false,
      "toc_position": {},
      "toc_section_display": true,
      "toc_window_display": false
    }
  },
  "nbformat": 4,
  "nbformat_minor": 0
}
