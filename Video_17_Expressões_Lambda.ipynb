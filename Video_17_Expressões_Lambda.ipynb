{
  "nbformat": 4,
  "nbformat_minor": 0,
  "metadata": {
    "colab": {
      "provenance": [],
      "authorship_tag": "ABX9TyMGDPA23y1tidRnWjKq/jL0",
      "include_colab_link": true
    },
    "kernelspec": {
      "name": "python3",
      "display_name": "Python 3"
    },
    "language_info": {
      "name": "python"
    }
  },
  "cells": [
    {
      "cell_type": "markdown",
      "metadata": {
        "id": "view-in-github",
        "colab_type": "text"
      },
      "source": [
        "<a href=\"https://colab.research.google.com/github/fredericokrohling/1-Python-MBA/blob/main/Video_17_Express%C3%B5es_Lambda.ipynb\" target=\"_parent\"><img src=\"https://colab.research.google.com/assets/colab-badge.svg\" alt=\"Open In Colab\"/></a>"
      ]
    },
    {
      "cell_type": "markdown",
      "source": [
        "Expresoes poderosas que podem ser utilizadas quando precisamos de utilizar uma funcao sem o DEF, por exemplo, dentro de um comprehension.\n",
        "PRECISA SER ASSOCIADA A UM OBJETO, NAO PODEMOS CHAMA-LA DIRETAMENTE\n",
        "\n",
        "Sintaxe:\n",
        "lambra <arg1>,<arg2>:<expressao>\n",
        "# expressao é o que sai do calculo, o seu retorno.\n"
      ],
      "metadata": {
        "id": "DQX5HrTYW6Il"
      }
    },
    {
      "cell_type": "code",
      "execution_count": 1,
      "metadata": {
        "colab": {
          "base_uri": "https://localhost:8080/"
        },
        "id": "C2uZAbHsWuNh",
        "outputId": "e47eb8bd-5cb3-420e-ebc1-95e61257b717"
      },
      "outputs": [
        {
          "output_type": "execute_result",
          "data": {
            "text/plain": [
              "4"
            ]
          },
          "metadata": {},
          "execution_count": 1
        }
      ],
      "source": [
        "#exemplo basico de funcao, elevar um numero ao quadrado\n",
        "def quadrado(x):\n",
        "  return x**2\n",
        "#nao precisa estar em codigo independente e nao precisa usar o print!!\n",
        "quadrado(2)\n"
      ]
    },
    {
      "cell_type": "code",
      "source": [
        "# calculando a mesma coisa usando lambda, forma de chamada e simples.\n",
        "\n",
        "quad = lambda x: x**2\n",
        "quad(9)"
      ],
      "metadata": {
        "colab": {
          "base_uri": "https://localhost:8080/"
        },
        "id": "Tkwue8t2Xu_M",
        "outputId": "cc6a6c6c-f0fa-4f48-cc63-b77d112cd3af"
      },
      "execution_count": 3,
      "outputs": [
        {
          "output_type": "execute_result",
          "data": {
            "text/plain": [
              "81"
            ]
          },
          "metadata": {},
          "execution_count": 3
        }
      ]
    },
    {
      "cell_type": "code",
      "source": [
        "#exemplo de uso no comprehension\n",
        "# Retorna Even para x par e ODD para x impar\n",
        "\n",
        "f = lambda x: 'even' if (x%2 == 0) else 'odd'\n",
        "print(2,f(2))\n",
        "print(5,f(5))\n"
      ],
      "metadata": {
        "colab": {
          "base_uri": "https://localhost:8080/"
        },
        "id": "TGJQ1yxIYdaH",
        "outputId": "27efe5d6-dd40-4932-a6d1-9fc2e721b859"
      },
      "execution_count": 7,
      "outputs": [
        {
          "output_type": "stream",
          "name": "stdout",
          "text": [
            "2 even\n",
            "5 odd\n"
          ]
        }
      ]
    },
    {
      "cell_type": "code",
      "source": [
        "# aproveitando o codigo acima\n",
        "lista_numeros = [1,1,2,3,45,6]\n",
        "odd_or_even = [f(i) for i in lista_numeros]\n",
        "print(odd_or_even)"
      ],
      "metadata": {
        "colab": {
          "base_uri": "https://localhost:8080/"
        },
        "id": "17FMugqUddUK",
        "outputId": "961384bd-c062-4982-a72b-27772ecd9add"
      },
      "execution_count": 9,
      "outputs": [
        {
          "output_type": "stream",
          "name": "stdout",
          "text": [
            "['odd', 'odd', 'even', 'odd', 'odd', 'even']\n"
          ]
        }
      ]
    },
    {
      "cell_type": "code",
      "source": [
        "#filtrar apeanas impares\n",
        "filter_odd = [i for i in lista_numeros if f(i)=='odd']\n",
        "print(filter_odd)"
      ],
      "metadata": {
        "colab": {
          "base_uri": "https://localhost:8080/"
        },
        "id": "FxCWD0Aje18_",
        "outputId": "def6cd1b-a0a8-41fc-bf8c-bc040fae407d"
      },
      "execution_count": 10,
      "outputs": [
        {
          "output_type": "stream",
          "name": "stdout",
          "text": [
            "[1, 1, 3, 45]\n"
          ]
        }
      ]
    },
    {
      "cell_type": "code",
      "source": [
        "cientistas = ['joao zico', 'maria maula', 'fernanda souza']\n",
        "_ = [print(i) for i in cientistas]"
      ],
      "metadata": {
        "colab": {
          "base_uri": "https://localhost:8080/"
        },
        "id": "OTs3Ydj-fiBT",
        "outputId": "f906faeb-6ce3-4563-d6d0-aeca2f358da6"
      },
      "execution_count": 20,
      "outputs": [
        {
          "output_type": "stream",
          "name": "stdout",
          "text": [
            "joao zico\n",
            "maria maula\n",
            "fernanda souza\n"
          ]
        }
      ]
    },
    {
      "cell_type": "code",
      "source": [
        "#DICA - COMANDO HELP - explica a estrutura do comando e o que podemos fazer\n",
        "help(cientistas.sort)"
      ],
      "metadata": {
        "colab": {
          "base_uri": "https://localhost:8080/"
        },
        "id": "2anqaY_zkb5A",
        "outputId": "92085e98-8813-49a5-f798-815e8175e414"
      },
      "execution_count": 12,
      "outputs": [
        {
          "output_type": "stream",
          "name": "stdout",
          "text": [
            "Help on built-in function sort:\n",
            "\n",
            "sort(*, key=None, reverse=False) method of builtins.list instance\n",
            "    Sort the list in ascending order and return None.\n",
            "    \n",
            "    The sort is in-place (i.e. the list itself is modified) and stable (i.e. the\n",
            "    order of two equal elements is maintained).\n",
            "    \n",
            "    If a key function is given, apply it once to each list item and sort them,\n",
            "    ascending or descending, according to their function values.\n",
            "    \n",
            "    The reverse flag can be set to sort in descending order.\n",
            "\n"
          ]
        }
      ]
    },
    {
      "cell_type": "code",
      "source": [
        "\n",
        "print(cientistas[0].split()[-1].lower())"
      ],
      "metadata": {
        "colab": {
          "base_uri": "https://localhost:8080/"
        },
        "id": "n5DQpVeelmpL",
        "outputId": "8a21722c-8382-476d-fdae-517ed4b7dbc8"
      },
      "execution_count": 18,
      "outputs": [
        {
          "output_type": "stream",
          "name": "stdout",
          "text": [
            "alves\n"
          ]
        }
      ]
    },
    {
      "cell_type": "code",
      "source": [
        "# agora com o lambda\n",
        "#split - pega um elemento e separa a sua string em espacos, com o -1 pego o ultimo desses elementos\n",
        "\n",
        "cientistas.sort(key = lambda nome: nome.split()[-1].lower())\n",
        "print(cientistas)"
      ],
      "metadata": {
        "colab": {
          "base_uri": "https://localhost:8080/"
        },
        "id": "A2Wa6lccrs0H",
        "outputId": "7027365e-62ed-4fa3-8827-66da87639c16"
      },
      "execution_count": 21,
      "outputs": [
        {
          "output_type": "stream",
          "name": "stdout",
          "text": [
            "['maria maula', 'fernanda souza', 'joao zico']\n"
          ]
        }
      ]
    },
    {
      "cell_type": "code",
      "source": [
        "# Desafio - Escrever uma expresao que permita receber uma string, com 2 palavras de um nome\n",
        "# rerotne no formato SOBRENOME, NOME. Tudo em caixa alta\n",
        "nomes_artistas = ['Bruce Willis', 'Daniel Craig', 'Marlon Brandon']\n",
        "\n",
        "conversao = [f\"{sobrenome.upper()}, {nome[0].capitalize() + '.'}\" for nome, sobrenome in (nome.split() for nome in nomes_artistas)]\n",
        "print(conversao)\n"
      ],
      "metadata": {
        "colab": {
          "base_uri": "https://localhost:8080/"
        },
        "id": "3nLRyxu3shX1",
        "outputId": "9182599f-2d8c-41d9-f8c3-c8ab4561a0bf"
      },
      "execution_count": 28,
      "outputs": [
        {
          "output_type": "stream",
          "name": "stdout",
          "text": [
            "['WILLIS, B.', 'CRAIG, D.', 'BRANDON, M.']\n"
          ]
        }
      ]
    },
    {
      "cell_type": "code",
      "source": [],
      "metadata": {
        "id": "KThVZk1fsqQX"
      },
      "execution_count": null,
      "outputs": []
    }
  ]
}