{
  "nbformat": 4,
  "nbformat_minor": 0,
  "metadata": {
    "colab": {
      "provenance": [],
      "authorship_tag": "ABX9TyOkfvOLqbIOnFts7Depaf5n",
      "include_colab_link": true
    },
    "kernelspec": {
      "name": "python3",
      "display_name": "Python 3"
    },
    "language_info": {
      "name": "python"
    }
  },
  "cells": [
    {
      "cell_type": "markdown",
      "metadata": {
        "id": "view-in-github",
        "colab_type": "text"
      },
      "source": [
        "<a href=\"https://colab.research.google.com/github/fredericokrohling/1-Python-MBA/blob/main/Video14_Colecoes_aninhadas_e_comprehension.ipynb\" target=\"_parent\"><img src=\"https://colab.research.google.com/assets/colab-badge.svg\" alt=\"Open In Colab\"/></a>"
      ]
    },
    {
      "cell_type": "code",
      "execution_count": null,
      "metadata": {
        "colab": {
          "base_uri": "https://localhost:8080/",
          "height": 181
        },
        "id": "wBawhobY9YBf",
        "outputId": "868ed03b-ce39-49ad-a767-0d7562628cff"
      },
      "outputs": [
        {
          "output_type": "error",
          "ename": "NameError",
          "evalue": "name 'df' is not defined",
          "traceback": [
            "\u001b[0;31m---------------------------------------------------------------------------\u001b[0m",
            "\u001b[0;31mNameError\u001b[0m                                 Traceback (most recent call last)",
            "\u001b[0;32m<ipython-input-1-38089e784b2b>\u001b[0m in \u001b[0;36m<cell line: 1>\u001b[0;34m()\u001b[0m\n\u001b[0;32m----> 1\u001b[0;31m \u001b[0mlista\u001b[0m \u001b[0;34m=\u001b[0m \u001b[0mlist\u001b[0m\u001b[0;34m(\u001b[0m\u001b[0mrange\u001b[0m\u001b[0;34m(\u001b[0m\u001b[0;36m10\u001b[0m\u001b[0;34m,\u001b[0m\u001b[0;34m(\u001b[0m\u001b[0mdf\u001b[0m\u001b[0;34m.\u001b[0m\u001b[0mshape\u001b[0m\u001b[0;34m[\u001b[0m\u001b[0;36m0\u001b[0m\u001b[0;34m]\u001b[0m\u001b[0;34m+\u001b[0m\u001b[0;36m1\u001b[0m\u001b[0;34m)\u001b[0m\u001b[0;34m*\u001b[0m\u001b[0;36m10\u001b[0m\u001b[0;34m,\u001b[0m\u001b[0;36m10\u001b[0m\u001b[0;34m)\u001b[0m\u001b[0;34m)\u001b[0m\u001b[0;34m\u001b[0m\u001b[0;34m\u001b[0m\u001b[0m\n\u001b[0m\u001b[1;32m      2\u001b[0m \u001b[0mdf\u001b[0m\u001b[0;34m[\u001b[0m\u001b[0;34m'id'\u001b[0m\u001b[0;34m]\u001b[0m \u001b[0;34m=\u001b[0m \u001b[0mlista\u001b[0m\u001b[0;34m\u001b[0m\u001b[0;34m\u001b[0m\u001b[0m\n\u001b[1;32m      3\u001b[0m \u001b[0mdf\u001b[0m\u001b[0;34m\u001b[0m\u001b[0;34m\u001b[0m\u001b[0m\n",
            "\u001b[0;31mNameError\u001b[0m: name 'df' is not defined"
          ]
        }
      ],
      "source": [
        "lista = list(range(10,(df.shape[0]+1)*10,10))\n",
        "df['id'] = lista\n"
      ]
    },
    {
      "cell_type": "markdown",
      "source": [],
      "metadata": {
        "id": "ibWQ7ZaJTUAC"
      }
    },
    {
      "cell_type": "markdown",
      "source": [
        "Colecoes aninhadas listas, tuplas ou dicionarios dentro de listas, tuplas ou dicionarios.\n",
        "\n",
        "tuplas sao imutaveis"
      ],
      "metadata": {
        "id": "WWnLmL__TzVU"
      }
    },
    {
      "cell_type": "code",
      "source": [
        "#Lista de tuplas\n",
        "\n",
        "fruta1 = (640, 'morango', 25.0)\n",
        "fruta2 = (230, 'mamao', 5.0)\n",
        "\n",
        "lista = [fruta1, fruta2]\n",
        "print(lista)\n"
      ],
      "metadata": {
        "colab": {
          "base_uri": "https://localhost:8080/"
        },
        "id": "By9z5mnGUEJl",
        "outputId": "8cec0846-925c-4811-d792-290843e3eb84"
      },
      "execution_count": null,
      "outputs": [
        {
          "output_type": "stream",
          "name": "stdout",
          "text": [
            "[(640, 'morango', 25.0), (230, 'mamao', 5.0)]\n"
          ]
        }
      ]
    },
    {
      "cell_type": "code",
      "source": [
        "#acrescentando mais\n",
        "lista.append((12, 'uva', 98))\n",
        "print(lista)\n",
        "lista.sort() #ordena pelo cod identificador em ordem crescente\n",
        "print(lista)"
      ],
      "metadata": {
        "colab": {
          "base_uri": "https://localhost:8080/"
        },
        "id": "Csrcfza_UvVS",
        "outputId": "7021d920-4473-4324-90ef-9da5a67beb54"
      },
      "execution_count": null,
      "outputs": [
        {
          "output_type": "stream",
          "name": "stdout",
          "text": [
            "[(640, 'morango', 25.0), (230, 'mamao', 5.0), (12, 'uva', 98)]\n",
            "[(12, 'uva', 98), (230, 'mamao', 5.0), (640, 'morango', 25.0)]\n"
          ]
        }
      ]
    },
    {
      "cell_type": "code",
      "source": [
        "#lista de listas - usa colchete e elementos separados por virgulas\n",
        "turma1 = [9.5,8.0,10.0]\n",
        "turma2 = [3.0,5.0,6.0]\n",
        "turma3 = [4.0,1.0,9,0]\n",
        "turma4  = [5.0,7.7,10,0]\n",
        "notas = [turma1, turma2]\n",
        "print(notas)\n",
        "notas = notas + turma3 # se faco isso sem colchetes ira inserir os elementos da lista soltos e nao como uma lista de lista\n",
        "\n",
        "#podemos inserir com o append tambem\n",
        "notas.append(turma4)\n",
        "print(notas)\n"
      ],
      "metadata": {
        "colab": {
          "base_uri": "https://localhost:8080/"
        },
        "id": "QWTFd_o6VG3m",
        "outputId": "83540ecd-de3e-4b30-ed51-1744a7c0a86c"
      },
      "execution_count": null,
      "outputs": [
        {
          "output_type": "stream",
          "name": "stdout",
          "text": [
            "[[9.5, 8.0, 10.0], [3.0, 5.0, 6.0]]\n",
            "[[9.5, 8.0, 10.0], [3.0, 5.0, 6.0], 4.0, 1.0, 9, 0, [5.0, 7.7, 10, 0]]\n"
          ]
        }
      ]
    },
    {
      "cell_type": "code",
      "source": [
        "# Aninhando dicionarios e listas\n",
        "# Dicionario usa chaves - o seu primeiro elemento eh o nome do dicionario e o segundo a sua chave\n",
        "#neste exemplo o dic armazena listas\n",
        "notas = {\n",
        "    'Python': { 2020: [1.0,2.4,7.3],\n",
        "               2021: [1.0,4.0,5.6]},\n",
        "    'Redes Neurais': { 2019:[8.0,5.3,2.1],\n",
        "                       2020:[1.3,4.5,6.6],\n",
        "                       2022:[3.6,7.7,9]}\n",
        "\n",
        "    }\n",
        "\n"
      ],
      "metadata": {
        "id": "kQ_XCzLiWlMi"
      },
      "execution_count": null,
      "outputs": []
    },
    {
      "cell_type": "code",
      "source": [
        "#acessando e operando os valores do dicionario\n",
        "notas['Redes Neurais']\n",
        "soma = sum(notas['Python'][2021])\n",
        "print('soma:', soma)\n",
        "# media\n",
        "media = sum(notas['Python'][2021]) /len(notas['Python'][2021])\n",
        "print('media:', media)\n",
        "\n",
        "# para saber o tipo de dados\n",
        "type(notas['Redes Neurais'])\n",
        "\n",
        "\n"
      ],
      "metadata": {
        "colab": {
          "base_uri": "https://localhost:8080/"
        },
        "id": "QR9z51RDRiuw",
        "outputId": "6f5af654-e502-4967-d892-1b34e8cb9475"
      },
      "execution_count": null,
      "outputs": [
        {
          "output_type": "stream",
          "name": "stdout",
          "text": [
            "soma: 10.6\n",
            "media: 3.533333333333333\n"
          ]
        },
        {
          "output_type": "execute_result",
          "data": {
            "text/plain": [
              "dict"
            ]
          },
          "metadata": {},
          "execution_count": 12
        }
      ]
    },
    {
      "cell_type": "code",
      "source": [
        "# Loops em dicionarios, podemos percorrer os indices e seus valores\n",
        "\n",
        "for turma in notas['Redes Neurais']:\n",
        "  print(turma)\n",
        "\n",
        "# Percorrendo os elementos\n",
        "\n",
        "for turma in notas['Redes Neurais'].items():\n",
        "  print(turma[0], (turma[1]))\n",
        "\n",
        "# o zero refere-se ao primeiro elemento, o um ao segundo elemento\n",
        "\n",
        "from statistics import mean\n",
        "\n",
        "for turma in notas['Redes Neurais'].items():\n",
        "  print(turma[0],'- Menor nota:', min(turma[1]))\n",
        "  print(turma[0],'- Nota media:', mean(turma[1]))\n",
        "\n",
        "\n",
        "\n",
        "\n",
        "\n"
      ],
      "metadata": {
        "colab": {
          "base_uri": "https://localhost:8080/"
        },
        "id": "MBTxOquGUctM",
        "outputId": "fae1e95f-bc7d-411b-cfca-7410a10c855e"
      },
      "execution_count": null,
      "outputs": [
        {
          "output_type": "stream",
          "name": "stdout",
          "text": [
            "2019\n",
            "2020\n",
            "2022\n",
            "2019 [8.0, 5.3, 2.1]\n",
            "2020 [1.3, 4.5, 6.6]\n",
            "2022 [3.6, 7.7, 9]\n",
            "2019 - Menor nota: 2.1\n",
            "2019 - Nota media: 5.133333333333333\n",
            "2020 - Menor nota: 1.3\n",
            "2020 - Nota media: 4.133333333333333\n",
            "2022 - Menor nota: 3.6\n",
            "2022 - Nota media: 6.766666666666667\n"
          ]
        }
      ]
    },
    {
      "cell_type": "code",
      "source": [
        "#COMPREHENSION\n",
        "# Recurso que permite aplicar uma operacao para cada item de uma sequencia de forma diferente\n",
        "# Usar o Comp equivale a fazer um loop no objeto e aplicar uma expressao a cada elemento\n",
        "# Vantagem - performance. Sintaxe: lista = [expressao for variavel_local in objeto]\n",
        "\n",
        "#criar lista com o quadrado dos numeros de 1 a 10\n",
        "%%timeit\n",
        "liquad = [x**2 for x in range(1,11)]\n",
        "\n",
        "\n",
        "\n"
      ],
      "metadata": {
        "colab": {
          "base_uri": "https://localhost:8080/"
        },
        "id": "vBYJq3CWFGy2",
        "outputId": "92f29f8e-1960-4b2f-e5b2-9d8283fa8bc5"
      },
      "execution_count": null,
      "outputs": [
        {
          "output_type": "stream",
          "name": "stdout",
          "text": [
            "4.59 µs ± 932 ns per loop (mean ± std. dev. of 7 runs, 100000 loops each)\n"
          ]
        }
      ]
    },
    {
      "cell_type": "code",
      "source": [
        "# similar\n",
        "\n",
        "%%timeit\n",
        "liquad2 =[]\n",
        "\n",
        "for i in range(1,11):\n",
        "  liquad2.append(i**2)\n",
        "#print(liquad)"
      ],
      "metadata": {
        "colab": {
          "base_uri": "https://localhost:8080/"
        },
        "id": "SsU1HrqMS9FW",
        "outputId": "d99adcd6-8839-47da-ccb3-d0ada5b99b88"
      },
      "execution_count": null,
      "outputs": [
        {
          "output_type": "stream",
          "name": "stdout",
          "text": [
            "3.29 µs ± 47.9 ns per loop (mean ± std. dev. of 7 runs, 100000 loops each)\n"
          ]
        }
      ]
    },
    {
      "cell_type": "code",
      "source": [
        "import random as rd\n",
        "n = 20\n",
        "rand_num = [rd.randint(1,11) for _ in range(n)]\n",
        "print(rand_num)\n",
        "\n",
        "# podemos usar o _ quando nao precisamos armazenar uma variavel."
      ],
      "metadata": {
        "colab": {
          "base_uri": "https://localhost:8080/"
        },
        "id": "6fkMA-KzH2xX",
        "outputId": "82a75cf4-dc51-4678-aa67-f5e12f03fdc0"
      },
      "execution_count": null,
      "outputs": [
        {
          "output_type": "stream",
          "name": "stdout",
          "text": [
            "[7, 9, 9, 10, 6, 11, 2, 9, 11, 1, 11, 4, 3, 1, 9, 3, 9, 5, 10, 5]\n"
          ]
        }
      ]
    },
    {
      "cell_type": "code",
      "source": [
        "import random as rd\n",
        "\n",
        "lista = []"
      ],
      "metadata": {
        "id": "OmuKrWm4QQAV"
      },
      "execution_count": null,
      "outputs": []
    },
    {
      "cell_type": "code",
      "source": [],
      "metadata": {
        "id": "kJajbyLbiAWg"
      },
      "execution_count": null,
      "outputs": []
    },
    {
      "cell_type": "code",
      "source": [
        "#Exercicio 2.1\n",
        "def gerar_lista(n, p):\n",
        "    return [round(i * p, 5) for i in range(n)]\n",
        "\n"
      ],
      "metadata": {
        "id": "Q4F12KD7Jdaq"
      },
      "execution_count": 4,
      "outputs": []
    },
    {
      "cell_type": "code",
      "source": [
        "#2.1\n",
        "n = 4  # Número de valores\n",
        "p = 0.122  # Passo\n",
        "lista_gerada = gerar_lista(n, p)\n",
        "print(lista_gerada)\n"
      ],
      "metadata": {
        "colab": {
          "base_uri": "https://localhost:8080/"
        },
        "id": "XHB6ugWljrpe",
        "outputId": "31a273ea-a136-4f0f-a7ff-1c21e4a0b358"
      },
      "execution_count": 6,
      "outputs": [
        {
          "output_type": "stream",
          "name": "stdout",
          "text": [
            "[0.0, 0.122, 0.244, 0.366]\n"
          ]
        }
      ]
    },
    {
      "cell_type": "code",
      "source": [
        "def gerar_lista2(n, p):\n",
        "    return [round(i * p, 5) for i in range(n)]\n",
        "\n"
      ],
      "metadata": {
        "id": "s_zjazPnlw64"
      },
      "execution_count": 7,
      "outputs": []
    },
    {
      "cell_type": "code",
      "source": [
        "# Exemplo de uso\n",
        "n = 5  # Número de valores\n",
        "p = 0.1  # Passo\n",
        "lista_gerada = gerar_lista2(n, p)\n",
        "print(lista_gerada)"
      ],
      "metadata": {
        "colab": {
          "base_uri": "https://localhost:8080/"
        },
        "id": "Vzb_xQA7lw_9",
        "outputId": "23c488fe-662f-4171-8a04-a7e14415cd80"
      },
      "execution_count": 8,
      "outputs": [
        {
          "output_type": "stream",
          "name": "stdout",
          "text": [
            "[0.0, 0.1, 0.2, 0.3, 0.4]\n"
          ]
        }
      ]
    }
  ]
}
