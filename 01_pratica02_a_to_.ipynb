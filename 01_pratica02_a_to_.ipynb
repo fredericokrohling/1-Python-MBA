{
  "nbformat": 4,
  "nbformat_minor": 0,
  "metadata": {
    "colab": {
      "provenance": [],
      "authorship_tag": "ABX9TyP8IcCT04MyhJNlXdhbY5vi",
      "include_colab_link": true
    },
    "kernelspec": {
      "name": "python3",
      "display_name": "Python 3"
    },
    "language_info": {
      "name": "python"
    }
  },
  "cells": [
    {
      "cell_type": "markdown",
      "metadata": {
        "id": "view-in-github",
        "colab_type": "text"
      },
      "source": [
        "<a href=\"https://colab.research.google.com/github/fredericokrohling/1-Python-MBA/blob/main/01_pratica02_a_to_.ipynb\" target=\"_parent\"><img src=\"https://colab.research.google.com/assets/colab-badge.svg\" alt=\"Open In Colab\"/></a>"
      ]
    },
    {
      "cell_type": "code",
      "execution_count": null,
      "metadata": {
        "id": "dCfSbfu3jDMu"
      },
      "outputs": [],
      "source": []
    },
    {
      "cell_type": "code",
      "source": [
        "# ler 3 numeros e imprimir o maior deles\n",
        "n1 = int(input('Digite o 1 numero: '))\n",
        "n2 = int(input('Digite o 2 numero: '))\n",
        "n3 = int(input('Digite o 3 numero: '))\n",
        "\n",
        "if n1 >= n2 and n1 >= n3:\n",
        "  print('o maior numero é o n1 ',n1)\n",
        "\n",
        "elif n2 >= n3:\n",
        "    print('o maior numero é o n2 ',n2)\n",
        "\n",
        "else:\n",
        "  print('o maior numero é o n3 ',n3)"
      ],
      "metadata": {
        "colab": {
          "base_uri": "https://localhost:8080/"
        },
        "id": "sNi89FaQjHj2",
        "outputId": "bc81a097-b7c6-4d77-e68f-389230813d6c"
      },
      "execution_count": null,
      "outputs": [
        {
          "output_type": "stream",
          "name": "stdout",
          "text": [
            "Digite o 1 numero: 5\n",
            "Digite o 2 numero: 6\n",
            "Digite o 3 numero: 4\n",
            "o maior numero é o n2  6\n"
          ]
        }
      ]
    },
    {
      "cell_type": "code",
      "source": [
        "#ler senha\n",
        "\n",
        "senha = input('Digite a senha: ')\n",
        "if senha == 'abc1234':\n",
        "  print('Senha correta! ')\n",
        "else: print('Acesso negado!')"
      ],
      "metadata": {
        "colab": {
          "base_uri": "https://localhost:8080/"
        },
        "id": "QdxbzhGTk7Pv",
        "outputId": "6d5cf0f9-7358-4256-fb82-7ff79e63aa0e"
      },
      "execution_count": null,
      "outputs": [
        {
          "output_type": "stream",
          "name": "stdout",
          "text": [
            "Digite a senha: abc1234\n",
            "Senha correta! \n"
          ]
        }
      ]
    },
    {
      "cell_type": "code",
      "source": [
        "#raizes reais\n",
        "a = float(input('Digite o valor de a: '))\n",
        "b = float(input('Digite o valor de b: '))\n",
        "c = float(input('Digite o valor de c: '))\n",
        "\n",
        "r_delta = (b**2-4*a*c)**(1/2)\n",
        "\n",
        "r1 = (-b+r_delta)/(2*a)\n",
        "r2 = (-b-r_delta)/(2*a)\n",
        "\n",
        "print('As raizes da equacao sao %.2f, %2.f' %(r1,r2))\n"
      ],
      "metadata": {
        "colab": {
          "base_uri": "https://localhost:8080/"
        },
        "id": "P7n3sq-Elk6J",
        "outputId": "8e45e2e5-15b6-4a4b-81d6-fcdc581ccbf8"
      },
      "execution_count": null,
      "outputs": [
        {
          "output_type": "stream",
          "name": "stdout",
          "text": [
            "Digite o valor de a: 1\n",
            "Digite o valor de b: -4\n",
            "Digite o valor de c: 2\n",
            "As raizes da equacao sao 3.41,  1\n"
          ]
        }
      ]
    },
    {
      "cell_type": "code",
      "source": [
        "#calculo idade\n",
        "dia = int(input('Digite o dia do nascimento: '))\n",
        "mes = int(input('Digite o mes do nascimento: '))\n",
        "ano = int(input('Digite o ano do nascimento: '))\n",
        "dd_hj =6\n",
        "mm_hj= 8\n",
        "aa_hj = 2023\n",
        "\n",
        "idade = aa_hj - ano\n",
        "\n",
        "if (mm_hj < mes) or (mm_hj == mes and dd_hj < dia):\n",
        "  idade = idade - 1\n",
        "print('A idade da pessoa é %d anos' %(idade))\n"
      ],
      "metadata": {
        "colab": {
          "base_uri": "https://localhost:8080/"
        },
        "id": "zJhrDwpMpjPE",
        "outputId": "0e52955e-a99e-4380-f87b-a4d0eb8c4ca7"
      },
      "execution_count": null,
      "outputs": [
        {
          "output_type": "stream",
          "name": "stdout",
          "text": [
            "Digite o dia do nascimento: 6\n",
            "Digite o mes do nascimento: 8\n",
            "Digite o ano do nascimento: 1976\n",
            "A idade da pessoa é 47 anos\n"
          ]
        }
      ]
    },
    {
      "cell_type": "code",
      "source": [
        "\n"
      ],
      "metadata": {
        "id": "PajEjdZjHI1W"
      },
      "execution_count": null,
      "outputs": []
    },
    {
      "cell_type": "markdown",
      "source": [
        "# for item in [20,30,40]: // cada rodada assume um valor\n",
        "# for item in range(20,26): // cada rodada assume um valor ate 25. Podemos incluir o passo no range\n",
        "\n",
        "# for intem in 'fred'// cada rodada assume um char da string\n",
        "\n",
        "#break\n",
        "while True:\n",
        "  break (sai e executa a 1 instrucao apos o loop)\n",
        "\n",
        "# continue\n",
        "Abandona os comandos a seguir do loop e volta para a primeira linha  "
      ],
      "metadata": {
        "id": "C7lr4lJsQ52J"
      }
    },
    {
      "cell_type": "code",
      "source": [
        "s= 0\n",
        "for i in range (100, 201, 2):\n",
        "  s = s + i\n",
        "  print(s)"
      ],
      "metadata": {
        "colab": {
          "base_uri": "https://localhost:8080/"
        },
        "id": "fYtMji1CRsSe",
        "outputId": "7c805b35-fbee-47c5-d123-bd718b27eb1d"
      },
      "execution_count": null,
      "outputs": [
        {
          "output_type": "stream",
          "name": "stdout",
          "text": [
            "100\n",
            "202\n",
            "306\n",
            "412\n",
            "520\n",
            "630\n",
            "742\n",
            "856\n",
            "972\n",
            "1090\n",
            "1210\n",
            "1332\n",
            "1456\n",
            "1582\n",
            "1710\n",
            "1840\n",
            "1972\n",
            "2106\n",
            "2242\n",
            "2380\n",
            "2520\n",
            "2662\n",
            "2806\n",
            "2952\n",
            "3100\n",
            "3250\n",
            "3402\n",
            "3556\n",
            "3712\n",
            "3870\n",
            "4030\n",
            "4192\n",
            "4356\n",
            "4522\n",
            "4690\n",
            "4860\n",
            "5032\n",
            "5206\n",
            "5382\n",
            "5560\n",
            "5740\n",
            "5922\n",
            "6106\n",
            "6292\n",
            "6480\n",
            "6670\n",
            "6862\n",
            "7056\n",
            "7252\n",
            "7450\n",
            "7650\n"
          ]
        }
      ]
    },
    {
      "cell_type": "code",
      "source": [
        "s = 0\n",
        "for i in range(0,101):\n",
        "  if i%2 != 0:\n",
        "    s = s+i\n",
        "print(s)\n"
      ],
      "metadata": {
        "colab": {
          "base_uri": "https://localhost:8080/"
        },
        "id": "y9Uiv3s6VjRm",
        "outputId": "b9f4eb34-ac41-4055-8afa-204fbdd92519"
      },
      "execution_count": null,
      "outputs": [
        {
          "output_type": "stream",
          "name": "stdout",
          "text": [
            "2500\n"
          ]
        }
      ]
    },
    {
      "cell_type": "code",
      "source": [
        "num = int(input('Digite um numero: '))\n",
        "primo = True\n",
        "for i in range(num):\n",
        "  if num%i == 0:\n",
        "    primo = False\n",
        "print(primo)\n"
      ],
      "metadata": {
        "colab": {
          "base_uri": "https://localhost:8080/"
        },
        "id": "tgR8O9_zWHF-",
        "outputId": "7dcb2bf6-92ef-460b-e1a2-930170b656d6"
      },
      "execution_count": null,
      "outputs": [
        {
          "output_type": "stream",
          "name": "stdout",
          "text": [
            "Digite um numero: 4\n",
            "False\n"
          ]
        }
      ]
    },
    {
      "cell_type": "code",
      "source": [
        "# Funcoes - encapsulam um conjunto de instrucoes\n",
        "# para importar todas as funcoes de um metodo from math import *\n",
        "\n",
        "\n"
      ],
      "metadata": {
        "id": "UFm2QS3RfnRO"
      },
      "execution_count": null,
      "outputs": []
    },
    {
      "cell_type": "code",
      "source": [],
      "metadata": {
        "id": "sCx-6JlyhbOW"
      },
      "execution_count": null,
      "outputs": []
    }
  ]
}