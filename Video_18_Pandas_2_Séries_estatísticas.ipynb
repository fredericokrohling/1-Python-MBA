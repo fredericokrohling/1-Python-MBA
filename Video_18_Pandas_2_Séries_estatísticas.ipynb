{
  "nbformat": 4,
  "nbformat_minor": 0,
  "metadata": {
    "colab": {
      "provenance": [],
      "authorship_tag": "ABX9TyPAjg0qcs4RAgKzf2AIgwBa",
      "include_colab_link": true
    },
    "kernelspec": {
      "name": "python3",
      "display_name": "Python 3"
    },
    "language_info": {
      "name": "python"
    }
  },
  "cells": [
    {
      "cell_type": "markdown",
      "metadata": {
        "id": "view-in-github",
        "colab_type": "text"
      },
      "source": [
        "<a href=\"https://colab.research.google.com/github/fredericokrohling/1-Python-MBA/blob/main/Video_18_Pandas_2_S%C3%A9ries_estat%C3%ADsticas.ipynb\" target=\"_parent\"><img src=\"https://colab.research.google.com/assets/colab-badge.svg\" alt=\"Open In Colab\"/></a>"
      ]
    },
    {
      "cell_type": "markdown",
      "source": [
        "**Objetivo**\n",
        "Series\n",
        "Estatisticas\n",
        "Filtragem agrupada\n",
        "Limpeza de dados\n",
        "Preparacao de dados\n",
        "[texto do link](https://)"
      ],
      "metadata": {
        "id": "tFxNHCfFxtDI"
      }
    },
    {
      "cell_type": "code",
      "execution_count": 1,
      "metadata": {
        "colab": {
          "base_uri": "https://localhost:8080/"
        },
        "id": "TlusQr5VxleC",
        "outputId": "97a19b45-922d-4934-cd19-9f4dccf4924e"
      },
      "outputs": [
        {
          "output_type": "stream",
          "name": "stdout",
          "text": [
            "0    0.145623\n",
            "1    0.072356\n",
            "2    0.419996\n",
            "3    0.863997\n",
            "4    0.254466\n",
            "5    0.460321\n",
            "6    0.634722\n",
            "7    0.333718\n",
            "8    0.435832\n",
            "9    0.151530\n",
            "dtype: float64\n"
          ]
        }
      ],
      "source": [
        "# Serie - array unidimensional com um determinado tipo de dado\n",
        "# similar a um dicionario, possuindo indice que pode funcionar como chave e valores\n",
        "# pode ser obtida a partir de uma coluna de um dataframe\n",
        "# pode ser criada por meio de um array numpy, dicionario ou escalar\n",
        "import pandas as pd\n",
        "import numpy as np\n",
        "# serie criada por meio do panda series\n",
        "serie_aleat = pd.Series(np.random.rand(10))\n",
        "print(serie_aleat)"
      ]
    },
    {
      "cell_type": "code",
      "source": [
        "#Criando a partir de dicionario, a chave e a placa do carro\n",
        "veic = {\n",
        "    'aa0a':1980,\n",
        "    'bb4c':1993,\n",
        "    'c4vb2':1999,\n",
        "    'r453w':1983}\n"
      ],
      "metadata": {
        "id": "icgC9ed10ZZ9"
      },
      "execution_count": 4,
      "outputs": []
    },
    {
      "cell_type": "code",
      "source": [
        "import numpy as np\n",
        "import pandas as pd\n",
        "\n",
        "s_veic = pd.Series(veic)\n",
        "print(s_veic)"
      ],
      "metadata": {
        "colab": {
          "base_uri": "https://localhost:8080/"
        },
        "id": "8hyFpMSL0zVg",
        "outputId": "0c9b1ab1-b55c-45ae-eb2e-6b7f7ff3c937"
      },
      "execution_count": 8,
      "outputs": [
        {
          "output_type": "stream",
          "name": "stdout",
          "text": [
            "aa0a     1980\n",
            "bb4c     1993\n",
            "c4vb2    1999\n",
            "r453w    1983\n",
            "dtype: int64\n"
          ]
        }
      ]
    },
    {
      "cell_type": "code",
      "source": [
        "# Se comporta de forma similar aos nd arrays\n",
        "s_veic.mean()\n",
        "\n"
      ],
      "metadata": {
        "colab": {
          "base_uri": "https://localhost:8080/"
        },
        "id": "9WDPykNz1J4U",
        "outputId": "df88e07f-1d3e-492c-d081-4a622a0e9fdf"
      },
      "execution_count": 9,
      "outputs": [
        {
          "output_type": "execute_result",
          "data": {
            "text/plain": [
              "1988.75"
            ]
          },
          "metadata": {},
          "execution_count": 9
        }
      ]
    },
    {
      "cell_type": "code",
      "source": [
        "# mostrar os veiculos com ano de fab maior do que a media\n",
        "s_veic[s_veic > s_veic.mean()]"
      ],
      "metadata": {
        "colab": {
          "base_uri": "https://localhost:8080/",
          "height": 146
        },
        "id": "oKz6E2ulXuSr",
        "outputId": "5a7b9d3d-fd3c-4cae-fcb0-8bc198e5e6c9"
      },
      "execution_count": 10,
      "outputs": [
        {
          "output_type": "execute_result",
          "data": {
            "text/plain": [
              "bb4c     1993\n",
              "c4vb2    1999\n",
              "dtype: int64"
            ],
            "text/html": [
              "<div>\n",
              "<style scoped>\n",
              "    .dataframe tbody tr th:only-of-type {\n",
              "        vertical-align: middle;\n",
              "    }\n",
              "\n",
              "    .dataframe tbody tr th {\n",
              "        vertical-align: top;\n",
              "    }\n",
              "\n",
              "    .dataframe thead th {\n",
              "        text-align: right;\n",
              "    }\n",
              "</style>\n",
              "<table border=\"1\" class=\"dataframe\">\n",
              "  <thead>\n",
              "    <tr style=\"text-align: right;\">\n",
              "      <th></th>\n",
              "      <th>0</th>\n",
              "    </tr>\n",
              "  </thead>\n",
              "  <tbody>\n",
              "    <tr>\n",
              "      <th>bb4c</th>\n",
              "      <td>1993</td>\n",
              "    </tr>\n",
              "    <tr>\n",
              "      <th>c4vb2</th>\n",
              "      <td>1999</td>\n",
              "    </tr>\n",
              "  </tbody>\n",
              "</table>\n",
              "</div><br><label><b>dtype:</b> int64</label>"
            ]
          },
          "metadata": {},
          "execution_count": 10
        }
      ]
    },
    {
      "cell_type": "code",
      "source": [
        "s_veic > s_veic.mean()"
      ],
      "metadata": {
        "colab": {
          "base_uri": "https://localhost:8080/",
          "height": 209
        },
        "id": "8L2zjYjPYqMf",
        "outputId": "6813856f-ca42-42f4-ced8-3010504165e4"
      },
      "execution_count": 11,
      "outputs": [
        {
          "output_type": "execute_result",
          "data": {
            "text/plain": [
              "aa0a     False\n",
              "bb4c      True\n",
              "c4vb2     True\n",
              "r453w    False\n",
              "dtype: bool"
            ],
            "text/html": [
              "<div>\n",
              "<style scoped>\n",
              "    .dataframe tbody tr th:only-of-type {\n",
              "        vertical-align: middle;\n",
              "    }\n",
              "\n",
              "    .dataframe tbody tr th {\n",
              "        vertical-align: top;\n",
              "    }\n",
              "\n",
              "    .dataframe thead th {\n",
              "        text-align: right;\n",
              "    }\n",
              "</style>\n",
              "<table border=\"1\" class=\"dataframe\">\n",
              "  <thead>\n",
              "    <tr style=\"text-align: right;\">\n",
              "      <th></th>\n",
              "      <th>0</th>\n",
              "    </tr>\n",
              "  </thead>\n",
              "  <tbody>\n",
              "    <tr>\n",
              "      <th>aa0a</th>\n",
              "      <td>False</td>\n",
              "    </tr>\n",
              "    <tr>\n",
              "      <th>bb4c</th>\n",
              "      <td>True</td>\n",
              "    </tr>\n",
              "    <tr>\n",
              "      <th>c4vb2</th>\n",
              "      <td>True</td>\n",
              "    </tr>\n",
              "    <tr>\n",
              "      <th>r453w</th>\n",
              "      <td>False</td>\n",
              "    </tr>\n",
              "  </tbody>\n",
              "</table>\n",
              "</div><br><label><b>dtype:</b> bool</label>"
            ]
          },
          "metadata": {},
          "execution_count": 11
        }
      ]
    },
    {
      "cell_type": "code",
      "source": [
        "# transformar para Pandas Array, ira perder o indice\n",
        "s_veic.array\n"
      ],
      "metadata": {
        "colab": {
          "base_uri": "https://localhost:8080/"
        },
        "id": "oXlj7iwnYufj",
        "outputId": "b22822b1-c24c-47f0-cd9e-9918d4defb0d"
      },
      "execution_count": 12,
      "outputs": [
        {
          "output_type": "execute_result",
          "data": {
            "text/plain": [
              "<NumpyExtensionArray>\n",
              "[1980, 1993, 1999, 1983]\n",
              "Length: 4, dtype: int64"
            ]
          },
          "metadata": {},
          "execution_count": 12
        }
      ]
    },
    {
      "cell_type": "code",
      "source": [
        "# transformar para NP array\n",
        "s_veic.to_numpy()"
      ],
      "metadata": {
        "colab": {
          "base_uri": "https://localhost:8080/"
        },
        "id": "EkygvHt2ZFz3",
        "outputId": "988459bd-af79-442e-c589-cccddb1c1452"
      },
      "execution_count": 13,
      "outputs": [
        {
          "output_type": "execute_result",
          "data": {
            "text/plain": [
              "array([1980, 1993, 1999, 1983])"
            ]
          },
          "metadata": {},
          "execution_count": 13
        }
      ]
    },
    {
      "cell_type": "code",
      "source": [
        "#importando um arquivo para analise\n",
        "import pandas as pd\n",
        "df = pd.read_csv('countries_data.tsv', sep='\\t')\n",
        "\n",
        "#verificando uma amostra de 8 linhas\n",
        "df.sample(8)\n",
        "\n",
        "#recuperando dados\n",
        "df[['year','pop','lifeExp']]\n",
        "\n",
        "#fazendo consultas mais elaboradas nos dados\n",
        "df.loc[(df['country'] == 'Puerto Rico') & (df['year'] >= 1999), ['year','pop','lifeExp']]\n",
        "\n",
        "# Relembrando que os operadores no Pandas para E, OU e NAO sao: &, |, ~\n",
        "\n",
        "# transformar uma coluna em uma serie, por exemplo para year\n",
        "yearonly = df['year']\n",
        "\n",
        "# verificando o seu tipo\n",
        "type(yearonly)"
      ],
      "metadata": {
        "id": "Cm8-dbzlZ6VV"
      },
      "execution_count": null,
      "outputs": []
    },
    {
      "cell_type": "code",
      "source": [
        "############################ ESTATISTICA !!! ##################################\n",
        "\n",
        "# Funcoes basicas como: mean, std, quantile, min, max. Complexas como: cov(covariance)\n",
        "# e corr(correlation) e describe (gera estatistica descritiva para todas as colunas\n",
        "# numericas ou serie)\n",
        "# Exemplos\n",
        "\n",
        "df['pop'].mean() # calculo da media\n",
        "df.describe # percorre todo o DF e calcula a media, std, min, 25%, 50%, 75% e max\n",
        "\n",
        "# Correlation - mostra se uma coluna possui correlacao com a outra\n",
        "df[['lifeExp', 'pop', 'gpdPercap']].corr()\n",
        "\n",
        "## Comandos Group By groupby() e Aggregate agg()\n",
        "# Aplicacao - qual a expectativa de vida media por ano, considerando todos os paises?\n",
        "\n",
        "df.groupby(['year'])['lifeExp'].mean()\n",
        "\n",
        "# Para usar nossas proprias funcoes ou bib externas utilizamos o AGG.\n",
        "# Ele agrega uma funcao de outra bib para calculos\n",
        "# neste exemplo iremos calcular a media, mas usando o NP.\n",
        "# O mesmo comando existe no pandas, em tese isso nao seria necessario, mas\n",
        "# caso nao exista algo, devemos utilizar o AGG\n",
        "\n",
        "import numpy as np\n",
        "df.groupby(['year'])['lifeExp'].agg(np.mean)\n",
        "\n",
        "# exemplo bacana com AGG, Comprehension e lambda\n",
        "\n",
        "df.groupby(['year'])['pop'].agg([('media', np.mean),\n",
        " ('log10_somapop', lambda val: np.log10(val.sum()))])\n",
        "\n",
        "# eh possivel agrupar com multiplas colunas. Top!! No exemplo abaixo agrupando\n",
        "# por continente e ano!!!\n",
        "\n",
        "yearcont = df.groupby(['year','continent'])[['pop','gpdPercap']].agg([np.mean, np.std])\n",
        "\n",
        "# no exemplo acima, ano e continente se tornam indices.\n",
        "# podemos resetar os indices\n",
        "\n",
        "yearcont = yearcont.reset_index()\n",
        "yearcont.head(10)\n",
        "\n",
        "\n"
      ],
      "metadata": {
        "id": "2ErkhojRcE4N"
      },
      "execution_count": null,
      "outputs": []
    }
  ]
}